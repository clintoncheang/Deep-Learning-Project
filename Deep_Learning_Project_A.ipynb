{
 "cells": [
  {
   "cell_type": "code",
   "execution_count": 1,
   "metadata": {
    "scrolled": true
   },
   "outputs": [
    {
     "name": "stderr",
     "output_type": "stream",
     "text": [
      "/anaconda3/lib/python3.6/site-packages/sklearn/ensemble/weight_boosting.py:29: DeprecationWarning: numpy.core.umath_tests is an internal NumPy module and should not be imported. It will be removed in a future NumPy release.\n",
      "  from numpy.core.umath_tests import inner1d\n",
      "/anaconda3/lib/python3.6/site-packages/sklearn/cross_validation.py:41: DeprecationWarning: This module was deprecated in version 0.18 in favor of the model_selection module into which all the refactored classes and functions are moved. Also note that the interface of the new CV iterators are different from that of this module. This module will be removed in 0.20.\n",
      "  \"This module will be removed in 0.20.\", DeprecationWarning)\n",
      "/anaconda3/lib/python3.6/site-packages/sklearn/grid_search.py:42: DeprecationWarning: This module was deprecated in version 0.18 in favor of the model_selection module into which all the refactored classes and functions are moved. This module will be removed in 0.20.\n",
      "  DeprecationWarning)\n",
      "/anaconda3/lib/python3.6/site-packages/h5py/__init__.py:36: FutureWarning: Conversion of the second argument of issubdtype from `float` to `np.floating` is deprecated. In future, it will be treated as `np.float64 == np.dtype(float).type`.\n",
      "  from ._conv import register_converters as _register_converters\n",
      "Using TensorFlow backend.\n"
     ]
    }
   ],
   "source": [
    "import pandas as pd\n",
    "import numpy as np\n",
    "import matplotlib.pyplot as plt\n",
    "import datetime as dtime\n",
    "import math\n",
    "import seaborn as sns\n",
    "from math import radians\n",
    "from sklearn import preprocessing\n",
    "from sklearn import linear_model\n",
    "from sklearn.metrics import mean_squared_error, r2_score, accuracy_score\n",
    "from sklearn.preprocessing import OneHotEncoder, LabelEncoder\n",
    "from sklearn.ensemble import AdaBoostClassifier, GradientBoostingClassifier, RandomForestClassifier\n",
    "from sklearn.tree import DecisionTreeClassifier\n",
    "from sklearn.linear_model import LogisticRegression\n",
    "from sklearn.model_selection import train_test_split\n",
    "from scipy.cluster.vq import kmeans2, whiten\n",
    "from sklearn.cluster import DBSCAN, KMeans\n",
    "from sklearn.metrics import roc_auc_score\n",
    "from sklearn.grid_search import GridSearchCV\n",
    "from sklearn.datasets import make_classification\n",
    "from sklearn.ensemble import GradientBoostingClassifier\n",
    "from sklearn.metrics import classification_report, confusion_matrix, roc_curve, auc\n",
    "from keras.preprocessing.text import Tokenizer\n",
    "from keras.preprocessing.sequence import pad_sequences\n",
    "import nltk.data\n",
    "import nltk\n",
    "from sklearn import metrics\n",
    "from sklearn import cross_validation\n",
    "from sklearn.model_selection import cross_validate\n",
    "from sklearn.naive_bayes import MultinomialNB\n",
    "from sklearn.model_selection import cross_val_score\n",
    "from sklearn import svm\n",
    "from sklearn.metrics import classification_report\n",
    "from sklearn.neighbors import KNeighborsClassifier\n",
    "from sklearn.svm import SVC\n",
    "from sklearn.metrics import make_scorer, accuracy_score, precision_score, recall_score, f1_score\n",
    "from sklearn.metrics import accuracy_score, confusion_matrix, recall_score, roc_auc_score, precision_score\n",
    "from sklearn.model_selection import cross_val_predict"
   ]
  },
  {
   "cell_type": "code",
   "execution_count": null,
   "metadata": {},
   "outputs": [],
   "source": []
  },
  {
   "cell_type": "code",
   "execution_count": null,
   "metadata": {},
   "outputs": [],
   "source": []
  },
  {
   "cell_type": "code",
   "execution_count": 2,
   "metadata": {},
   "outputs": [],
   "source": [
    "# Converting txt data into Dataframe"
   ]
  },
  {
   "cell_type": "code",
   "execution_count": 3,
   "metadata": {},
   "outputs": [],
   "source": [
    "text_file = open(\"train.txt\", \"r\",encoding=\"utf8\", errors='ignore')\n",
    "lines = text_file.readlines()\n",
    "text_file.close()"
   ]
  },
  {
   "cell_type": "code",
   "execution_count": 4,
   "metadata": {},
   "outputs": [
    {
     "data": {
      "text/plain": [
       "list"
      ]
     },
     "execution_count": 4,
     "metadata": {},
     "output_type": "execute_result"
    }
   ],
   "source": [
    "type(lines)"
   ]
  },
  {
   "cell_type": "code",
   "execution_count": 5,
   "metadata": {},
   "outputs": [
    {
     "name": "stdout",
     "output_type": "stream",
     "text": [
      "882\n"
     ]
    }
   ],
   "source": [
    "import pandas as pd\n",
    "import numpy as np\n",
    "print(len(lines))"
   ]
  },
  {
   "cell_type": "code",
   "execution_count": 6,
   "metadata": {
    "scrolled": true
   },
   "outputs": [],
   "source": [
    "text_file = open(\"label.txt\", \"r\",encoding=\"utf8\", errors='ignore')\n",
    "label = text_file.readlines()\n",
    "text_file.close()\n",
    "# print(len(label))\n",
    "# print(lines[0])"
   ]
  },
  {
   "cell_type": "code",
   "execution_count": 7,
   "metadata": {},
   "outputs": [],
   "source": [
    "df_train = pd.DataFrame(lines)\n",
    "df_labels = pd.DataFrame(label)"
   ]
  },
  {
   "cell_type": "code",
   "execution_count": 8,
   "metadata": {},
   "outputs": [
    {
     "name": "stdout",
     "output_type": "stream",
     "text": [
      "(882, 1)\n",
      "(882, 1)\n"
     ]
    }
   ],
   "source": [
    "print(df_train.shape)\n",
    "print(df_labels.shape)"
   ]
  },
  {
   "cell_type": "code",
   "execution_count": 9,
   "metadata": {},
   "outputs": [
    {
     "name": "stdout",
     "output_type": "stream",
     "text": [
      "                                                   0\n",
      "0  20030006121    Passive radio frequency identif...\n",
      "1  20030009666    Methods and apparatus for effic...\n"
     ]
    }
   ],
   "source": [
    "print(df_train[0:2])"
   ]
  },
  {
   "cell_type": "code",
   "execution_count": 10,
   "metadata": {},
   "outputs": [],
   "source": [
    "#split label and text into different columns\n",
    "df_train['ID'] = df_train.iloc[:,0].str[:11]"
   ]
  },
  {
   "cell_type": "code",
   "execution_count": 11,
   "metadata": {},
   "outputs": [],
   "source": [
    "df_train['text'] = df_train.iloc[:,0].str[12:]"
   ]
  },
  {
   "cell_type": "code",
   "execution_count": 12,
   "metadata": {},
   "outputs": [
    {
     "name": "stdout",
     "output_type": "stream",
     "text": [
      "(882, 3)\n",
      "                                                   0           ID  \\\n",
      "0  20030006121    Passive radio frequency identif...  20030006121   \n",
      "1  20030009666    Methods and apparatus for effic...  20030009666   \n",
      "\n",
      "                                                text  \n",
      "0     Passive radio frequency identification syst...  \n",
      "1     Methods and apparatus for efficient computa...  \n"
     ]
    }
   ],
   "source": [
    "print(df_train.shape)\n",
    "print(df_train[0:2])"
   ]
  },
  {
   "cell_type": "code",
   "execution_count": 13,
   "metadata": {},
   "outputs": [],
   "source": [
    "#drop raw data column\n",
    "df_train = df_train.drop(df_train.columns[0], axis=1)"
   ]
  },
  {
   "cell_type": "code",
   "execution_count": 14,
   "metadata": {},
   "outputs": [
    {
     "name": "stdout",
     "output_type": "stream",
     "text": [
      "(882, 2)\n",
      "            ID                                               text\n",
      "0  20030006121     Passive radio frequency identification syst...\n",
      "1  20030009666     Methods and apparatus for efficient computa...\n"
     ]
    }
   ],
   "source": [
    "print(df_train.shape)\n",
    "print(df_train[0:2])"
   ]
  },
  {
   "cell_type": "code",
   "execution_count": null,
   "metadata": {},
   "outputs": [],
   "source": []
  },
  {
   "cell_type": "code",
   "execution_count": 15,
   "metadata": {},
   "outputs": [],
   "source": [
    "#trim leading and trailing whitespaces\n",
    "df_train['text'] = df_train['text'].str.strip()"
   ]
  },
  {
   "cell_type": "code",
   "execution_count": 16,
   "metadata": {},
   "outputs": [
    {
     "name": "stdout",
     "output_type": "stream",
     "text": [
      "            ID                                               text\n",
      "0  20030006121  Passive radio frequency identification system ...\n",
      "1  20030009666  Methods and apparatus for efficient computatio...\n",
      "2  20030014337  Systems, methods and computer program products...\n"
     ]
    }
   ],
   "source": [
    "print(df_train.loc[0:2])"
   ]
  },
  {
   "cell_type": "code",
   "execution_count": 17,
   "metadata": {},
   "outputs": [
    {
     "name": "stdout",
     "output_type": "stream",
     "text": [
      "                  0\n",
      "0  20030006121\\t8\\n\n",
      "1  20030009666\\t0\\n\n",
      "2  20030014337\\t8\\n\n"
     ]
    }
   ],
   "source": [
    "print(df_labels.loc[0:2])"
   ]
  },
  {
   "cell_type": "code",
   "execution_count": 18,
   "metadata": {},
   "outputs": [],
   "source": [
    "#assiging column name\n",
    "df_labels.columns = ['raw']"
   ]
  },
  {
   "cell_type": "code",
   "execution_count": 19,
   "metadata": {},
   "outputs": [
    {
     "name": "stdout",
     "output_type": "stream",
     "text": [
      "                raw Label\n",
      "0  20030006121\\t8\\n   8\\n\n",
      "1  20030009666\\t0\\n   0\\n\n",
      "2  20030014337\\t8\\n   8\\n\n"
     ]
    }
   ],
   "source": [
    "#extracting labels from raw data and creating a new column\n",
    "df_labels['Label'] = df_labels.iloc[:,0].str[12:]\n",
    "print(df_labels.loc[0:2])"
   ]
  },
  {
   "cell_type": "code",
   "execution_count": 20,
   "metadata": {},
   "outputs": [
    {
     "name": "stdout",
     "output_type": "stream",
     "text": [
      "                raw  Label           ID\n",
      "0  20030006121\\t8\\n      8  20030006121\n",
      "1  20030009666\\t0\\n      0  20030009666\n",
      "2  20030014337\\t8\\n      8  20030014337\n"
     ]
    }
   ],
   "source": [
    "#extracting id from the raw data column and removing redundant characters from label column\n",
    "df_labels['ID'] = df_labels['raw'].astype(str).str[:-2].astype(np.int64)\n",
    "df_labels['Label'] = df_labels['Label'].astype(str).str[:-1].astype(np.int64)\n",
    "print(df_labels.loc[0:2])"
   ]
  },
  {
   "cell_type": "code",
   "execution_count": 21,
   "metadata": {},
   "outputs": [
    {
     "name": "stdout",
     "output_type": "stream",
     "text": [
      "   Label           ID\n",
      "0      8  20030006121\n",
      "1      0  20030009666\n",
      "2      8  20030014337\n"
     ]
    }
   ],
   "source": [
    "#drop raw data column\n",
    "df_labels = df_labels.drop(df_labels.columns[0], axis=1)\n",
    "print(df_labels.loc[0:2])"
   ]
  },
  {
   "cell_type": "code",
   "execution_count": 22,
   "metadata": {},
   "outputs": [
    {
     "name": "stdout",
     "output_type": "stream",
     "text": [
      "<class 'str'>\n",
      "<class 'numpy.int64'>\n"
     ]
    },
    {
     "name": "stderr",
     "output_type": "stream",
     "text": [
      "/anaconda3/lib/python3.6/site-packages/ipykernel_launcher.py:1: DeprecationWarning: \n",
      ".ix is deprecated. Please use\n",
      ".loc for label based indexing or\n",
      ".iloc for positional indexing\n",
      "\n",
      "See the documentation here:\n",
      "http://pandas.pydata.org/pandas-docs/stable/indexing.html#ix-indexer-is-deprecated\n",
      "  \"\"\"Entry point for launching an IPython kernel.\n",
      "/anaconda3/lib/python3.6/site-packages/ipykernel_launcher.py:2: DeprecationWarning: \n",
      ".ix is deprecated. Please use\n",
      ".loc for label based indexing or\n",
      ".iloc for positional indexing\n",
      "\n",
      "See the documentation here:\n",
      "http://pandas.pydata.org/pandas-docs/stable/indexing.html#ix-indexer-is-deprecated\n",
      "  \n"
     ]
    }
   ],
   "source": [
    "print(type(df_train.ix[0,\"ID\"]))\n",
    "print(type(df_labels.ix[0,\"ID\"]))"
   ]
  },
  {
   "cell_type": "code",
   "execution_count": 23,
   "metadata": {},
   "outputs": [],
   "source": [
    "#Ensure both the ID columns have the same data type to avoid any error while merging the data frames\n",
    "df_labels[\"ID\"] = df_labels[\"ID\"].astype(str)"
   ]
  },
  {
   "cell_type": "code",
   "execution_count": 24,
   "metadata": {},
   "outputs": [
    {
     "name": "stdout",
     "output_type": "stream",
     "text": [
      "            ID                                               text  Label\n",
      "0  20030006121  Passive radio frequency identification system ...      8\n",
      "1  20030009666  Methods and apparatus for efficient computatio...      0\n",
      "2  20030014337  Systems, methods and computer program products...      8\n"
     ]
    }
   ],
   "source": [
    "#merging two data frames\n",
    "df = pd.merge(df_train,\n",
    "                 df_labels,\n",
    "                 on='ID')\n",
    "\n",
    "print(df.loc[0:2])"
   ]
  },
  {
   "cell_type": "code",
   "execution_count": null,
   "metadata": {},
   "outputs": [],
   "source": [
    "#Save the dataframe as csv file\n",
    "df.to_csv('data.csv')"
   ]
  },
  {
   "cell_type": "code",
   "execution_count": null,
   "metadata": {},
   "outputs": [],
   "source": []
  },
  {
   "cell_type": "markdown",
   "metadata": {},
   "source": [
    "# Data Processing"
   ]
  },
  {
   "cell_type": "code",
   "execution_count": 25,
   "metadata": {},
   "outputs": [
    {
     "data": {
      "text/plain": [
       "0    passive radio frequency identification system ...\n",
       "1    methods and apparatus for efficient computatio...\n",
       "2    systems, methods and computer program products...\n",
       "3    system and method for electronically readable ...\n",
       "4    system and method for automated process of dea...\n",
       "Name: text, dtype: object"
      ]
     },
     "execution_count": 25,
     "metadata": {},
     "output_type": "execute_result"
    }
   ],
   "source": [
    "#Lower Case\n",
    "df['text'] = df['text'].apply(lambda x: \" \".join(x.lower() for x in x.split()))\n",
    "df['text'].head()"
   ]
  },
  {
   "cell_type": "code",
   "execution_count": 26,
   "metadata": {},
   "outputs": [
    {
     "data": {
      "text/plain": [
       "0    passive radio frequency identification system ...\n",
       "1    methods and apparatus for efficient computatio...\n",
       "2    systems methods and computer program products ...\n",
       "3    system and method for electronically readable ...\n",
       "4    system and method for automated process of dea...\n",
       "Name: text, dtype: object"
      ]
     },
     "execution_count": 26,
     "metadata": {},
     "output_type": "execute_result"
    }
   ],
   "source": [
    "#Remove Punctuation\n",
    "df['text'] = df['text'].str.replace('[^\\w\\s]','')\n",
    "df['text'].head()"
   ]
  },
  {
   "cell_type": "code",
   "execution_count": 27,
   "metadata": {},
   "outputs": [
    {
     "data": {
      "text/plain": [
       "0    passive radio frequency identification system ...\n",
       "1    methods apparatus efficient computation oneway...\n",
       "2    systems methods computer program products perf...\n",
       "3    system method electronically readable card pow...\n",
       "4    system method automated process deal structuri...\n",
       "Name: text, dtype: object"
      ]
     },
     "execution_count": 27,
     "metadata": {},
     "output_type": "execute_result"
    }
   ],
   "source": [
    "#Remove Stopwords\n",
    "#import nltk\n",
    "#nltk.download('stopwords')\n",
    "from nltk.corpus import stopwords\n",
    "stop = stopwords.words('english')\n",
    "df['text'] = df['text'].apply(lambda x: \" \".join(x for x in x.split() if x not in stop))\n",
    "df['text'].head()"
   ]
  },
  {
   "cell_type": "code",
   "execution_count": 28,
   "metadata": {},
   "outputs": [
    {
     "data": {
      "text/plain": [
       "may              165856\n",
       "data              80094\n",
       "user              78796\n",
       "system            77428\n",
       "transaction       75169\n",
       "one               67899\n",
       "payment           67298\n",
       "device            65938\n",
       "information       65207\n",
       "account           62264\n",
       "example           45461\n",
       "mobile            39757\n",
       "andor             37496\n",
       "card              36974\n",
       "associated        33185\n",
       "embodiments       30355\n",
       "embodiment        30331\n",
       "network           28984\n",
       "method            28769\n",
       "include           28730\n",
       "financial         28681\n",
       "eg                28583\n",
       "fig               28547\n",
       "computer          27933\n",
       "used              27477\n",
       "invention         26462\n",
       "wherein           25988\n",
       "server            25987\n",
       "number            25977\n",
       "merchant          25829\n",
       "customer          25759\n",
       "first             25694\n",
       "application       24325\n",
       "based             23460\n",
       "also              23265\n",
       "step              22182\n",
       "credit            22125\n",
       "using             21512\n",
       "request           21404\n",
       "communication     20870\n",
       "service           20782\n",
       "said              20386\n",
       "amount            19699\n",
       "claim             19380\n",
       "least             19377\n",
       "time              18918\n",
       "value             18756\n",
       "present           18387\n",
       "consumer          18112\n",
       "processing        18079\n",
       "dtype: int64"
      ]
     },
     "execution_count": 28,
     "metadata": {},
     "output_type": "execute_result"
    }
   ],
   "source": [
    "#Identify top 50 common words\n",
    "freq = pd.Series(' '.join(df['text']).split()).value_counts()[:50]\n",
    "freq"
   ]
  },
  {
   "cell_type": "code",
   "execution_count": 29,
   "metadata": {},
   "outputs": [
    {
     "data": {
      "text/plain": [
       "0    passive radio frequency identification identif...\n",
       "1    methods apparatus efficient computation oneway...\n",
       "2    systems methods program products performing ge...\n",
       "3    electronically readable power source improved ...\n",
       "4    automated process deal structuring automated d...\n",
       "Name: text, dtype: object"
      ]
     },
     "execution_count": 29,
     "metadata": {},
     "output_type": "execute_result"
    }
   ],
   "source": [
    "#top 50 common word removal\n",
    "freq = list(freq.index)\n",
    "df['text'] = df['text'].apply(lambda x: \" \".join(x for x in x.split() if x not in freq))\n",
    "df['text'].head()"
   ]
  },
  {
   "cell_type": "code",
   "execution_count": 30,
   "metadata": {},
   "outputs": [
    {
     "data": {
      "text/plain": [
       "WordList(['methods', 'apparatus', 'efficient', 'computation', 'oneway', 'chains', 'cryptographic', 'applications', 'techniques', 'disclosed', 'efficient', 'computation', 'consecutive', 'values', 'oneway', 'chains', 'oneway', 'graphs', 'cryptographic', 'applications', 'oneway', 'chain', 'graph', 'chain', 'length', 'positions', 'i1', '2', 'corresponding', 'vl', 'therewith', 'vi', 'given', 'vih', 'vl1', 'given', 'hash', 'function', 'oneway', 'function', 'h', 'initial', 'distribution', 'helper', 'values', 'stored', 'oneway', 'chain', 'length', 'positions', 'given', 'i2j', '0jlog2', 'given', 'output', 'values', 'vi', 'current', 'position', 'oneway', 'chain', 'computed', 'utilizing', 'helper', 'previously', 'stored', 'another', 'position', 'oneway', 'chain', 'current', 'position', 'endpoint', 'chain', 'computation', 'given', 'output', 'positions', 'helper', 'values', 'adjusted', 'facilitate', 'computation', 'subsequent', 'output', 'values', 'advantageously', 'storagecomputation', 'product', 'generation', 'output', 'values', 'oneway', 'chain', 'complexity', 'olog', 's2', 'field', '0002', 'relates', 'generally', 'field', 'cryptography', 'particularly', 'techniques', 'computing', 'consecutive', 'values', 'oneway', 'chains', 'types', 'oneway', 'graphs', 'cryptographic', 'applications', 'encryption', 'decryption', 'digital', 'signatures', 'message', 'authentication', 'authentication', 'micropayments', 'etc', 'background', '0003', 'oneway', 'function', 'function', 'f', 'compute', 'yfx', 'given', 'x', 'computationally', 'infeasible', 'compute', 'x', 'given', 'unless', 'socalled', 'trap', 'door', 'known', 'particular', 'oneway', 'functions', 'trap', 'doors', 'context', 'x', 'called', 'preimage', 'called', 'image', 'x', 'relative', 'function', 'f', 'examples', 'oneway', 'functions', 'hash', 'functions', 'wellknown', 'sha1', 'md5', 'hashing', 'algorithms', 'functions', 'generating', 'message', 'authentication', 'codes', 'macs', 'additional', 'details', 'regarding', 'oneway', 'functions', 'see', 'j', 'menezes', 'et', 'al', 'handbook', 'applied', 'cryptography', 'crc', 'press', '1997', 'incorporated', 'reference', 'herein', '0004', 'many', 'cryptographic', 'applications', 'desirable', 'compute', 'socalled', 'oneway', 'chain', 'sequence', 'values', 'v1', 'vs', 'vi1fvi', 'generally', 'v11fgvi', 'g', 'function', 'maps', 'input', 'size', 'output', 'hash', 'chain', 'oneway', 'function', 'h', 'size', 'input', 'function', 'h', 'particular', 'g', 'could', 'truncation', 'right', 'length', 'padding', 'right', 'length', 'similar', 'mapping', 'function', 'well', 'known', 'skilled', 'art', 'known', 'h', 'function', 'accepts', 'input', 'arbitrary', 'length', 'hash', 'functions', 'need', 'use', 'function', 'g', 'alternatively', 'could', 'say', 'g', 'situation', 'identity', 'function', 'order', 'simplify', 'notation', 'herein', 'potential', 'use', 'function', 'g', 'shown', 'explicitly', 'understood', 'appropriately', 'built', 'functionality', 'oneway', 'function', 'h', 'needed', '0005', 'noted', 'use', 'different', 'functions', 'different', 'steps', 'chain', 'chain', 'refers', 'generation', 'given', 'chain', 'output', 'previous', 'chain', 'similarly', 'could', 'allow', 'auxiliary', 'inputs', 'various', 'steps', 'simplicity', 'illustration', 'particular', 'variants', 'explicitly', 'described', 'herein', 'skilled', 'art', 'recognize', 'oneway', 'chains', 'configured', 'variants', '0006', 'oneway', 'chain', 'type', 'described', 'computed', 'starting', 'vs', 'computing', 'vs1', 'oneway', 'function', 'vs', 'computing', 'vs2', 'oneway', 'function', 'vs1', 'general', 'case', 'computation', 'yfx', 'since', 'input', 'oneway', 'function', 'next', 'link', 'chain', 'important', 'reason', 'chains', 'represent', 'oneway', 'chain', 'v1', 'vs', 'computed', 'party', 'endpoint', 'vs', 'v1', 'chain', 'given', 'second', 'party', 'party', 'increment', 'showing', 'consecutive', 'preimages', 'v2', 'v3', 'etc', 'second', 'party', 'note', 'second', 'party', 'can', 'not', 'compute', 'consecutive', 'preimages', 'v1', 'however', 'given', 'preimage', 'v2', 'second', 'party', 'verify', 'correctness', 'preimage', 'checking', 'v1fv2', 'v3', 'verification', 'would', 'two', 'steps', 'v2', 'computed', 'second', 'v1', 'computed', 'compared', 'known', 'v1', '0007', 'another', 'known', 'use', 'oneway', 'chains', 'representation', 'money', 'mechanism', 'micropayments', 'party', 'generates', 'oneway', 'chain', 'authenticated', 'bank', 'via', 'digital', 'signature', 'endpoint', 'vs', 'chain', 'party', 'pay', 'second', 'party', 'unit', 'revealing', 'v2', 'second', 'party', 'take', 'bank', 'obtain', 'funds', 'party', 'pay', 'second', 'unit', 'second', 'party', 'revealing', 'v3', 'note', 'simple', 'applicable', 'single', 'payee', '0008', 'oneway', 'chains', 'computing', 'keys', 'verifying', 'authenticity', 'messages', 'macs', 'see', 'perrig', 'et', 'al', 'efficient', 'secure', 'source', 'authentication', 'multicast', 'proceedings', 'distributed', 'security', 'symposiumndss', '2001', 'february', '2001', 'perrig', 'et', 'al', 'efficient', 'authentication', 'signing', 'multicast', 'streams', 'lossy', 'channels', 'proc', 'ieee', 'security', 'privacy', 'symposium', 'sp', '2000', '2000', 'perrig', 'et', 'al', 'tesla', 'multicast', 'source', 'authentication', 'transform', 'proposed', 'irtf', 'draft', 'httppariscsberkeleyeduperrig', 'incorporated', 'reference', 'herein', 'approach', 'would', 'compute', 'broadcast', 'message', 'corresponding', 'mac', 'interval', 'release', 'key', 'later', 'interval', 'recipients', 'could', 'verify', 'mac', 'key', 'released', 'would', 'trust', 'authenticity', 'message', 'knowledge', 'sender', 'could', 'known', 'key', 'mac', 'broadcast', 'key', 'verified', 'applying', 'hash', 'function', 'key', 'comparing', 'result', 'less', 'recent', 'key', 'chain', 'therefore', 'sender', '0009', 'conventional', 'use', 'oneway', 'chains', 'applications', 'suffers', 'significant', 'drawback', 'order', 'output', 'consecutive', 'chain', 'values', 'values', 'must', 'either', 'stored', 'computed', 'values', 'output', 'directly', 'storage', 'without', 'computation', 'party', 'generally', 'must', 'store', 'values', 'alternatively', 'values', 'computed', 'needed', 'party', 'must', 'compute', 'given', 'endpoint', 'vs', 'iterated', 'function', 'assuming', 'trap', 'door', 'function', 'party', 'knows', 'trap', 'door', 'wishes', 'use', 'trap', 'door', 'case', 'storage', 'without', 'computation', 'party', 'needs', 'use', 'storage', 'proportional', 'length', 'chain', 'words', 'storage', 'os', 'denotes', 'order', 'case', 'computation', 'needed', 'party', 'needs', 'use', 'computation', 'os', '0010', 'excessive', 'storagecomputation', 'product', 'conventional', 'oneway', 'chain', 'computation', 'particularly', 'problematic', 'socalled', 'lightweight', 'devices', 'telephones', 'smart', 'cards', 'personal', 'digital', 'assistants', 'pdas', 'types', 'wireless', 'portable', 'devices', 'generally', 'limited', 'storage', 'computational', 'resources', 'often', 'due', 'part', 'use', 'battery', 'power', 'devices', 'examples', 'socalled', 'smart', 'dust', 'dust', 'computers', 'refer', 'small', 'computational', 'devices', 'collectively', 'cover', 'large', 'area', 'purposes', 'surveillance', 'seismic', 'military', '0011', 'many', 'cases', 'storage', 'computational', 'costs', 'conventional', 'oneway', 'chain', 'computations', 'make', 'difficult', 'impossible', 'implement', 'standard', 'cryptographic', 'techniques', 'devices', '0012', 'need', 'therefore', 'exists', 'improved', 'techniques', 'computing', 'consecutive', 'preimage', 'values', 'oneway', 'chains', 'oneway', 'graphs', 'abovenoted', 'storage', 'computational', 'costs', 'substantially', 'reduced', 'thereby', 'improving', 'efficiency', 'cryptographic', 'techniques', 'permitting', 'implementation', 'techniques', 'lightweight', 'devices', 'summary', '0013', 'meets', 'abovedescribed', 'need', 'providing', 'methods', 'apparatus', 'efficient', 'computation', 'consecutive', 'values', 'oneway', 'chains', 'oneway', 'graphs', 'accordance', 'aspect', 'helper', 'values', 'positioned', 'utilized', 'manner', 'substantially', 'reduces', 'storagecomputation', 'product', 'generating', 'chain', 'values', 'particularly', 'storagecomputation', 'product', 'reduced', 'techniques', 'order', 'square', 'logarithm', 'chain', 'length', 'ie', 'olog', 's2', 'rather', 'order', 'chain', 'length', 'ie', 'os', 'conventional', 'approaches', 'previously', 'described', '0014', 'illustrative', 'oneway', 'chain', 'chain', 'length', 'positions', 'i1', '2', 'corresponding', 'vi', 'therewith', 'vi', 'given', 'vih', 'vi1', 'particular', 'hash', 'function', 'oneway', 'function', 'h', 'initial', 'distribution', 'helper', 'values', 'stored', 'oneway', 'chain', 'length', 'positions', 'given', 'i2j', '0jlog2', 'given', 'output', 'values', 'vi', 'current', 'position', 'oneway', 'chain', 'computed', 'utilizing', 'helper', 'previously', 'stored', 'another', 'position', 'oneway', 'chain', 'current', 'position', 'endpoint', 'chain', 'computation', 'given', 'output', 'positions', 'helper', 'values', 'adjusted', 'facilitate', 'computation', 'subsequent', 'output', 'values', '0015', 'accordance', 'another', 'aspect', 'helper', 'values', 'initial', 'distribution', 'helper', 'values', 'within', 'oneway', 'chain', 'corresponds', 'peg', 'peg', 'therewith', 'addition', 'helper', 'destination', 'position', 'chain', 'priority', 'indicator', 'state', 'upon', 'computation', 'given', 'output', 'values', 'pegs', 'relocated', 'new', 'positions', 'oneway', 'chain', 'relocated', 'pegs', 'new', 'helper', 'values', 'computed', '0016', 'peg', 'relocation', 'process', 'preferably', 'configured', 'position', 'chain', 'corresponding', 'output', 'vi', 'computed', 'pegs', 'relocated', 'within', 'specified', 'computational', 'budget', 'pegs', 'utilized', 'oneway', 'chain', 'illustrative', 'given', 'approximately', 'log2', '1', 's2', 'length', 'chain', 'specified', 'computational', 'budget', 'given', 'approximately', 'budget', 'b2', 'particular', 'numerical', '31', 's2312147109', 'budget', 'b', '15', 'indicating', 'chain', 'require', 'maximum', '15', 'hash', 'function', 'applications', 'compute', 'n36', 'pegs', 'required', 'implemented', '20', 'bytes', 'store', 'helper', 'assuming', 'use', 'wellknown', 'sha1', 'hash', 'function', 'plus', 'additional', '8', 'bytes', 'storing', 'state', 'results', 'total', 'required', 'storage', '362081008', 'bytes', 'oneway', 'chain', 'implemented', 'requires', 'output', 'chain', 'per', 'second', 'chain', 'would', 'last', '68', 'years', 'claimed', '1', 'generating', 'output', 'values', 'oneway', 'chain', 'oneway', 'chain', 'starting', 'point', 'endpoint', 'comprising', 'steps', 'computing', 'given', 'output', 'values', 'current', 'position', 'oneway', 'chain', 'utilizing', 'helper', 'previously', 'stored', 'another', 'position', 'oneway', 'chain', 'current', 'position', 'endpoint', 'chain', 'computing', 'second', 'helper', 'new', 'position', 'chain', 'current', 'position', 'endpoint', 'chain', 'second', 'helper', 'utilizable', 'facilitate', 'subsequent', 'computation', 'another', 'output', 'values', '2', '1', 'oneway', 'chain', 'comprises', 'linear', 'chain', 'values', 'single', 'starting', 'point', 'single', 'endpoint', '3', '1', 'oneway', 'chain', 'comprises', 'tree', 'graph', 'structure', 'multiple', 'starting', 'points', 'multiple', 'endpoints', '4', '1', 'oneway', 'chain', 'comprises', 'chain', 'length', 'positions', 'i1', '2', 'corresponding', 'vl', 'therewith', 'vi', 'given', 'vlhvi1', 'given', 'oneway', 'function', 'h', '5', '4', 'function', 'h', 'comprises', 'hash', 'function', '6', '1', 'storagecomputation', 'product', 'generation', 'output', 'values', 'oneway', 'chain', 'complexity', 'olog', 's2', 'denotes', 'length', 'chain', '7', '1', 'including', 'determining', 'endpoint', 'starting', 'point', 'oneway', 'chain', 'selecting', 'endpoint', 'random', 'designated', 'space', 'computing', 'starting', 'point', 'repeated', 'oneway', 'function', 'selected', 'endpoint', '8', '1', 'including', 'storing', 'initial', 'distribution', 'helper', 'values', 'oneway', 'chain', 'helper', 'values', 'positions', 'given', 'i2j', '0jlog2', 'length', 'chain', '9', '1', 'including', 'outputting', 'particular', 'helper', 'output', 'position', 'chain', 'corresponds', 'helper', '10', '1', 'including', 'overwriting', 'new', 'helper', 'memory', 'location', 'previous', 'helper', 'specified', 'condition', 'met', '11', '10', 'specified', 'condition', 'met', 'position', 'previous', 'helper', 'chain', 'reached', 'peg', 'corresponding', 'previous', 'helper', 'relocated', 'new', 'position', '12', '1', 'helper', 'values', 'initial', 'distribution', 'helper', 'values', 'within', 'oneway', 'chain', 'corresponds', 'peg', 'peg', 'addition', 'helper', 'therewith', 'upon', 'computation', 'given', 'output', 'values', 'pegs', 'relocated', 'new', 'positions', 'oneway', 'chain', 'relocated', 'pegs', 'new', 'helper', 'values', 'computed', '13', '12', 'peg', 'relocation', 'process', 'configured', 'position', 'chain', 'corresponding', 'output', 'vi', 'computed', 'pegs', 'relocated', 'within', 'specified', 'computational', 'budget', '14', '12', 'additional', 'given', 'peg', 'includes', 'destination', 'position', 'chain', 'priority', 'state', '15', '14', 'priority', 'plurality', 'priority', 'levels', 'including', 'high', 'priority', 'low', 'priority', '16', '15', 'pegs', 'prioritized', 'within', 'given', 'priority', 'levels', 'distance', 'current', 'position', 'chain', '17', '14', 'state', 'free', 'state', 'ready', 'state', 'active', 'state', 'arrived', 'state', '18', '12', 'pegs', 'utilized', 'oneway', 'chain', 'given', 'approximately', 'log21', 's2', 'length', 'chain', '19', '13', 'specified', 'computational', 'budget', 'given', 'approximately', 'b2', 's2', 'length', 'chain', '20', 'apparatus', 'generating', 'output', 'values', 'oneway', 'chain', 'oneway', 'chain', 'starting', 'point', 'endpoint', 'apparatus', 'comprising', 'memory', 'processor', 'coupled', 'memory', 'processor', 'operative', 'compute', 'given', 'output', 'values', 'current', 'position', 'oneway', 'chain', 'utilizing', 'helper', 'previously', 'stored', 'memory', 'another', 'position', 'oneway', 'chain', 'current', 'position', 'endpoint', 'chain', 'compute', 'second', 'helper', 'new', 'position', 'chain', 'current', 'position', 'endpoint', 'chain', 'second', 'helper', 'utilizable', 'facilitate', 'subsequent', 'computation', 'another', 'output', 'values', '21', 'machinereadable', 'medium', 'storing', 'programs', 'generating', 'output', 'values', 'oneway', 'chain', 'oneway', 'chain', 'starting', 'point', 'endpoint', 'programs', 'executed', 'performing', 'steps', 'computing', 'given', 'output', 'values', 'current', 'position', 'oneway', 'chain', 'utilizing', 'helper', 'previously', 'stored', 'another', 'position', 'oneway', 'chain', 'current', 'position', 'endpoint', 'chain', 'computing', 'second', 'helper', 'new', 'position', 'chain', 'current', 'position', 'endpoint', 'chain', 'second', 'helper', 'utilizable', 'facilitate', 'subsequent', 'computation', 'another', 'output', 'values', '22', 'generating', 'output', 'values', 'oneway', 'chain', 'comprising', 'steps', 'computing', 'output', 'values', 'oneway', 'chain', 'utilizing', 'helper', 'values', 'stored', 'designated', 'positions', 'chain', 'repositioning', 'helper', 'values', 'computation', 'given', 'output', 'values', 'facilitate', 'subsequent', 'computation', 'another', 'output', 'values', 'detailed', 'description', '0022', 'illustrated', 'herein', 'particular', 'oneway', 'chains', 'understood', 'however', 'techniques', 'broadly', 'applicable', 'types', 'oneway', 'chains', 'chains', 'constructed', 'types', 'oneway', 'functions', 'without', 'trap', 'doors', 'indicated', 'use', 'different', 'functions', 'different', 'steps', 'chain', 'allow', 'auxiliary', 'inputs', 'steps', 'addition', 'techniques', 'applied', 'sequences', 'values', 'arranged', 'form', 'tree', 'graph', 'rather', 'linear', 'sequence', 'chain', 'values', 'moreover', 'particular', 'illustrative', 'shown', 'described', 'way', 'reconfigured', 'otherwise', 'modified', 'accommodate', 'specific', 'needs', 'given', '0023', 'term', 'oneway', 'function', 'herein', 'intended', 'way', 'without', 'limitation', 'function', 'substantially', 'efficient', 'compute', 'images', 'preimages', 'compute', 'preimages', 'images', 'function', 'inversion', 'computationally', 'expensive', 'infeasible', 'otherwise', 'difficult', 'achieve', '0024', 'term', 'chain', 'herein', 'intended', 'construed', 'generally', 'linear', 'sequences', 'values', 'tree', 'graph', 'structures', 'multiple', 'branches', 'correspond', 'linear', 'sequence', 'values', '0025', 'term', 'oneway', 'chain', 'refers', 'chain', 'pair', 'values', 'related', 'another', 'via', 'oneway', 'function', '0026', '1', 'shows', 'oneway', 'chain', 'sequence', 'consecutive', 'values', 'computed', 'efficient', 'manner', 'utilizing', 'techniques', 'oneway', 'chain', 'assumed', 'oneway', 'chain', 'including', 'total', 'elements', 'corresponding', 'position', 'chain', 'element', 'chain', 'element', 'position', '1', 'referred', 'herein', 'starting', 'point', 'chain', 'last', 'element', 'chain', 'referred', 'herein', 'endpoint', 'chain', 'element', 'position', 'denotes', 'span', 'length', 'chain', 'positions', 'i1', '2', 'corresponding', 'vi', 'shown', 'oneway', 'chain', 'configured', 'vi', 'given', 'vihvi1', '0027', 'given', 'function', 'h', 'understood', 'h', 'denote', 'hash', 'function', 'another', 'type', 'oneway', 'function', 'given', 'current', 'vl', 'oneway', 'chain', 'thus', 'computed', 'applying', 'function', 'h', 'next', 'chain', 'term', 'next', 'context', 'refers', 'vi1', 'indicated', 'previously', 'computing', 'chain', 'starting', 'endpoint', 'position', 'unduly', 'computation', 'intensive', 'storing', 'along', 'chain', 'unduly', 'storage', 'intensive', 'problem', 'exacerbated', 'abovenoted', 'lightweight', 'devices', 'ie', 'devices', 'limited', 'computational', 'memory', 'resources', '0028', 'illustrative', 'provides', 'techniques', 'improving', 'efficiency', 'computing', 'given', 'vi', '1', 'oneway', 'chain', 'accordance', 'socalled', 'helper', 'values', 'positioned', 'utilized', 'manner', 'substantially', 'reduces', 'storagecomputation', 'product', 'generating', 'chain', 'values', 'particularly', 'storagecomputation', 'product', 'reduced', 'techniques', 'order', 'square', 'logarithm', 'chain', 'length', 'rather', 'order', 'chain', 'length', 'conventional', 'approaches', 'previously', 'described', '0029', 'way', 'introducing', 'assume', 'initially', 'wants', 'compute', 'element', 'close', 'beginning', '1', 'chain', 'values', 'along', 'chain', 'stored', 'computation', 'requires', 'work', 'proportional', 'length', 'chain', 'helper', 'introduced', 'distance', 'current', 'chain', 'element', 'computed', 'cost', 'computing', 'd1', 'hash', 'function', 'evaluations', 'cost', 'next', 'computed', 'turn', 'd2', 'evaluations', 'however', 'helper', 'reached', 'cost', 'next', 'reaching', 'endpoint', 'chain', 'assuming', 'helper', 'simple', 'total', 'cost', 'minimized', 'ds2', 'ie', 'helper', 'located', 'midpoint', 'chain', '0030', 'uses', 'two', 'helper', 'values', 'instead', 'entire', 'interval', 'split', 'three', 'equally', 'long', 'intervals', 'case', 'cost', 'computing', 'next', 'element', 'would', 'upper', 'bounded', 's3', 'hash', 'function', 'evaluations', 'various', 'linear', 'combinations', 'storage', 'computation', 'possible', 'stores', 'every', '100th', 'hash', 'chain', 'length', 's100', 'needs', 'storage', 'os100', 'needs', 'computation', 'o100', 'worst', 'case', 'setting', 'noted', 'previously', 'herein', 'denotes', 'order', 'however', 'storagecomputation', 'product', 'sc', 'denotes', 'storage', 'needed', 'c', 'denotes', 'worst', 'case', 'computation', 'needed', 'per', 'output', 'still', 'proportional', 'length', 'chain', 'ie', 'sc', 'os', '0031', 'entire', 'interval', 'split', 'two', 'equally', 'long', 'intervals', 'two', 'split', 'two', 'initial', 'computation', 'cost', 'upper', 'bounded', 's4', 'hash', 'function', 'evaluations', 'lower', 'initial', 'cost', 'applies', 'half', 'entire', 'interval', 'distance', 'next', 'element', 'ie', 'endpoint', 'would', 's2', 'however', 'upon', 'reaching', 'helper', 'relocates', 'helper', 'new', 'midpoint', 'initial', 'global', 'midpoint', 'endpoint', 'upper', 'bound', 's4', 'maintained', 'assuming', 'sufficient', 'remaining', 'computational', 'resources', 'perform', 'relocation', 'operation', 'note', 'three', 'helper', 'values', 'values', 'relocate', 'computational', 'upper', 'bound', 'reduced', 'element', 'since', 'intervals', 'decrease', 'length', 'increasing', 'approximately', 'log', 'helper', 'values', 'maximize', 'benefits', 'helper', 'values', 'since', 'case', 'every', 'element', 'computed', 'helper', 'maximum', 'distance', 'two', 'positions', 'away', '0032', '2a', 'illustrates', 'initial', 'distribution', 'abovedescribed', 'helper', 'values', 'accordance', 'helper', 'values', 'generally', 'referred', 'herein', 'pegs', 'although', 'given', 'peg', 'particular', 'helper', 'certain', 'additional', 'described', 'detail', 'peg', 'therefore', 'viewed', 'single', 'helper', 'therewith', 'helper', 'vi', 'chain', 'peg', 'position', '2a', 'diagram', 'shows', 'initial', 'distribution', 'helper', 'values', '1', 'hash', 'chain', 'length', 'helper', 'values', 'pegs', 'determined', 'positions', 's2', 's4', 's8', 'etc', 'generally', 'pegs', 'initially', 'placed', 'positions', 'i2j', '0jlog2s', '0033', 'addition', 'pegs', 'starting', 'positions', '2j', 'generally', 'desirable', 'small', 'additional', 'pegs', 'order', 'able', 'start', 'moving', 'pegs', 'immediately', 'computation', 'process', 'particular', 'peg', 'reached', 'process', 'thus', 'available', 'relocation', 'total', 'required', 'pegs', 'olog', '0034', 'appreciated', 'particular', 'initial', 'peg', 'placement', 'illustrated', 'described', 'conjunction', '2a', 'way', 'possible', 'place', 'pegs', 'initial', 'locations', 'similar', 'given', 'place', 'pegs', 'initial', 'positions', 'i2j1', 'otherwise', 'initially', 'place', 'pegs', 'provide', 'different', 'trade', 'storage', 'computation', 'instead', 'dividing', 'intervals', 'two', 'equally', 'long', 'portions', 'could', 'divide', 'interval', 'three', 'equal', 'portions', 'divide', 'three', 'three', 'pieces', 'would', 'result', 'additional', 'storage', 'cost', 'reduced', 'computation', 'cost', 'types', 'interval', 'splitting', 'implementing', '0035', 'operation', 'chain', 'values', 'vi', '1', 'oneway', 'chain', 'typically', 'computed', 'output', 'single', 'computed', 'output', 'interval', 'pegs', 'described', 'conjunction', '2a', 'facilitate', 'computation', 'particularly', 'interval', 'vl', 'interval', 'output', 'pegs', 'relocated', 'facilitate', 'subsequent', 'computations', 'peg', 'relocation', 'process', 'ensures', 'interval', 'required', 'output', 'vl', 'appropriate', 'relocation', 'determined', 'within', 'certain', 'budget', 'olog', '0036', '2b', 'shows', 'flow', 'diagram', 'hash', 'chain', 'computation', 'process', 'accordance', '10', 'endpoint', 'starting', 'point', 'chain', 'determined', 'implemented', 'selecting', 'endpoint', 'random', 'computing', 'starting', 'point', 'repeated', 'appropriate', 'hash', 'function', 'desired', 'length', 'reached', '12', 'initial', 'peg', 'positions', 'determined', 'corresponding', 'helper', 'values', 'computed', '14', 'process', 'outputs', 'given', 'chain', 'position', 'current', 'position', 'pegs', 'computing', 'appropriate', 'helper', 'ie', 'helper', 'closest', 'position', 'given', 'chain', 'direction', 'chain', 'endpoint', 'given', 'chain', 'output', '16', 'indicates', 'pegs', 'relocated', 'new', 'helper', 'values', 'computed', 'detailed', 'examples', '2b', 'process', 'described', '0037', 'relocation', 'given', 'peg', 'requires', 'computing', 'corresponding', 'helper', 'vl', 'new', 'location', 'cost', 'computing', 'helper', 'new', 'location', 'proportional', 'distance', 'peg', 'moved', 'thus', 'new', 'peg', 'placed', 'top', 'existing', 'peg', 'position', 'moved', 'position', 'ij', 'cost', 'proportional', 'distance', 'j', 'similarly', 'peg', 'located', 'position', 'whether', 'another', 'peg', 'position', 'cost', 'moving', 'position', 'ij', 'proportional', 'distance', 'j', 'distance', 'j', 'cases', 'corresponds', 'oneway', 'function', 'evaluations', 'required', 'compute', 'position', 'ij', 'position', '0038', 'however', 'cost', 'metric', 'minimized', 'illustrative', 'computation', 'alone', 'previouslydescribed', 'storagecomputation', 'product', 'sc', 'denotes', 'storage', 'needed', 'c', 'denotes', 'worst', 'case', 'computation', 'needed', 'per', 'output', 'helper', 'new', 'location', 'obtained', 'iterated', 'hash', 'function', 'evaluation', 'next', 'known', 'new', 'location', 'output', 'location', 'would', 'computed', 'could', 'clearly', 'lower', 'cost', 'relocating', 'helper', 'values', 'increasing', 'values', 'thereby', 'decreasing', 'distance', 'results', 'described', 'herein', 'generally', 'evaluated', 'terms', 'abovenoted', 'storagecomputation', 'product', '0039', 'budget', 'preferably', 'assigned', 'vl', 'computed', 'output', 'budget', 'corresponds', 'computational', 'upper', 'bound', 'per', 'element', 'computation', 'current', 'chain', 'element', 'highest', 'priority', 'access', 'budget', 'since', 'position', 'hash', 'chain', 'compute', 'output', 'appropriate', 'vi', 'remaining', 'budget', 'assigned', 'computation', 'helper', 'values', '0040', 'helper', 'values', 'advantageously', 'partitioned', 'high', 'priority', 'helper', 'values', 'low', 'priority', 'helper', 'values', 'illustrative', 'high', 'priority', 'helper', 'values', 'generally', 'relocated', 'already', 'relatively', 'small', 'intervals', 'located', 'close', 'current', 'element', 'low', 'priority', 'helper', 'values', 'contrast', 'generally', 'traverse', 'larger', 'distances', 'current', 'element', 'low', 'priority', 'helper', 'values', 'assigned', 'portions', 'abovenoted', 'budget', 'remain', 'current', 'element', 'computed', 'high', 'priority', 'helper', 'values', 'exhausted', 'needs', 'ie', 'arrived', 'respective', 'destinations', '0041', 'possible', 'two', 'priority', 'levels', 'illustrative', 'described', 'herein', 'utilize', 'two', 'priority', 'levels', 'prioritize', 'elements', 'within', 'given', 'level', 'distance', 'current', 'position', 'decreasing', 'priority', 'increasing', 'distance', 'current', 'position', 'corresponds', 'position', 'chain', 'output', 'output', '0042', 'indicated', 'previously', 'conjunction', '2b', 'initialization', 'setup', 'phase', 'chain', 'computation', 'process', 'vs', 'endpoint', 'chain', 'randomly', 'selected', 'desired', 'start', 'point', 'obtained', 'iterated', 'hash', 'function', 'evaluation', 'function', 'performed', 'fewer', 'computational', 'limitations', 'later', 'compute', 'output', 'consecutive', 'values', 'vl', 'hash', 'chain', 'elements', 'alternatively', 'initialization', 'hash', 'chain', 'generation', 'outputs', 'vl', 'initialization', 'preferably', 'includes', 'abovenoted', 'initial', 'placement', 'pegs', 'illustrated', '2a', 'thus', 'peg', 'position', 'helper', 'therewith', 'obtained', 'given', 'peg', 'position', 'iterated', 'hash', 'function', 'endpoint', 'vs', 'helper', 'direction', 'endpoint', '0043', 'corresponding', 'implementation', 'described', 'reference', 'figs', '3', '4', 'respectively', 'followed', 'detailed', 'description', 'particular', 'oneway', 'chain', 'computation', 'protocols', 'illustrative', '0044', '3', 'shows', '100', 'implement', 'portion', 'oneway', 'chain', 'computation', 'process', 'accordance', '100', 'includes', 'processor', '102', 'memory', '104', 'interface', '106', 'inputoutput', 'io', 'devices', '108', '100', 'represent', 'lightweight', 'telephone', 'smart', 'personal', 'digital', 'assistants', 'pdas', 'dust', 'video', 'camera', 'surveillance', 'motion', 'detector', 'heat', 'detector', 'type', 'wireless', 'portable', 'portion', 'combination', 'devices', 'processor', '102', 'executes', 'software', 'programs', 'stored', 'memory', '104', 'order', 'implement', 'portion', 'oneway', 'chain', 'computation', 'protocol', 'accordance', 'processor', '102', 'configured', 'receive', 'starting', 'point', 'endpoint', 'given', 'chain', 'sources', 'compute', 'consecutive', 'chain', 'values', 'vl', 'manner', 'described', 'herein', 'processor', '102', 'configured', 'randomly', 'select', 'endpoint', 'vs', 'compute', 'starting', 'point', 'therefrom', 'indicated', 'previously', '0045', '4', 'shows', 'configuration', 'incorporates', 'client', 'devices', '1101', '1102', '110n', 'connectable', 'via', '112', 'devices', '1141', '1142', '114m', 'clients', '110', 'servers', '114', 'implemented', '100', '3', 'similar', 'arrangement', 'elements', 'type', 'configuration', 'oneway', 'chain', 'values', 'generated', 'clients', '110', 'sent', 'servers', 'vice', 'versa', 'types', 'various', 'elements', '4', 'possible', 'techniques', 'apparent', 'skilled', 'art', '0046', 'emphasized', 'particular', 'arrangements', 'elements', 'shown', 'figs', '3', '4', 'way', 'construed', 'limiting', 'scope', 'way', 'implemented', 'whole', 'part', 'type', 'devices', 'processor', 'memory', 'regardless', 'particular', 'implementation', 'elements', 'within', 'devices', '0047', 'illustrative', 'oneway', 'chain', 'computation', 'protocol', 'accordance', 'described', 'protocol', 'correct', 'meaning', 'shown', 'correct', 'output', 'regardless', 'length', 'chain', 'particular', 'values', 'chain', 'complete', 'means', 'computation', 'performed', 'without', 'exceeding', 'specified', 'computational', 'limitations', '0048', 'hash', 'chain', 'h', 'given', 'sequence', 'values', 'v1', 'vl', 'vs', 'previously', 'described', 'conjunction', '1', 'vs', 'chosen', 'uniformly', 'random', '01k', 'vihvi1', 'h0101k', 'hash', 'function', 'abovenoted', 'sha1', 'md5', 'hash', 'function', 'another', 'type', 'oneway', 'function', 'function', 'substantially', 'efficient', 'compute', 'images', 'preimages', 'compute', 'preimages', 'images', 'function', 'h', 'assumed', 'publicly', 'computable', 'ie', 'computable', 'access', 'public', 'although', 'possible', 'keyed', 'functions', 'case', 'portion', 'input', 'generally', 'public', 'v1', 'starting', 'point', 'chain', 'vs', 'endpoint', 'chain', 'span', 'denotes', 'length', 'chain', 'consecutive', 'elements', 'generated', 'assumed', 's294', 'integer', '2', 'chain', 'lengths', 'desired', 'selected', 'smallest', 'form', 'greater', 'desired', 'length', '0049', 'budget', 'b', 'defined', 'computational', 'units', 'allowed', 'per', 'element', 'hash', 'chain', 'output', 'hash', 'function', 'evaluations', 'counted', 'computational', 'steps', 'protocol', 'execution', 'reasonable', 'given', 'fact', 'computational', 'effort', 'performing', 'hash', 'function', 'evaluation', 'far', 'exceeds', 'remaining', 'work', 'per', 'element', '0050', 'helper', 'chain', 'endpoint', 'peg', 'pj', 'peg', 'pj', 'position', 'chain', 'position', 'position', 'peg', 'vposition', 'additionally', 'peg', 'destination', 'position', 'going', 'priority', 'high', 'low', 'activity', 'status', 'state', 'free', 'ready', 'active', 'arrived', '0051', 'variable', 'n', 'denote', 'pegs', 'storage', 'needed', 'n', 'times', 'needed', 'per', 'peg', 'plus', 'needed', 'execution', 'protocol', '0052', 'performing', 'setup', 'phase', 'type', 'described', 'previously', 'computation', 'protocol', 'generate', 'sequence', 'values', 'comprising', 'hash', 'chain', 'h', 'element', 'element', 'starting', 'v1', 'minimal', 'budget', 'minimal', 'pegs', 'protocol', 'required', 'budget', 'b2', 'uses', 'nlog2', '1', 'pegs', 'indicated', 's1', 'elements', 'hash', 'chain', 'h', '0053', 'peg', 'located', 'position', 'corresponding', 'current', 'output', 'peg', 'reached', 'enters', 'free', 'state', 'pegs', 'free', 'state', 'assigned', 'new', 'position', 'destination', 'state', 'priority', 'according', 'guidelines', 'set', 'guarantee', 'protocol', 'completeness', 'guidelines', 'described', '0054', 'appropriate', 'hash', 'chain', 'ie', 'current', 'hash', 'chain', 'computed', 'output', 'remaining', 'budget', 'assigned', 'active', 'highpriority', 'pegs', 'starting', 'peg', 'lowest', 'position', 'ie', 'peg', 'closest', 'starting', 'point', 'still', 'remaining', 'budget', 'assigned', 'active', 'lowpriority', 'pegs', 'ensure', 'computational', 'results', 'available', 'needed', '0055', 'several', 'pegs', 'priority', 'level', 'peg', 'smallest', 'distance', 'current', 'position', 'selected', 'could', 'assign', 'different', 'priorities', 'distance', 'manner', 'simplicity', 'two', 'levels', 'prioritization', 'within', 'given', 'level', 'distance', 'current', 'position', '0056', 'highpriority', 'pegs', 'started', 'far', 'end', 'interval', 'current', 'counting', 'intervals', 'larger', 'two', 'highpriority', 'pegs', 'allowed', 'active', 'state', 'positions', 'lower', 'active', 'lowpriority', 'peg', 'otherwise', 'kept', 'free', 'state', 'make', 'sure', 'highpriority', 'pegs', 'take', 'much', 'available', 'budget', 'ie', 'slows', 'highpriority', 'pegs', 'benefit', 'lowpriority', 'pegs', 'former', 'complete', 'imminent', 'tasks', '0057', 'lowpriority', 'pegs', 'started', 'position', 'can', 'not', 'complete', 'ie', 'arrive', 'destinations', 'next', 'peg', 'reached', 'thus', 'active', 'lowpriority', 'peg', 'needed', 'since', 'suffice', 'absorb', 'leftover', 'computational', 'units', 'addition', 'active', 'lowpriority', 'peg', 'preferably', 'backup', 'lowpriority', 'peg', 'ready', 'state', 'backup', 'lowpriority', 'peg', 'activated', 'soon', 'previously', 'active', 'peg', 'arrived', 'destination', 'peg', 'reached', 'priority', 'set', 'low', 'currently', 'backup', 'lowpriority', 'peg', 'otherwise', 'made', 'highpriority', 'peg', 'rules', 'guarantee', 'always', 'lowpriority', 'peg', 'consume', 'leftover', 'computational', 'units', 'even', 'right', 'active', 'peg', 'reached', 'destination', '0058', 'initialization', 'phase', 'illustrative', 'follows', 'indicated', 'endpoint', 'vs', 'chosen', 'uniformly', 'random', '01k', 'k', 'assumed', 'set', '160', 'although', 'values', 'could', 'sequence', 'hv1', 'vi', 'vs', 'computed', 'iterated', 'hash', 'function', 'h', 'vlhvi1', '1is', '0059', 'peg', 'pj', '1j', 'log2', 'initialized', 'follows', '1', 'position', '2', 'j', 'destination', '2', 'j', 'v', '2', 'j', 'status', 'arrived', '0060', 'remaining', 'pegs', 'pj', 'jn', 'status', 'set', 'free', 'peg', 'stored', 'generate', 'desired', 'output', 'sequence', 'stores', 'pair', 'counters', 'current0', 'backup0', 'along', 'span', 'length', 'conclusion', 'initialization', 'phase', 'pair', 'startpoint', 'currentv10', 'output', '0061', 'following', 'assumed', 'pegs', 'pj', '1jn', 'kept', 'sorted', 'respect', 'destination', 'lowest', 'destination', 'pegs', 'destination', 'assigned', 'appear', 'last', 'sorted', 'list', 'consequently', 'next', 'peg', 'reached', 'current', 'position', 'always', 'p1', 'status', 'pegs', 'changed', 'point', 'altered', 'item', 'inserted', 'appropriate', 'place', 'sorted', 'list', 'notation', 'lp', 'short', 'low', 'priority', 'alias', 'active', 'lowpriority', 'peg', 'thus', 'lpposition', 'current', 'position', 'active', 'lowpriority', 'peg', 'independently', 'peg', 'corresponds', 'similarly', 'bu', 'refers', 'backup', 'lowpriority', 'peg', 'buposition', 'current', 'position', 'backup', 'lowpriority', 'peg', '0062', 'following', 'protocol', 'performed', 'order', 'compute', 'hash', 'chain', 'manner', 'indicated', 'iteration', 'protocol', 'causes', 'next', 'hash', 'chain', 'generated', 'output', 'protocol', 'makes', 'use', 'two', 'routines', 'placehp', 'placelp', 'routines', 'assign', 'values', 'high', 'priority', 'low', 'priority', 'pegs', 'respectively', 'described', '1', '1', 'set', 'available', 'b', 'set', 'remaining', 'budget', '2', 'increase', 'current', '1', 'current', 'position', 'output', '3', 'current', 'odd', 'peg', 'position', 'output', 'hp1value', 'compute', 'output', 'decrease', 'available', '1', 'else', 'peg', 'position', 'output', 'p1value', 'output', 'set', 'peg', 'set', 'p1status', 'free', 'state', 'free', 'current', 'halt', 'last', 'sequence', '4', 'free', 'pegs', 'pj', 'reassign', 'free', 'pegs', 'backup', '0', 'backup', 'lowpriority', 'pjpriority', 'low', 'needed', 'pjstatus', 'ready', 'bu', 'pj', 'backup', '1', 'else', 'call', 'placehp', 'pj', 'make', 'high', 'priority', '5', 'sort', 'pegs', '6', 'set', 'j', '1', 'peg', '7', 'available', '0', 'decrease', 'available', '1', 'decrease', 'remaining', 'budget', 'decrease', 'pjposition', '1', 'move', 'peg', 'pjvalue', 'hpjvalue', 'compute', 'pjposition', 'pjdestination', 'peg', 'arrived', 'pjstatus', 'arrived', 'pjpriority', 'low', 'lowpriority', 'peg', 'arrived', 'lp', 'bu', 'backup', 'becomes', 'low', 'priority', 'backup', '0', 'call', 'placelp', 'activate', 'new', 'low', 'priority', 'peg', 'sort', 'pegs', 'increase', 'j', '1', 'next', 'peg', '8', 'sort', 'pegs', '9', 'go', '1', 'next', 'element', '0063', 'routine', 'placelp', 'described', 'initially', 'described', 'could', 'compute', 'sequence', 'values', 'assigned', 'variables', 'calls', 'placelp', 'later', 'described', 'assignment', 'computed', 'opposed', 'entire', 'sequence', 'approach', 'minimizes', 'usage', 'stack', 'space', 'described', 'desired', 'functionality', 'placelp', 'routine', 'compute', 'next', 'starting', 'point', 'lowpriority', 'peg', 'along', 'destination', '0064', 'following', 'normalized', 'positions', 'ease', 'illustration', 'provide', 'uniformity', 'different', 'chain', 'lengths', 'obtain', 'actual', 'position', 'normalized', 'position', 'multiples', 'latter', 'smallest', 'power', 'two', 'smaller', '2b', 'b', 'budget', 'thus', 'series', 'normalized', 'starting', 'points', 'starting', '4', '8', '6', '8', '16', '12', '10', '12', '16', '14', '16', 'corresponds', 'series', '32', '64', '48', '64', '128', '96', '80', '96', '128', '112', '128', 'b4', '8', 'similarly', 'destination', 'points', 'distances', 'starting', 'points', 'pegs', 'destinations', 'described', 'normalized', 'terms', '0065', 'pegs', 'placed', 'appropriate', 'positions', 'chain', 'position', 'interval', 'whose', 'endpoints', 'correspond', 'pegs', 'current', 'position', 'illustrative', 'given', 'peg', 'splits', 'interval', 'two', 'equally', 'large', 'intervals', 'resulting', 'portions', 'split', 'always', 'splitting', 'largest', 'portion', 'breaking', 'ties', 'equally', 'large', 'intervals', 'selecting', 'located', 'closest', 'starting', 'point', 'chain', 'ie', 'closest', 'current', 'position', 'position', 'endpoint', 'chain', '0066', 'split', 'interval', 'viewed', 'root', 'tree', 'children', 'root', 'correspond', 'splits', 'resulting', 'two', 'intervals', 'children', 'respective', 'splits', 'leaves', 'correspond', 'smallest', 'splits', 'intervals', 'node', 'tree', 'starting', 'point', 'distance', 'destination', 'destination', 'difference', 'starting', 'point', 'distance', '0067', 'starting', 'point', 'root', 'tree', 'height', 'j', 'start2j1', 'distance', 'node', 'height', 'tree', 'dist2i1', 'thus', 'distance', 'root', '2j1', 'leaves', 'tree', 'normalized', 'distance', 'dist1', 'destination', 'dest', 'node', 'root', 'particular', 'difference', 'starting', 'point', 'distance', 'ie', 'deststartdist', 'finally', 'starting', 'point', 'left', 'child', 'parents', 'destination', 'parentdest', 'parents', 'starting', 'parentstart', 'right', 'child', '0068', 'consider', 'sequence', 'assignments', 'start', 'dest', 'obtains', 'performing', 'depthfirst', 'search', 'left', 'child', 'always', 'traversed', 'right', 'child', 'sequence', 'assignments', 'corresponding', 'initial', 'interval', 'ie', 'interval', 'splitting', 'consider', 'sequence', 'assignments', 'gets', 'traversing', 'forest', 'trees', 'tree', 'height', 'tree', 'level', 'higher', 'predecessor', 'needed', 'sequence', 'normalized', 'assignments', '0069', 'call', 'placelp', 'computes', 'pair', 'normalized', 'values', 'described', 'sequence', 'multiplies', 'returns', 'result', 'thus', 'sets', '2', 'lp', 'priority', 'low', 'lp', 'status', 'active', 'lp', 'position', 'start', 'lp', 'destination', 'dest', '0070', 'soon', 'starts', 'assignment', 'performed', 'since', 'longer', 'need', 'low', 'priority', 'pegs', 'calls', 'placelp', 'return', 'without', 'assignment', '0071', 'routine', 'placelp', 'generates', 'sequence', 'elements', 'ith', 'element', 'sequence', 'corresponds', 'pair', 'starting', 'position', 'destination', 'hash', 'chain', 'h', 'ith', 'lowpriority', 'peg', 'activated', 'starting', 'point', 'corresponds', 'peg', 'already', 'placed', 'hash', 'chain', 'destination', 'corresponds', 'middle', 'point', 'peg', 'closest', 'peg', 'direction', 'current', 'pointer', 'distance', 'starting', 'point', 'destination', 'twice', 'budget', 'per', 'element', 'available', 'moving', 'pegs', 'guarantees', 'low', 'priority', 'peg', 'reach', 'destination', 'another', 'peg', 'activated', '0072', 'routine', 'computing', 'next', 'location', 'highpriority', 'peg', 'similar', 'main', 'differences', '1', 'real', 'normalized', 'values', 'coincide', '2', 'trees', 'forest', 'reached', 'height', 'log2', 'stop', 'growing', '0073', 'thus', 'starting', 'position', 'ith', 'tree', 'start2i1', 'ilog2', 'startilog2', 'ilog2', 'starting', 'point', 'left', 'child', 'parents', 'destination', 'parentdest', 'parents', 'starting', 'parentstart', 'right', 'child', 'distance', 'node', 'height', 'tree', 'dist2l1', 'destination', 'difference', 'starting', 'point', 'distance', 'ie', 'deststartdist', '0074', 'assignment', 'made', 'verified', 'startlpposition', 'ie', 'assignment', 'question', 'position', 'active', 'lowpriority', 'peg', 'case', 'assignment', 'made', 'point', 'comparison', 'reperformed', 'next', 'call', 'routine', 'otherwise', 'following', 'assignment', 'made', 'peg', 'pj', 'routine', '3', 'p', 'j', 'priority', 'high', 'p', 'j', 'status', 'active', 'p', 'j', 'position', 'start', 'p', 'j', 'destination', 'dest', '0075', 'routine', 'placehp', 'described', 'routine', 'generates', 'sequence', 'elements', 'ith', 'element', 'sequence', 'corresponds', 'pair', 'start', 'dest', 'ith', 'highpriority', 'peg', 'activated', 'starting', 'point', 'start', 'corresponds', 'peg', 'already', 'placed', 'hash', 'chain', 'destination', 'dest', 'corresponds', 'middle', 'point', 'peg', 'closest', 'peg', 'direction', 'current', 'pointer', 'starting', 'point', 'chosen', 'point', 'current', 'pointer', 'active', 'lowpriority', 'peg', 'close', 'current', 'pointer', 'possible', 'distance', 'starting', 'point', 'destination', 'two', '0076', 'issues', 'relating', 'storage', 'complexity', 'abovedescribed', 'placelp', 'placehp', 'routines', 'addressed', 'memory', 'stack', 'facilitate', 'abovedescribed', 'readily', 'appreciated', 'skilled', 'art', 'alternatively', 'order', 'conserve', 'working', 'space', 'opt', 'solution', 'use', 'stack', 'recomputes', 'state', 'scratch', 'needed', 'variable', 'would', 'store', 'height', 'tree', 'another', 'would', 'store', 'steps', 'depthfirst', 'search', 'root', 'additionally', 'variables', 'needed', 'start', 'dist', 'dest', 'compute', 'values', 'would', 'begin', 'starting', 'assignments', 'modify', 'according', 'tree', 'traversals', 'leading', 'wanted', 'steps', 'root', 'done', 'accordance', 'respective', 'assignments', 'noted', 'none', 'operations', 'require', 'hash', 'function', 'evaluation', '0077', 'maximum', 'tree', 'height', 'placelp', 'log21', 'since', 'corresponds', 'normalized', 'starting', 'point', '2', 'starting', 'point', '2', 'thus', 'variable', 'needs', 'log2', 'bits', 'placehp', 'maximum', 'height', 'log2', 'requiring', 'log2log2', 'bits', 'storage', 'tree', 'maximum', 'height', '2log211', 'nodes', 'placelp', '21', 'nodes', 'placehp', 'thus', 'distances', 'root', 'represented', 'log2', '1', 'respective', 'bits', 'finally', 'maximum', 'last', 'three', 'variables', '6', 'bits', 'since', 'maximum', 'assigned', '2', 'keep', 'state', 'within', 'computation', 'necessary', 'set', 'routine', '0078', 'therefore', 'storage', 'requirements', 'placelp', 'placehp', 'less', '4log21', 'bits', 'dwarfed', 'storage', 'requirements', 'pegs', 'require', '160', 'bits', 'store', 'low', 'bits', 'depending', 'length', 'chain', 'remaining', 'state', 'counters', 'etc', 'particular', 'bits', 'needed', 'position', 'destination', 'total', '1602log21', 'bits', 'required', '0079', 'consider', 'oneway', 'chain', 'length', 's2', 'budget', 'b2', 'n', 'pegs', 'nlog2', '1', 'sum', 'budgets', 'setup', 'stage', 'particular', 'element', 'referred', 'cumulative', 'budget', 'element', 'question', '0080', 'particular', 'numerical', '31', 's2312147109', 'budget', 'b', '15', 'indicating', 'chain', 'require', 'maximum', '15', 'hash', 'function', 'applications', 'compute', 'n36', 'pegs', 'required', 'implemented', '20', 'bytes', 'store', 'helper', 'assuming', 'use', 'wellknown', 'sha1', 'hash', 'function', 'described', 'fips', 'pub', '1801', 'secure', 'hash', 'standard', 'sha1', 'wwwitlnistgovfipspubsfip1801htm', 'incorporated', 'reference', 'herein', 'plus', 'additional', '8', 'bytes', 'storing', 'state', 'results', 'total', 'required', 'storage', '362081008', 'bytes', 'oneway', 'chain', 'implemented', 'requires', 'output', 'chain', 'per', 'second', 'chain', 'would', 'last', '68', 'years', '0081', 'indicated', 'oneway', 'chain', 'computation', 'protocol', 'illustrative', 'exhibits', 'property', 'completeness', 'protocol', 'budget', 'restriction', 'b', 'storage', 'restriction', 'n', 'succeed', 'element', 'j', 'outputs', 'jth', 'vj', 'hash', 'sequence', 'succeeded', 'element', 'j1', 'protocol', 'succeed', 'automatically', 'element', '1', 'corresponds', 'setup', 'phase', 'illustrative', 'strict', 'restrictions', 'placed', 'terms', 'computation', 'storage', '0082', 'shown', 'protocol', 'succeeds', 'element', 'j', '2js', 'chain', 'span', 'length', 's2', 'budget', 'b2', 'nlog21', 'pegs', '0083', 'abovedescribed', 'protocol', 'presently', 'preferred', 'possible', 'variant', 'protocol', 'described', 'skilled', 'art', 'recognize', 'numerous', 'variants', 'possible', '2', 'initiation', '1', 'select', 'vs', 'set', 'temp', 'vs', '2', 'compute', 'v1', 'vs1', 'vs', 'manner', 'previously', 'described', '3', 'set', 'counters', 'k', 'n', '4', 'let', 'jm', 'k', 'fixjm', 'vk', '5', 'set', 'k', 'trunck2', 'ie', 'divide', 'two', 'round', '1', '6', 'repeat', 'k', 'times', 'temp', 'htemp', '7', 'k', '1', 'go', '4', '8', 'set', 'current', '1', '0084', 'initiation', 'process', 'positions', 'pegs', 'locations', 's2', 's4', '2', 'therefore', 'corresponds', 'generally', '2a', 'initial', 'peg', 'setup', 'described', 'conjunction', 'preferred', 'indicated', 'previously', 'pegs', 'computed', 'stored', 'given', 'computations', 'need', 'performed', 'auxiliary', 'given', 'initialized', 'manner', 'described', 'oneway', 'chain', 'computation', 'process', 'operation', 'follows', '3', 'b', 'operation', '1', 'increase', 'current', 'set', 'available', 'b', '2', 'pjcurrent', 'pjposition', 'output', 'pjvalue', 'relocate', 'pj', 'according', 'placehp', 'placelp', 'routine', 'depending', 'needed', '3', 'otherwise', 'set', 'temp', 'pj', 'pj', 'smallest', 'pjposition', 'preferred', 'always', 'p1', 'due', 'sorting', 'repeat', 'following', 'tempposition', 'current', 'decrease', 'available', 'decrease', 'tempposition', 'set', 'tempvalue', 'htempvalue', '4', 'select', 'next', 'peg', 'moved', 'preferred', 'already', 'two', 'priorities', 'priority', 'given', '1', 'closest', 'needs', 'next', 'ie', 'difference', 'pjdestination', 'pjposition', 'b', 'otherwise', '2', 'largest', 'position', 'noted', 'although', 'optimal', 'strategy', 'assigning', 'priority', 'acceptable', 'many', 'chains', '5', 'move', 'selected', 'peg', 'pj', 'follows', 'decrease', 'pjposition', 'jvalue', 'hpjposition', '6', 'pjposition', 'pjdestination', 'pjstatus', 'arrived', '7', 'decrement', 'available', 'available', '1', 'go', '4', '0085', 'computation', 'process', 'corresponds', 'steps', '18', 'computation', 'process', 'preferred', 'repeated', 'chain', 'output', 'generated', 'indicated', 'numerous', 'variants', 'illustrative', 'protocols', 'implement', 'techniques', '0086', 'abovedescribed', 'illustrative', 'oneway', 'chain', 'computation', 'protocols', 'provide', 'significant', 'advantages', 'conventional', 'techniques', 'particularly', 'protocols', 'storagecomputation', 'product', 'order', 'square', 'logarithm', 'chain', 'length', 'ie', 'olog', 's2', 'rather', 'os', 'would', 'conventional', 'techniques', 'oneway', 'chain', 'computation', 'suitable', 'use', 'numerous', 'cryptographic', 'applications', 'digital', 'signatures', 'message', 'authentication', 'authentication', 'micropayments', 'storage', 'computational', 'efficiency', 'allows', 'cryptographic', 'applications', 'implemented', 'lightweight', 'devices', '0087', 'way', 'generate', 'publicly', 'verifiable', 'signatures', 'particularly', 'efficient', 'manner', 'otherwise', 'conventional', 'techniques', 'oneway', 'chain', 'computation', 'resulting', 'signatures', 'generated', 'far', 'efficiently', 'conventional', 'merkle', 'lamport', 'signatures', 'generally', 'considered', 'among', 'efficient', 'conventional', 'signatures', 'described', 'l', 'lamport', 'constructing', 'digital', 'signatures', 'way', 'function', 'sri', 'international', 'technical', 'report', 'csl98', 'october', '1979', 'r', 'merkle', 'digital', 'signature', 'conventional', 'encryption', 'function', 'proceedings', 'crypto', '87', 'respectively', 'incorporated', 'reference', 'herein', '0088', 'particularly', 'digital', 'signature', 'make', 'use', 'techniques', 'similar', 'described', 'previouslycited', 'perrig', 'et', 'al', 'references', 'case', 'receiving', 'party', 'timestamps', 'message', 'authentication', 'code', 'mac', 'received', 'another', 'party', 'conventional', 'timestamping', 'techniques', 'verifies', 'mac', 'corresponding', 'key', 'received', 'key', 'computed', 'hash', 'chain', 'given', 'key', 'timestamp', 'along', 'message', 'mac', 'third', 'party', 'verify', 'correctness', 'mac', 'fact', 'received', 'prior', 'key', 'released', 'would', 'constitute', 'binding', 'digital', 'signature', '0089', 'secure', 'login', 'applications', 'applications', 'matter', 'password', 'compromised', 'login', 'session', 'since', 'password', 'particular', 'use', 'consecutive', 'values', 'hash', 'chain', 'passwords', 'starting', 'v1', '0090', 'reference', '4', 'secure', 'login', 'process', 'implemented', 'follows', 'assume', 'client', '1101', 'wants', 'login', 'set', 'servers', '114', 'passwords', 'sent', 'either', 'encrypted', 'unencrypted', '112', 'client', '1101', 'wants', 'prevent', 'attacker', 'reusing', 'given', 'transmitted', 'password', 'therefore', 'passwords', 'generated', 'values', 'hash', 'chain', 'manner', 'described', 'herein', 'chain', 'v1', 'sent', 'password', 'v2', 'second', 'password', 'etc', 'another', 'party', 'another', 'client', '110', 'particular', 'servers', '114', 'registers', 'client', '1101', 'servers', '114', 'transmits', 'client', '1101', 'endpoint', 'vs', 'hash', 'chain', 'plus', 'additional', 'registration', 'prior', 'login', 'attempt', 'client', '1101', 'given', 'login', 'attempt', 'client', '1101', 'sends', 'servers', '114', 'identifying', 'registration', 'appropriate', 'chain', 'v1', 'v2', 'etc', 'counter', 'identifying', 'many', 'login', 'attempts', 'performed', 'otherwise', 'specifying', 'chain', 'transmitted', 'case', 'login', 'attempts', 'inherently', 'counter', 'implicit', 'additional', 'details', 'regarding', 'particular', 'see', 'l', 'lamport', 'password', 'authentication', 'insecure', 'communications', 'acm', '2411770772', 'november', '1981', 'incorporated', 'reference', 'herein', '0091', 'generally', 'useful', 'utilizes', 'oneway', 'chain', 'computation', 'inasmuch', 'substantially', 'improves', 'storage', 'computational', 'efficiency', 'oneway', 'chain', 'computation', 'process', 'improves', 'efficiency', 'requires', 'oneway', 'chain', 'computation', 'implemented', 'type', 'capable', 'computing', 'oneway', 'chain', 'values', '0092', 'indicated', 'previously', 'applied', 'arrangement', 'elements', 'form', 'tree', 'type', 'graph', 'arrangements', 'fall', 'within', 'general', 'definition', 'chain', 'given', 'two', 'examples', 'provided', 'illustrating', 'techniques', 'tree', 'graph', 'structures', 'note', 'merely', 'matter', 'modifying', 'update', 'strategy', 'suit', 'particular', 'tree', 'graph', 'topology', 'principles', 'otherwise', 'remain', 'previously', 'described', '1', '0093', 'tree', 'structure', 'structure', 'endpoint', 'vs', 'corresponds', 'root', 'node', 'tree', 'simplicity', 'notation', 'node', 'referred', 'r', 'let', 'v1', 'v2', 'two', 'children', 'r', 'v11', 'v12', 'two', 'children', 'v1', 'similarly', 'name', 'nodes', 'tree', 'clear', 'skilled', 'art', 'relates', 'binary', 'trees', 'trees', 'fanout', 'vertices', 'let', 'height', 'tree', 'root', 'rval', 'randomly', 'chosen', 'let', 'vxval', 'node', 'vx', 'x', 'denotes', 'particular', 'path', '1112', 'child', 'vx', 'vx1valhvxval1', 'second', 'child', 'vx', 'vx2valhvxval2', 'assignments', 'chosen', 'well', 'appreciated', 'skilled', 'art', 'seen', 'given', 'node', 'vx1', 'vx2', 'infeasible', 'determine', 'parent', 'vx', 'without', 'knowledge', 'ancestors', 'let', 'portion', 'leaves', 'tree', 'known', 'let', 'pegs', 'located', 'vertices', 'tree', 'assume', 'peg', 'located', 'position', 'v1', 'allows', 'spedup', 'computation', 'nodes', 'v1', 'ancestor', 'order', 'compute', 'node', 'half', 'tree', 'would', 'go', 'r', 'instead', 'peg', 'located', 'allone', 'path', 'halfway', 'root', 'leaves', 'allows', 'spedup', 'computation', 'smaller', 'portion', 'tree', 'greater', 'speedup', 'second', 'peg', 'located', 'another', 'portion', 'tree', 'second', 'peg', 'located', 'halfdistance', 'peg', 'leaves', 'allone', 'path', 'would', 'speed', 'computation', 'nodes', 'second', 'peg', 'would', 'allow', 'nodes', 'path', 'second', 'peg', 'computed', 'somewhat', 'faster', 'still', 'nodes', 'could', 'still', 'computed', 'requiring', 'path', 'way', 'root', 'followed', 'node', 'computed', 'pegs', 'relocated', 'accordance', 'probability', 'distribution', 'next', 'access', 'thus', 'access', 'part', 'tree', 'makes', 'access', 'second', 'part', 'tree', 'likely', 'pegs', 'relocated', 'part', 'done', 'illustrative', 'previously', 'described', 'spending', 'available', 'budget', 'according', 'specified', 'prioritization', 'computing', 'new', 'values', 'consecutive', 'oneway', 'images', 'ancestor', 'values', '2', '0094', 'two', 'linked', 'chains', 'consider', 'situation', 'two', 'linked', 'chains', 'endpoint', 'fraction', 'chain', 'values', 'functions', 'values', 'corresponding', 'chain', 'values', 'chain', 'note', 'different', 'chains', 'use', 'different', 'oneway', 'functions', 'operate', 'different', 'portions', 'input', 'situation', 'therefore', 'describes', 'particular', 'form', 'directed', 'acyclic', 'graph', 'dag', 'appreciated', 'skilled', 'art', 'examples', 'constructed', 'simple', 'case', 'let', 'every', 'element', 'distance', 'endpoint', 'chain', 'function', 'predecessor', 'element', 'i1', 'chain', 'element', 'distance', 'endpoint', 'chain', 'element', 'i1', 'chain', 'let', 'lengths', 'chains', 'assume', 'pegs', 'placed', 'distances', 's2', 's4', 's8', 'etc', 'starting', 'point', 'chains', 'pegs', 'placed', 'chain', 'allowing', 'efficient', 'computation', 'values', 'chain', 'compute', 'values', 'chain', 'since', 'interlinked', 'appreciated', 'skilled', 'art', 'chains', 'interlinked', 'manner', 'could', 'utilize', 'techniques', 'allow', 'efficient', 'computation', 'output', 'values', '0095', 'emphasized', 'exemplary', 'oneway', 'chain', 'computation', 'techniques', 'described', 'herein', 'intended', 'illustrate', 'operation', 'therefore', 'construed', 'limiting', 'particular', 'group', 'although', 'illustrated', 'particular', 'types', 'oneway', 'chains', 'applied', 'types', 'oneway', 'functions', 'arrangements', 'elements', 'forms', 'trees', 'types', 'graphs', 'indicated', 'previously', 'addition', 'particular', 'helper', 'values', 'initial', 'distribution', 'manner', 'corresponding', 'pegs', 'relocated', 'upon', 'computation', 'output', 'given', 'chain', 'varied', 'alternative', 'numerous', 'alternative', 'within', 'scope', 'following', 'claims', 'apparent', 'skilled', 'art'])"
      ]
     },
     "execution_count": 30,
     "metadata": {},
     "output_type": "execute_result"
    }
   ],
   "source": [
    "#Tokenization\n",
    "from textblob import TextBlob\n",
    "TextBlob(df['text'][1]).words"
   ]
  },
  {
   "cell_type": "code",
   "execution_count": 31,
   "metadata": {
    "scrolled": true
   },
   "outputs": [],
   "source": [
    "#Stemming\n",
    "from nltk.stem import PorterStemmer\n",
    "st = PorterStemmer()\n",
    "df['train'] = df['text'].apply(lambda x: \" \".join([st.stem(word) for word in x.split()]))"
   ]
  },
  {
   "cell_type": "code",
   "execution_count": 32,
   "metadata": {
    "scrolled": true
   },
   "outputs": [
    {
     "data": {
      "text/html": [
       "<div>\n",
       "<style scoped>\n",
       "    .dataframe tbody tr th:only-of-type {\n",
       "        vertical-align: middle;\n",
       "    }\n",
       "\n",
       "    .dataframe tbody tr th {\n",
       "        vertical-align: top;\n",
       "    }\n",
       "\n",
       "    .dataframe thead th {\n",
       "        text-align: right;\n",
       "    }\n",
       "</style>\n",
       "<table border=\"1\" class=\"dataframe\">\n",
       "  <thead>\n",
       "    <tr style=\"text-align: right;\">\n",
       "      <th></th>\n",
       "      <th>words</th>\n",
       "      <th>tf</th>\n",
       "    </tr>\n",
       "  </thead>\n",
       "  <tbody>\n",
       "    <tr>\n",
       "      <th>0</th>\n",
       "      <td>chain</td>\n",
       "      <td>203</td>\n",
       "    </tr>\n",
       "    <tr>\n",
       "      <th>1</th>\n",
       "      <td>oneway</td>\n",
       "      <td>105</td>\n",
       "    </tr>\n",
       "    <tr>\n",
       "      <th>2</th>\n",
       "      <td>values</td>\n",
       "      <td>103</td>\n",
       "    </tr>\n",
       "    <tr>\n",
       "      <th>3</th>\n",
       "      <td>peg</td>\n",
       "      <td>88</td>\n",
       "    </tr>\n",
       "    <tr>\n",
       "      <th>4</th>\n",
       "      <td>position</td>\n",
       "      <td>81</td>\n",
       "    </tr>\n",
       "    <tr>\n",
       "      <th>5</th>\n",
       "      <td>helper</td>\n",
       "      <td>75</td>\n",
       "    </tr>\n",
       "    <tr>\n",
       "      <th>6</th>\n",
       "      <td>pegs</td>\n",
       "      <td>65</td>\n",
       "    </tr>\n",
       "    <tr>\n",
       "      <th>7</th>\n",
       "      <td>computation</td>\n",
       "      <td>61</td>\n",
       "    </tr>\n",
       "    <tr>\n",
       "      <th>8</th>\n",
       "      <td>output</td>\n",
       "      <td>61</td>\n",
       "    </tr>\n",
       "    <tr>\n",
       "      <th>9</th>\n",
       "      <td>function</td>\n",
       "      <td>59</td>\n",
       "    </tr>\n",
       "    <tr>\n",
       "      <th>10</th>\n",
       "      <td>given</td>\n",
       "      <td>57</td>\n",
       "    </tr>\n",
       "    <tr>\n",
       "      <th>11</th>\n",
       "      <td>hash</td>\n",
       "      <td>48</td>\n",
       "    </tr>\n",
       "    <tr>\n",
       "      <th>12</th>\n",
       "      <td>starting</td>\n",
       "      <td>45</td>\n",
       "    </tr>\n",
       "    <tr>\n",
       "      <th>13</th>\n",
       "      <td>current</td>\n",
       "      <td>44</td>\n",
       "    </tr>\n",
       "    <tr>\n",
       "      <th>14</th>\n",
       "      <td>1</td>\n",
       "      <td>42</td>\n",
       "    </tr>\n",
       "    <tr>\n",
       "      <th>15</th>\n",
       "      <td>endpoint</td>\n",
       "      <td>40</td>\n",
       "    </tr>\n",
       "    <tr>\n",
       "      <th>16</th>\n",
       "      <td>described</td>\n",
       "      <td>36</td>\n",
       "    </tr>\n",
       "    <tr>\n",
       "      <th>17</th>\n",
       "      <td>point</td>\n",
       "      <td>36</td>\n",
       "    </tr>\n",
       "    <tr>\n",
       "      <th>18</th>\n",
       "      <td>priority</td>\n",
       "      <td>33</td>\n",
       "    </tr>\n",
       "    <tr>\n",
       "      <th>19</th>\n",
       "      <td>length</td>\n",
       "      <td>33</td>\n",
       "    </tr>\n",
       "    <tr>\n",
       "      <th>20</th>\n",
       "      <td>element</td>\n",
       "      <td>33</td>\n",
       "    </tr>\n",
       "    <tr>\n",
       "      <th>21</th>\n",
       "      <td>computed</td>\n",
       "      <td>32</td>\n",
       "    </tr>\n",
       "    <tr>\n",
       "      <th>22</th>\n",
       "      <td>tree</td>\n",
       "      <td>30</td>\n",
       "    </tr>\n",
       "    <tr>\n",
       "      <th>23</th>\n",
       "      <td>compute</td>\n",
       "      <td>29</td>\n",
       "    </tr>\n",
       "    <tr>\n",
       "      <th>24</th>\n",
       "      <td>budget</td>\n",
       "      <td>28</td>\n",
       "    </tr>\n",
       "    <tr>\n",
       "      <th>25</th>\n",
       "      <td>particular</td>\n",
       "      <td>28</td>\n",
       "    </tr>\n",
       "    <tr>\n",
       "      <th>26</th>\n",
       "      <td>destination</td>\n",
       "      <td>27</td>\n",
       "    </tr>\n",
       "    <tr>\n",
       "      <th>27</th>\n",
       "      <td>distance</td>\n",
       "      <td>26</td>\n",
       "    </tr>\n",
       "    <tr>\n",
       "      <th>28</th>\n",
       "      <td>storage</td>\n",
       "      <td>25</td>\n",
       "    </tr>\n",
       "    <tr>\n",
       "      <th>29</th>\n",
       "      <td>second</td>\n",
       "      <td>24</td>\n",
       "    </tr>\n",
       "    <tr>\n",
       "      <th>...</th>\n",
       "      <td>...</td>\n",
       "      <td>...</td>\n",
       "    </tr>\n",
       "    <tr>\n",
       "      <th>1193</th>\n",
       "      <td>able</td>\n",
       "      <td>1</td>\n",
       "    </tr>\n",
       "    <tr>\n",
       "      <th>1194</th>\n",
       "      <td>mapping</td>\n",
       "      <td>1</td>\n",
       "    </tr>\n",
       "    <tr>\n",
       "      <th>1195</th>\n",
       "      <td>s294</td>\n",
       "      <td>1</td>\n",
       "    </tr>\n",
       "    <tr>\n",
       "      <th>1196</th>\n",
       "      <td>acyclic</td>\n",
       "      <td>1</td>\n",
       "    </tr>\n",
       "    <tr>\n",
       "      <th>1197</th>\n",
       "      <td>defined</td>\n",
       "      <td>1</td>\n",
       "    </tr>\n",
       "    <tr>\n",
       "      <th>1198</th>\n",
       "      <td>0064</td>\n",
       "      <td>1</td>\n",
       "    </tr>\n",
       "    <tr>\n",
       "      <th>1199</th>\n",
       "      <td>0026</td>\n",
       "      <td>1</td>\n",
       "    </tr>\n",
       "    <tr>\n",
       "      <th>1200</th>\n",
       "      <td>0054</td>\n",
       "      <td>1</td>\n",
       "    </tr>\n",
       "    <tr>\n",
       "      <th>1201</th>\n",
       "      <td>important</td>\n",
       "      <td>1</td>\n",
       "    </tr>\n",
       "    <tr>\n",
       "      <th>1202</th>\n",
       "      <td>0070</td>\n",
       "      <td>1</td>\n",
       "    </tr>\n",
       "    <tr>\n",
       "      <th>1203</th>\n",
       "      <td>sri</td>\n",
       "      <td>1</td>\n",
       "    </tr>\n",
       "    <tr>\n",
       "      <th>1204</th>\n",
       "      <td>increment</td>\n",
       "      <td>1</td>\n",
       "    </tr>\n",
       "    <tr>\n",
       "      <th>1205</th>\n",
       "      <td>round</td>\n",
       "      <td>1</td>\n",
       "    </tr>\n",
       "    <tr>\n",
       "      <th>1206</th>\n",
       "      <td>partitioned</td>\n",
       "      <td>1</td>\n",
       "    </tr>\n",
       "    <tr>\n",
       "      <th>1207</th>\n",
       "      <td>beginning</td>\n",
       "      <td>1</td>\n",
       "    </tr>\n",
       "    <tr>\n",
       "      <th>1208</th>\n",
       "      <td>0027</td>\n",
       "      <td>1</td>\n",
       "    </tr>\n",
       "    <tr>\n",
       "      <th>1209</th>\n",
       "      <td>signing</td>\n",
       "      <td>1</td>\n",
       "    </tr>\n",
       "    <tr>\n",
       "      <th>1210</th>\n",
       "      <td>hpjvalue</td>\n",
       "      <td>1</td>\n",
       "    </tr>\n",
       "    <tr>\n",
       "      <th>1211</th>\n",
       "      <td>advantages</td>\n",
       "      <td>1</td>\n",
       "    </tr>\n",
       "    <tr>\n",
       "      <th>1212</th>\n",
       "      <td>ancestors</td>\n",
       "      <td>1</td>\n",
       "    </tr>\n",
       "    <tr>\n",
       "      <th>1213</th>\n",
       "      <td>typically</td>\n",
       "      <td>1</td>\n",
       "    </tr>\n",
       "    <tr>\n",
       "      <th>1214</th>\n",
       "      <td>perform</td>\n",
       "      <td>1</td>\n",
       "    </tr>\n",
       "    <tr>\n",
       "      <th>1215</th>\n",
       "      <td>ties</td>\n",
       "      <td>1</td>\n",
       "    </tr>\n",
       "    <tr>\n",
       "      <th>1216</th>\n",
       "      <td>wanted</td>\n",
       "      <td>1</td>\n",
       "    </tr>\n",
       "    <tr>\n",
       "      <th>1217</th>\n",
       "      <td>b4</td>\n",
       "      <td>1</td>\n",
       "    </tr>\n",
       "    <tr>\n",
       "      <th>1218</th>\n",
       "      <td>0005</td>\n",
       "      <td>1</td>\n",
       "    </tr>\n",
       "    <tr>\n",
       "      <th>1219</th>\n",
       "      <td>0091</td>\n",
       "      <td>1</td>\n",
       "    </tr>\n",
       "    <tr>\n",
       "      <th>1220</th>\n",
       "      <td>image</td>\n",
       "      <td>1</td>\n",
       "    </tr>\n",
       "    <tr>\n",
       "      <th>1221</th>\n",
       "      <td>startilog2</td>\n",
       "      <td>1</td>\n",
       "    </tr>\n",
       "    <tr>\n",
       "      <th>1222</th>\n",
       "      <td>4log21</td>\n",
       "      <td>1</td>\n",
       "    </tr>\n",
       "  </tbody>\n",
       "</table>\n",
       "<p>1223 rows × 2 columns</p>\n",
       "</div>"
      ],
      "text/plain": [
       "            words   tf\n",
       "0           chain  203\n",
       "1          oneway  105\n",
       "2          values  103\n",
       "3             peg   88\n",
       "4        position   81\n",
       "5          helper   75\n",
       "6            pegs   65\n",
       "7     computation   61\n",
       "8          output   61\n",
       "9        function   59\n",
       "10          given   57\n",
       "11           hash   48\n",
       "12       starting   45\n",
       "13        current   44\n",
       "14              1   42\n",
       "15       endpoint   40\n",
       "16      described   36\n",
       "17          point   36\n",
       "18       priority   33\n",
       "19         length   33\n",
       "20        element   33\n",
       "21       computed   32\n",
       "22           tree   30\n",
       "23        compute   29\n",
       "24         budget   28\n",
       "25     particular   28\n",
       "26    destination   27\n",
       "27       distance   26\n",
       "28        storage   25\n",
       "29         second   24\n",
       "...           ...  ...\n",
       "1193         able    1\n",
       "1194      mapping    1\n",
       "1195         s294    1\n",
       "1196      acyclic    1\n",
       "1197      defined    1\n",
       "1198         0064    1\n",
       "1199         0026    1\n",
       "1200         0054    1\n",
       "1201    important    1\n",
       "1202         0070    1\n",
       "1203          sri    1\n",
       "1204    increment    1\n",
       "1205        round    1\n",
       "1206  partitioned    1\n",
       "1207    beginning    1\n",
       "1208         0027    1\n",
       "1209      signing    1\n",
       "1210     hpjvalue    1\n",
       "1211   advantages    1\n",
       "1212    ancestors    1\n",
       "1213    typically    1\n",
       "1214      perform    1\n",
       "1215         ties    1\n",
       "1216       wanted    1\n",
       "1217           b4    1\n",
       "1218         0005    1\n",
       "1219         0091    1\n",
       "1220        image    1\n",
       "1221   startilog2    1\n",
       "1222       4log21    1\n",
       "\n",
       "[1223 rows x 2 columns]"
      ]
     },
     "execution_count": 32,
     "metadata": {},
     "output_type": "execute_result"
    }
   ],
   "source": [
    "#Term Frequency\n",
    "tf1 = (df['text'][1:2]).apply(lambda x: pd.value_counts(x.split(\" \"))).sum(axis = 0).reset_index()\n",
    "tf1.columns = ['words','tf']\n",
    "tf1"
   ]
  },
  {
   "cell_type": "code",
   "execution_count": null,
   "metadata": {},
   "outputs": [],
   "source": []
  },
  {
   "cell_type": "code",
   "execution_count": 33,
   "metadata": {
    "scrolled": true
   },
   "outputs": [
    {
     "data": {
      "text/html": [
       "<div>\n",
       "<style scoped>\n",
       "    .dataframe tbody tr th:only-of-type {\n",
       "        vertical-align: middle;\n",
       "    }\n",
       "\n",
       "    .dataframe tbody tr th {\n",
       "        vertical-align: top;\n",
       "    }\n",
       "\n",
       "    .dataframe thead th {\n",
       "        text-align: right;\n",
       "    }\n",
       "</style>\n",
       "<table border=\"1\" class=\"dataframe\">\n",
       "  <thead>\n",
       "    <tr style=\"text-align: right;\">\n",
       "      <th></th>\n",
       "      <th>words</th>\n",
       "      <th>tf</th>\n",
       "      <th>idf</th>\n",
       "    </tr>\n",
       "  </thead>\n",
       "  <tbody>\n",
       "    <tr>\n",
       "      <th>0</th>\n",
       "      <td>chain</td>\n",
       "      <td>203</td>\n",
       "      <td>1.388565</td>\n",
       "    </tr>\n",
       "    <tr>\n",
       "      <th>1</th>\n",
       "      <td>oneway</td>\n",
       "      <td>105</td>\n",
       "      <td>2.975530</td>\n",
       "    </tr>\n",
       "    <tr>\n",
       "      <th>2</th>\n",
       "      <td>values</td>\n",
       "      <td>103</td>\n",
       "      <td>0.790728</td>\n",
       "    </tr>\n",
       "    <tr>\n",
       "      <th>3</th>\n",
       "      <td>peg</td>\n",
       "      <td>88</td>\n",
       "      <td>3.255832</td>\n",
       "    </tr>\n",
       "    <tr>\n",
       "      <th>4</th>\n",
       "      <td>position</td>\n",
       "      <td>81</td>\n",
       "      <td>0.561602</td>\n",
       "    </tr>\n",
       "    <tr>\n",
       "      <th>5</th>\n",
       "      <td>helper</td>\n",
       "      <td>75</td>\n",
       "      <td>3.837753</td>\n",
       "    </tr>\n",
       "    <tr>\n",
       "      <th>6</th>\n",
       "      <td>pegs</td>\n",
       "      <td>65</td>\n",
       "      <td>6.782192</td>\n",
       "    </tr>\n",
       "    <tr>\n",
       "      <th>7</th>\n",
       "      <td>computation</td>\n",
       "      <td>61</td>\n",
       "      <td>1.758312</td>\n",
       "    </tr>\n",
       "    <tr>\n",
       "      <th>8</th>\n",
       "      <td>output</td>\n",
       "      <td>61</td>\n",
       "      <td>0.459627</td>\n",
       "    </tr>\n",
       "    <tr>\n",
       "      <th>9</th>\n",
       "      <td>function</td>\n",
       "      <td>59</td>\n",
       "      <td>0.097580</td>\n",
       "    </tr>\n",
       "    <tr>\n",
       "      <th>10</th>\n",
       "      <td>given</td>\n",
       "      <td>57</td>\n",
       "      <td>0.303682</td>\n",
       "    </tr>\n",
       "    <tr>\n",
       "      <th>11</th>\n",
       "      <td>hash</td>\n",
       "      <td>48</td>\n",
       "      <td>1.758312</td>\n",
       "    </tr>\n",
       "    <tr>\n",
       "      <th>12</th>\n",
       "      <td>starting</td>\n",
       "      <td>45</td>\n",
       "      <td>1.459182</td>\n",
       "    </tr>\n",
       "    <tr>\n",
       "      <th>13</th>\n",
       "      <td>current</td>\n",
       "      <td>44</td>\n",
       "      <td>0.174191</td>\n",
       "    </tr>\n",
       "    <tr>\n",
       "      <th>14</th>\n",
       "      <td>1</td>\n",
       "      <td>42</td>\n",
       "      <td>0.000000</td>\n",
       "    </tr>\n",
       "    <tr>\n",
       "      <th>15</th>\n",
       "      <td>endpoint</td>\n",
       "      <td>40</td>\n",
       "      <td>3.226844</td>\n",
       "    </tr>\n",
       "    <tr>\n",
       "      <th>16</th>\n",
       "      <td>described</td>\n",
       "      <td>36</td>\n",
       "      <td>0.011403</td>\n",
       "    </tr>\n",
       "    <tr>\n",
       "      <th>17</th>\n",
       "      <td>point</td>\n",
       "      <td>36</td>\n",
       "      <td>0.088868</td>\n",
       "    </tr>\n",
       "    <tr>\n",
       "      <th>18</th>\n",
       "      <td>priority</td>\n",
       "      <td>33</td>\n",
       "      <td>2.037260</td>\n",
       "    </tr>\n",
       "    <tr>\n",
       "      <th>19</th>\n",
       "      <td>length</td>\n",
       "      <td>33</td>\n",
       "      <td>1.289131</td>\n",
       "    </tr>\n",
       "    <tr>\n",
       "      <th>20</th>\n",
       "      <td>element</td>\n",
       "      <td>33</td>\n",
       "      <td>0.294508</td>\n",
       "    </tr>\n",
       "    <tr>\n",
       "      <th>21</th>\n",
       "      <td>computed</td>\n",
       "      <td>32</td>\n",
       "      <td>1.805458</td>\n",
       "    </tr>\n",
       "    <tr>\n",
       "      <th>22</th>\n",
       "      <td>tree</td>\n",
       "      <td>30</td>\n",
       "      <td>1.545750</td>\n",
       "    </tr>\n",
       "    <tr>\n",
       "      <th>23</th>\n",
       "      <td>compute</td>\n",
       "      <td>29</td>\n",
       "      <td>0.160786</td>\n",
       "    </tr>\n",
       "    <tr>\n",
       "      <th>24</th>\n",
       "      <td>budget</td>\n",
       "      <td>28</td>\n",
       "      <td>2.249593</td>\n",
       "    </tr>\n",
       "    <tr>\n",
       "      <th>25</th>\n",
       "      <td>particular</td>\n",
       "      <td>28</td>\n",
       "      <td>0.027588</td>\n",
       "    </tr>\n",
       "    <tr>\n",
       "      <th>26</th>\n",
       "      <td>destination</td>\n",
       "      <td>27</td>\n",
       "      <td>1.713288</td>\n",
       "    </tr>\n",
       "    <tr>\n",
       "      <th>27</th>\n",
       "      <td>distance</td>\n",
       "      <td>26</td>\n",
       "      <td>1.561836</td>\n",
       "    </tr>\n",
       "    <tr>\n",
       "      <th>28</th>\n",
       "      <td>storage</td>\n",
       "      <td>25</td>\n",
       "      <td>0.183683</td>\n",
       "    </tr>\n",
       "    <tr>\n",
       "      <th>29</th>\n",
       "      <td>second</td>\n",
       "      <td>24</td>\n",
       "      <td>0.146246</td>\n",
       "    </tr>\n",
       "    <tr>\n",
       "      <th>...</th>\n",
       "      <td>...</td>\n",
       "      <td>...</td>\n",
       "      <td>...</td>\n",
       "    </tr>\n",
       "    <tr>\n",
       "      <th>1193</th>\n",
       "      <td>able</td>\n",
       "      <td>1</td>\n",
       "      <td>0.000000</td>\n",
       "    </tr>\n",
       "    <tr>\n",
       "      <th>1194</th>\n",
       "      <td>mapping</td>\n",
       "      <td>1</td>\n",
       "      <td>1.732336</td>\n",
       "    </tr>\n",
       "    <tr>\n",
       "      <th>1195</th>\n",
       "      <td>s294</td>\n",
       "      <td>1</td>\n",
       "      <td>6.782192</td>\n",
       "    </tr>\n",
       "    <tr>\n",
       "      <th>1196</th>\n",
       "      <td>acyclic</td>\n",
       "      <td>1</td>\n",
       "      <td>6.782192</td>\n",
       "    </tr>\n",
       "    <tr>\n",
       "      <th>1197</th>\n",
       "      <td>defined</td>\n",
       "      <td>1</td>\n",
       "      <td>0.303682</td>\n",
       "    </tr>\n",
       "    <tr>\n",
       "      <th>1198</th>\n",
       "      <td>0064</td>\n",
       "      <td>1</td>\n",
       "      <td>2.932044</td>\n",
       "    </tr>\n",
       "    <tr>\n",
       "      <th>1199</th>\n",
       "      <td>0026</td>\n",
       "      <td>1</td>\n",
       "      <td>2.577499</td>\n",
       "    </tr>\n",
       "    <tr>\n",
       "      <th>1200</th>\n",
       "      <td>0054</td>\n",
       "      <td>1</td>\n",
       "      <td>2.793208</td>\n",
       "    </tr>\n",
       "    <tr>\n",
       "      <th>1201</th>\n",
       "      <td>important</td>\n",
       "      <td>1</td>\n",
       "      <td>1.126200</td>\n",
       "    </tr>\n",
       "    <tr>\n",
       "      <th>1202</th>\n",
       "      <td>0070</td>\n",
       "      <td>1</td>\n",
       "      <td>2.639057</td>\n",
       "    </tr>\n",
       "    <tr>\n",
       "      <th>1203</th>\n",
       "      <td>sri</td>\n",
       "      <td>1</td>\n",
       "      <td>4.702751</td>\n",
       "    </tr>\n",
       "    <tr>\n",
       "      <th>1204</th>\n",
       "      <td>increment</td>\n",
       "      <td>1</td>\n",
       "      <td>1.707018</td>\n",
       "    </tr>\n",
       "    <tr>\n",
       "      <th>1205</th>\n",
       "      <td>round</td>\n",
       "      <td>1</td>\n",
       "      <td>0.017153</td>\n",
       "    </tr>\n",
       "    <tr>\n",
       "      <th>1206</th>\n",
       "      <td>partitioned</td>\n",
       "      <td>1</td>\n",
       "      <td>3.348205</td>\n",
       "    </tr>\n",
       "    <tr>\n",
       "      <th>1207</th>\n",
       "      <td>beginning</td>\n",
       "      <td>1</td>\n",
       "      <td>1.634698</td>\n",
       "    </tr>\n",
       "    <tr>\n",
       "      <th>1208</th>\n",
       "      <td>0027</td>\n",
       "      <td>1</td>\n",
       "      <td>2.438387</td>\n",
       "    </tr>\n",
       "    <tr>\n",
       "      <th>1209</th>\n",
       "      <td>signing</td>\n",
       "      <td>1</td>\n",
       "      <td>1.176390</td>\n",
       "    </tr>\n",
       "    <tr>\n",
       "      <th>1210</th>\n",
       "      <td>hpjvalue</td>\n",
       "      <td>1</td>\n",
       "      <td>6.782192</td>\n",
       "    </tr>\n",
       "    <tr>\n",
       "      <th>1211</th>\n",
       "      <td>advantages</td>\n",
       "      <td>1</td>\n",
       "      <td>0.541916</td>\n",
       "    </tr>\n",
       "    <tr>\n",
       "      <th>1212</th>\n",
       "      <td>ancestors</td>\n",
       "      <td>1</td>\n",
       "      <td>6.089045</td>\n",
       "    </tr>\n",
       "    <tr>\n",
       "      <th>1213</th>\n",
       "      <td>typically</td>\n",
       "      <td>1</td>\n",
       "      <td>0.245500</td>\n",
       "    </tr>\n",
       "    <tr>\n",
       "      <th>1214</th>\n",
       "      <td>perform</td>\n",
       "      <td>1</td>\n",
       "      <td>0.049981</td>\n",
       "    </tr>\n",
       "    <tr>\n",
       "      <th>1215</th>\n",
       "      <td>ties</td>\n",
       "      <td>1</td>\n",
       "      <td>0.061972</td>\n",
       "    </tr>\n",
       "    <tr>\n",
       "      <th>1216</th>\n",
       "      <td>wanted</td>\n",
       "      <td>1</td>\n",
       "      <td>2.451459</td>\n",
       "    </tr>\n",
       "    <tr>\n",
       "      <th>1217</th>\n",
       "      <td>b4</td>\n",
       "      <td>1</td>\n",
       "      <td>2.623309</td>\n",
       "    </tr>\n",
       "    <tr>\n",
       "      <th>1218</th>\n",
       "      <td>0005</td>\n",
       "      <td>1</td>\n",
       "      <td>2.167072</td>\n",
       "    </tr>\n",
       "    <tr>\n",
       "      <th>1219</th>\n",
       "      <td>0091</td>\n",
       "      <td>1</td>\n",
       "      <td>3.093313</td>\n",
       "    </tr>\n",
       "    <tr>\n",
       "      <th>1220</th>\n",
       "      <td>image</td>\n",
       "      <td>1</td>\n",
       "      <td>1.081748</td>\n",
       "    </tr>\n",
       "    <tr>\n",
       "      <th>1221</th>\n",
       "      <td>startilog2</td>\n",
       "      <td>1</td>\n",
       "      <td>6.782192</td>\n",
       "    </tr>\n",
       "    <tr>\n",
       "      <th>1222</th>\n",
       "      <td>4log21</td>\n",
       "      <td>1</td>\n",
       "      <td>6.782192</td>\n",
       "    </tr>\n",
       "  </tbody>\n",
       "</table>\n",
       "<p>1223 rows × 3 columns</p>\n",
       "</div>"
      ],
      "text/plain": [
       "            words   tf       idf\n",
       "0           chain  203  1.388565\n",
       "1          oneway  105  2.975530\n",
       "2          values  103  0.790728\n",
       "3             peg   88  3.255832\n",
       "4        position   81  0.561602\n",
       "5          helper   75  3.837753\n",
       "6            pegs   65  6.782192\n",
       "7     computation   61  1.758312\n",
       "8          output   61  0.459627\n",
       "9        function   59  0.097580\n",
       "10          given   57  0.303682\n",
       "11           hash   48  1.758312\n",
       "12       starting   45  1.459182\n",
       "13        current   44  0.174191\n",
       "14              1   42  0.000000\n",
       "15       endpoint   40  3.226844\n",
       "16      described   36  0.011403\n",
       "17          point   36  0.088868\n",
       "18       priority   33  2.037260\n",
       "19         length   33  1.289131\n",
       "20        element   33  0.294508\n",
       "21       computed   32  1.805458\n",
       "22           tree   30  1.545750\n",
       "23        compute   29  0.160786\n",
       "24         budget   28  2.249593\n",
       "25     particular   28  0.027588\n",
       "26    destination   27  1.713288\n",
       "27       distance   26  1.561836\n",
       "28        storage   25  0.183683\n",
       "29         second   24  0.146246\n",
       "...           ...  ...       ...\n",
       "1193         able    1  0.000000\n",
       "1194      mapping    1  1.732336\n",
       "1195         s294    1  6.782192\n",
       "1196      acyclic    1  6.782192\n",
       "1197      defined    1  0.303682\n",
       "1198         0064    1  2.932044\n",
       "1199         0026    1  2.577499\n",
       "1200         0054    1  2.793208\n",
       "1201    important    1  1.126200\n",
       "1202         0070    1  2.639057\n",
       "1203          sri    1  4.702751\n",
       "1204    increment    1  1.707018\n",
       "1205        round    1  0.017153\n",
       "1206  partitioned    1  3.348205\n",
       "1207    beginning    1  1.634698\n",
       "1208         0027    1  2.438387\n",
       "1209      signing    1  1.176390\n",
       "1210     hpjvalue    1  6.782192\n",
       "1211   advantages    1  0.541916\n",
       "1212    ancestors    1  6.089045\n",
       "1213    typically    1  0.245500\n",
       "1214      perform    1  0.049981\n",
       "1215         ties    1  0.061972\n",
       "1216       wanted    1  2.451459\n",
       "1217           b4    1  2.623309\n",
       "1218         0005    1  2.167072\n",
       "1219         0091    1  3.093313\n",
       "1220        image    1  1.081748\n",
       "1221   startilog2    1  6.782192\n",
       "1222       4log21    1  6.782192\n",
       "\n",
       "[1223 rows x 3 columns]"
      ]
     },
     "execution_count": 33,
     "metadata": {},
     "output_type": "execute_result"
    }
   ],
   "source": [
    "#Inverse document frequency\n",
    "for i,word in enumerate(tf1['words']):\n",
    "    tf1.loc[i, 'idf'] = np.log(df.shape[0]/(len(df[df['text'].str.contains(word)])))\n",
    "tf1"
   ]
  },
  {
   "cell_type": "code",
   "execution_count": 34,
   "metadata": {
    "scrolled": true
   },
   "outputs": [
    {
     "data": {
      "text/plain": [
       "(1223, 4)"
      ]
     },
     "execution_count": 34,
     "metadata": {},
     "output_type": "execute_result"
    }
   ],
   "source": [
    "#Tf-idf method\n",
    "tf1['tfidf'] = tf1['tf'] * tf1['idf']\n",
    "tf1.shape"
   ]
  },
  {
   "cell_type": "code",
   "execution_count": 35,
   "metadata": {},
   "outputs": [],
   "source": [
    "#Tokenization\n",
    "df['train_text'] = df['train'].apply(nltk.word_tokenize)"
   ]
  },
  {
   "cell_type": "code",
   "execution_count": 36,
   "metadata": {},
   "outputs": [
    {
     "data": {
      "text/html": [
       "<div>\n",
       "<style scoped>\n",
       "    .dataframe tbody tr th:only-of-type {\n",
       "        vertical-align: middle;\n",
       "    }\n",
       "\n",
       "    .dataframe tbody tr th {\n",
       "        vertical-align: top;\n",
       "    }\n",
       "\n",
       "    .dataframe thead th {\n",
       "        text-align: right;\n",
       "    }\n",
       "</style>\n",
       "<table border=\"1\" class=\"dataframe\">\n",
       "  <thead>\n",
       "    <tr style=\"text-align: right;\">\n",
       "      <th></th>\n",
       "      <th>ID</th>\n",
       "      <th>text</th>\n",
       "      <th>Label</th>\n",
       "      <th>train</th>\n",
       "      <th>train_text</th>\n",
       "    </tr>\n",
       "  </thead>\n",
       "  <tbody>\n",
       "    <tr>\n",
       "      <th>0</th>\n",
       "      <td>20030006121</td>\n",
       "      <td>passive radio frequency identification identif...</td>\n",
       "      <td>8</td>\n",
       "      <td>passiv radio frequenc identif identifi track c...</td>\n",
       "      <td>[passiv, radio, frequenc, identif, identifi, t...</td>\n",
       "    </tr>\n",
       "    <tr>\n",
       "      <th>1</th>\n",
       "      <td>20030009666</td>\n",
       "      <td>methods apparatus efficient computation oneway...</td>\n",
       "      <td>0</td>\n",
       "      <td>method apparatu effici comput oneway chain cry...</td>\n",
       "      <td>[method, apparatu, effici, comput, oneway, cha...</td>\n",
       "    </tr>\n",
       "    <tr>\n",
       "      <th>2</th>\n",
       "      <td>20030014337</td>\n",
       "      <td>systems methods program products performing ge...</td>\n",
       "      <td>8</td>\n",
       "      <td>system method program product perform gener co...</td>\n",
       "      <td>[system, method, program, product, perform, ge...</td>\n",
       "    </tr>\n",
       "    <tr>\n",
       "      <th>3</th>\n",
       "      <td>20030019942</td>\n",
       "      <td>electronically readable power source improved ...</td>\n",
       "      <td>8</td>\n",
       "      <td>electron readabl power sourc improv contain el...</td>\n",
       "      <td>[electron, readabl, power, sourc, improv, cont...</td>\n",
       "    </tr>\n",
       "    <tr>\n",
       "      <th>4</th>\n",
       "      <td>20030033242</td>\n",
       "      <td>automated process deal structuring automated d...</td>\n",
       "      <td>6</td>\n",
       "      <td>autom process deal structur autom deal custom ...</td>\n",
       "      <td>[autom, process, deal, structur, autom, deal, ...</td>\n",
       "    </tr>\n",
       "  </tbody>\n",
       "</table>\n",
       "</div>"
      ],
      "text/plain": [
       "            ID                                               text  Label  \\\n",
       "0  20030006121  passive radio frequency identification identif...      8   \n",
       "1  20030009666  methods apparatus efficient computation oneway...      0   \n",
       "2  20030014337  systems methods program products performing ge...      8   \n",
       "3  20030019942  electronically readable power source improved ...      8   \n",
       "4  20030033242  automated process deal structuring automated d...      6   \n",
       "\n",
       "                                               train  \\\n",
       "0  passiv radio frequenc identif identifi track c...   \n",
       "1  method apparatu effici comput oneway chain cry...   \n",
       "2  system method program product perform gener co...   \n",
       "3  electron readabl power sourc improv contain el...   \n",
       "4  autom process deal structur autom deal custom ...   \n",
       "\n",
       "                                          train_text  \n",
       "0  [passiv, radio, frequenc, identif, identifi, t...  \n",
       "1  [method, apparatu, effici, comput, oneway, cha...  \n",
       "2  [system, method, program, product, perform, ge...  \n",
       "3  [electron, readabl, power, sourc, improv, cont...  \n",
       "4  [autom, process, deal, structur, autom, deal, ...  "
      ]
     },
     "execution_count": 36,
     "metadata": {},
     "output_type": "execute_result"
    }
   ],
   "source": [
    "df.head()"
   ]
  },
  {
   "cell_type": "code",
   "execution_count": 37,
   "metadata": {},
   "outputs": [
    {
     "data": {
      "text/html": [
       "<div>\n",
       "<style scoped>\n",
       "    .dataframe tbody tr th:only-of-type {\n",
       "        vertical-align: middle;\n",
       "    }\n",
       "\n",
       "    .dataframe tbody tr th {\n",
       "        vertical-align: top;\n",
       "    }\n",
       "\n",
       "    .dataframe thead th {\n",
       "        text-align: right;\n",
       "    }\n",
       "</style>\n",
       "<table border=\"1\" class=\"dataframe\">\n",
       "  <thead>\n",
       "    <tr style=\"text-align: right;\">\n",
       "      <th></th>\n",
       "      <th>ID</th>\n",
       "      <th>text</th>\n",
       "      <th>train</th>\n",
       "      <th>train_text</th>\n",
       "    </tr>\n",
       "    <tr>\n",
       "      <th>Label</th>\n",
       "      <th></th>\n",
       "      <th></th>\n",
       "      <th></th>\n",
       "      <th></th>\n",
       "    </tr>\n",
       "  </thead>\n",
       "  <tbody>\n",
       "    <tr>\n",
       "      <th>0</th>\n",
       "      <td>274</td>\n",
       "      <td>274</td>\n",
       "      <td>274</td>\n",
       "      <td>274</td>\n",
       "    </tr>\n",
       "    <tr>\n",
       "      <th>1</th>\n",
       "      <td>84</td>\n",
       "      <td>84</td>\n",
       "      <td>84</td>\n",
       "      <td>84</td>\n",
       "    </tr>\n",
       "    <tr>\n",
       "      <th>2</th>\n",
       "      <td>77</td>\n",
       "      <td>77</td>\n",
       "      <td>77</td>\n",
       "      <td>77</td>\n",
       "    </tr>\n",
       "    <tr>\n",
       "      <th>3</th>\n",
       "      <td>61</td>\n",
       "      <td>61</td>\n",
       "      <td>61</td>\n",
       "      <td>61</td>\n",
       "    </tr>\n",
       "    <tr>\n",
       "      <th>4</th>\n",
       "      <td>37</td>\n",
       "      <td>37</td>\n",
       "      <td>37</td>\n",
       "      <td>37</td>\n",
       "    </tr>\n",
       "    <tr>\n",
       "      <th>5</th>\n",
       "      <td>42</td>\n",
       "      <td>42</td>\n",
       "      <td>42</td>\n",
       "      <td>42</td>\n",
       "    </tr>\n",
       "    <tr>\n",
       "      <th>6</th>\n",
       "      <td>45</td>\n",
       "      <td>45</td>\n",
       "      <td>45</td>\n",
       "      <td>45</td>\n",
       "    </tr>\n",
       "    <tr>\n",
       "      <th>7</th>\n",
       "      <td>34</td>\n",
       "      <td>34</td>\n",
       "      <td>34</td>\n",
       "      <td>34</td>\n",
       "    </tr>\n",
       "    <tr>\n",
       "      <th>8</th>\n",
       "      <td>228</td>\n",
       "      <td>228</td>\n",
       "      <td>228</td>\n",
       "      <td>228</td>\n",
       "    </tr>\n",
       "  </tbody>\n",
       "</table>\n",
       "</div>"
      ],
      "text/plain": [
       "        ID  text  train  train_text\n",
       "Label                              \n",
       "0      274   274    274         274\n",
       "1       84    84     84          84\n",
       "2       77    77     77          77\n",
       "3       61    61     61          61\n",
       "4       37    37     37          37\n",
       "5       42    42     42          42\n",
       "6       45    45     45          45\n",
       "7       34    34     34          34\n",
       "8      228   228    228         228"
      ]
     },
     "execution_count": 37,
     "metadata": {},
     "output_type": "execute_result"
    }
   ],
   "source": [
    "#counting different labels\n",
    "df.groupby('Label').count()"
   ]
  },
  {
   "cell_type": "code",
   "execution_count": null,
   "metadata": {},
   "outputs": [],
   "source": []
  },
  {
   "cell_type": "code",
   "execution_count": 38,
   "metadata": {},
   "outputs": [],
   "source": [
    "#setting X & y for spliting the dataset\n",
    "X = df['train']\n",
    "y = df['Label']"
   ]
  },
  {
   "cell_type": "code",
   "execution_count": 39,
   "metadata": {},
   "outputs": [],
   "source": [
    "#Spliting data into train & test set, P.S: we dont really use it\n",
    "X_train, X_test, y_train, y_test = train_test_split(X, y, test_size = 0.2, shuffle = False)\n"
   ]
  },
  {
   "cell_type": "code",
   "execution_count": 40,
   "metadata": {},
   "outputs": [
    {
     "data": {
      "text/plain": [
       "<705x1000 sparse matrix of type '<class 'numpy.float64'>'\n",
       "\twith 329789 stored elements in Compressed Sparse Row format>"
      ]
     },
     "execution_count": 40,
     "metadata": {},
     "output_type": "execute_result"
    }
   ],
   "source": [
    "#Computing dimension of the document term matrix, training set\n",
    "from sklearn.feature_extraction.text import TfidfVectorizer\n",
    "tfidf = TfidfVectorizer(max_features=1000, lowercase=True, analyzer='word',\n",
    "stop_words= 'english',ngram_range=(1,1))\n",
    "train_vect = tfidf.fit_transform(X_train)\n",
    "train_vect"
   ]
  },
  {
   "cell_type": "code",
   "execution_count": 41,
   "metadata": {},
   "outputs": [
    {
     "data": {
      "text/plain": [
       "<177x1000 sparse matrix of type '<class 'numpy.float64'>'\n",
       "\twith 88522 stored elements in Compressed Sparse Row format>"
      ]
     },
     "execution_count": 41,
     "metadata": {},
     "output_type": "execute_result"
    }
   ],
   "source": [
    "#Computing dimension of the document term matrix, testing set\n",
    "tfidf = TfidfVectorizer(max_features=1000, lowercase=True, analyzer='word',\n",
    "stop_words= 'english',ngram_range=(1,1))\n",
    "test_vect = tfidf.fit_transform(X_test)\n",
    "test_vect"
   ]
  },
  {
   "cell_type": "code",
   "execution_count": 42,
   "metadata": {},
   "outputs": [
    {
     "data": {
      "text/plain": [
       "<882x1000 sparse matrix of type '<class 'numpy.float64'>'\n",
       "\twith 418800 stored elements in Compressed Sparse Row format>"
      ]
     },
     "execution_count": 42,
     "metadata": {},
     "output_type": "execute_result"
    }
   ],
   "source": [
    "#Computing dimension of the document term matrix, whole dataset\n",
    "tfidf = TfidfVectorizer(max_features=1000, lowercase=True, analyzer='word',\n",
    "stop_words= 'english',ngram_range=(1,1))\n",
    "all_vect = tfidf.fit_transform(X)\n",
    "all_vect"
   ]
  },
  {
   "cell_type": "code",
   "execution_count": null,
   "metadata": {},
   "outputs": [],
   "source": []
  },
  {
   "cell_type": "markdown",
   "metadata": {},
   "source": [
    "# Random Forest"
   ]
  },
  {
   "cell_type": "code",
   "execution_count": 76,
   "metadata": {},
   "outputs": [],
   "source": [
    "RF = RandomForestClassifier(n_estimators=500)"
   ]
  },
  {
   "cell_type": "code",
   "execution_count": 77,
   "metadata": {},
   "outputs": [
    {
     "data": {
      "text/plain": [
       "RandomForestClassifier(bootstrap=True, class_weight=None, criterion='gini',\n",
       "            max_depth=None, max_features='auto', max_leaf_nodes=None,\n",
       "            min_impurity_decrease=0.0, min_impurity_split=None,\n",
       "            min_samples_leaf=1, min_samples_split=2,\n",
       "            min_weight_fraction_leaf=0.0, n_estimators=500, n_jobs=1,\n",
       "            oob_score=False, random_state=None, verbose=0,\n",
       "            warm_start=False)"
      ]
     },
     "execution_count": 77,
     "metadata": {},
     "output_type": "execute_result"
    }
   ],
   "source": [
    "RF.fit(all_vect, y)"
   ]
  },
  {
   "cell_type": "code",
   "execution_count": 105,
   "metadata": {},
   "outputs": [],
   "source": [
    "# print ('Accuracy Score: ', accuracy_score(y, rf_pred))"
   ]
  },
  {
   "cell_type": "code",
   "execution_count": 87,
   "metadata": {
    "collapsed": true
   },
   "outputs": [
    {
     "name": "stderr",
     "output_type": "stream",
     "text": [
      "/anaconda3/lib/python3.6/site-packages/sklearn/metrics/classification.py:1135: UndefinedMetricWarning: Precision is ill-defined and being set to 0.0 in labels with no predicted samples.\n",
      "  'precision', 'predicted', average, warn_for)\n",
      "/anaconda3/lib/python3.6/site-packages/sklearn/metrics/classification.py:1135: UndefinedMetricWarning: F-score is ill-defined and being set to 0.0 in labels with no predicted samples.\n",
      "  'precision', 'predicted', average, warn_for)\n",
      "/anaconda3/lib/python3.6/site-packages/sklearn/metrics/classification.py:1135: UndefinedMetricWarning: Precision is ill-defined and being set to 0.0 in labels with no predicted samples.\n",
      "  'precision', 'predicted', average, warn_for)\n",
      "/anaconda3/lib/python3.6/site-packages/sklearn/metrics/classification.py:1135: UndefinedMetricWarning: F-score is ill-defined and being set to 0.0 in labels with no predicted samples.\n",
      "  'precision', 'predicted', average, warn_for)\n",
      "/anaconda3/lib/python3.6/site-packages/sklearn/metrics/classification.py:1135: UndefinedMetricWarning: Precision is ill-defined and being set to 0.0 in labels with no predicted samples.\n",
      "  'precision', 'predicted', average, warn_for)\n",
      "/anaconda3/lib/python3.6/site-packages/sklearn/metrics/classification.py:1135: UndefinedMetricWarning: F-score is ill-defined and being set to 0.0 in labels with no predicted samples.\n",
      "  'precision', 'predicted', average, warn_for)\n",
      "/anaconda3/lib/python3.6/site-packages/sklearn/metrics/classification.py:1135: UndefinedMetricWarning: Precision is ill-defined and being set to 0.0 in labels with no predicted samples.\n",
      "  'precision', 'predicted', average, warn_for)\n",
      "/anaconda3/lib/python3.6/site-packages/sklearn/metrics/classification.py:1135: UndefinedMetricWarning: F-score is ill-defined and being set to 0.0 in labels with no predicted samples.\n",
      "  'precision', 'predicted', average, warn_for)\n",
      "/anaconda3/lib/python3.6/site-packages/sklearn/metrics/classification.py:1135: UndefinedMetricWarning: Precision is ill-defined and being set to 0.0 in labels with no predicted samples.\n",
      "  'precision', 'predicted', average, warn_for)\n",
      "/anaconda3/lib/python3.6/site-packages/sklearn/metrics/classification.py:1135: UndefinedMetricWarning: F-score is ill-defined and being set to 0.0 in labels with no predicted samples.\n",
      "  'precision', 'predicted', average, warn_for)\n"
     ]
    }
   ],
   "source": [
    "scoring = {'acc': 'accuracy',\n",
    "           'precision': 'precision_macro',\n",
    "           'recall': 'recall_macro',\n",
    "           'f1_score' : 'f1_macro'}\n",
    "rf_scores = cross_validate(RF, all_vect, y, scoring=scoring,\n",
    "                         cv=10, return_train_score=True)"
   ]
  },
  {
   "cell_type": "code",
   "execution_count": 89,
   "metadata": {},
   "outputs": [
    {
     "name": "stdout",
     "output_type": "stream",
     "text": [
      "dict_keys(['fit_time', 'score_time', 'test_acc', 'train_acc', 'test_precision', 'train_precision', 'test_recall', 'train_recall', 'test_f1_score', 'train_f1_score'])\n",
      "0.6371231643650203\n",
      "0.7049846980488556\n",
      "0.525672994030482\n",
      "0.5435493079010157\n"
     ]
    }
   ],
   "source": [
    "print(rf_scores.keys())\n",
    "print(rf_scores['test_acc'].mean())\n",
    "print(rf_scores['test_precision'].mean())\n",
    "print(rf_scores['test_recall'].mean())\n",
    "print(rf_scores['test_f1_score'].mean())"
   ]
  },
  {
   "cell_type": "code",
   "execution_count": 104,
   "metadata": {},
   "outputs": [
    {
     "name": "stdout",
     "output_type": "stream",
     "text": [
      "             precision    recall  f1-score   support\n",
      "\n",
      "          0       0.62      0.88      0.73       274\n",
      "          1       0.76      0.37      0.50        84\n",
      "          2       0.81      0.44      0.57        77\n",
      "          3       0.81      0.57      0.67        61\n",
      "          4       0.83      0.41      0.55        37\n",
      "          5       0.80      0.29      0.42        42\n",
      "          6       0.71      0.38      0.49        45\n",
      "          7       0.95      0.62      0.75        34\n",
      "          8       0.54      0.70      0.61       228\n",
      "\n",
      "avg / total       0.68      0.64      0.63       882\n",
      "\n"
     ]
    }
   ],
   "source": [
    "#Use cross validation predict to make prediction on the entire dataset\n",
    "rf_pred = cross_val_predict(RF, all_vect, y, cv=10)\n",
    "\n",
    "#Use classification report to get the precision & recall table, compare with prediction and actual labels\n",
    "print(classification_report(y,rf_pred))"
   ]
  },
  {
   "cell_type": "code",
   "execution_count": 122,
   "metadata": {},
   "outputs": [],
   "source": [
    "#Assign the prediction back to dataframe\n",
    "df['rf_prediction'] = rf_pred"
   ]
  },
  {
   "cell_type": "code",
   "execution_count": 123,
   "metadata": {},
   "outputs": [
    {
     "data": {
      "text/html": [
       "<div>\n",
       "<style scoped>\n",
       "    .dataframe tbody tr th:only-of-type {\n",
       "        vertical-align: middle;\n",
       "    }\n",
       "\n",
       "    .dataframe tbody tr th {\n",
       "        vertical-align: top;\n",
       "    }\n",
       "\n",
       "    .dataframe thead th {\n",
       "        text-align: right;\n",
       "    }\n",
       "</style>\n",
       "<table border=\"1\" class=\"dataframe\">\n",
       "  <thead>\n",
       "    <tr style=\"text-align: right;\">\n",
       "      <th></th>\n",
       "      <th>ID</th>\n",
       "      <th>text</th>\n",
       "      <th>Label</th>\n",
       "      <th>train</th>\n",
       "      <th>train_text</th>\n",
       "    </tr>\n",
       "    <tr>\n",
       "      <th>rf_prediction</th>\n",
       "      <th></th>\n",
       "      <th></th>\n",
       "      <th></th>\n",
       "      <th></th>\n",
       "      <th></th>\n",
       "    </tr>\n",
       "  </thead>\n",
       "  <tbody>\n",
       "    <tr>\n",
       "      <th>0</th>\n",
       "      <td>385</td>\n",
       "      <td>385</td>\n",
       "      <td>385</td>\n",
       "      <td>385</td>\n",
       "      <td>385</td>\n",
       "    </tr>\n",
       "    <tr>\n",
       "      <th>1</th>\n",
       "      <td>41</td>\n",
       "      <td>41</td>\n",
       "      <td>41</td>\n",
       "      <td>41</td>\n",
       "      <td>41</td>\n",
       "    </tr>\n",
       "    <tr>\n",
       "      <th>2</th>\n",
       "      <td>42</td>\n",
       "      <td>42</td>\n",
       "      <td>42</td>\n",
       "      <td>42</td>\n",
       "      <td>42</td>\n",
       "    </tr>\n",
       "    <tr>\n",
       "      <th>3</th>\n",
       "      <td>43</td>\n",
       "      <td>43</td>\n",
       "      <td>43</td>\n",
       "      <td>43</td>\n",
       "      <td>43</td>\n",
       "    </tr>\n",
       "    <tr>\n",
       "      <th>4</th>\n",
       "      <td>18</td>\n",
       "      <td>18</td>\n",
       "      <td>18</td>\n",
       "      <td>18</td>\n",
       "      <td>18</td>\n",
       "    </tr>\n",
       "    <tr>\n",
       "      <th>5</th>\n",
       "      <td>15</td>\n",
       "      <td>15</td>\n",
       "      <td>15</td>\n",
       "      <td>15</td>\n",
       "      <td>15</td>\n",
       "    </tr>\n",
       "    <tr>\n",
       "      <th>6</th>\n",
       "      <td>24</td>\n",
       "      <td>24</td>\n",
       "      <td>24</td>\n",
       "      <td>24</td>\n",
       "      <td>24</td>\n",
       "    </tr>\n",
       "    <tr>\n",
       "      <th>7</th>\n",
       "      <td>22</td>\n",
       "      <td>22</td>\n",
       "      <td>22</td>\n",
       "      <td>22</td>\n",
       "      <td>22</td>\n",
       "    </tr>\n",
       "    <tr>\n",
       "      <th>8</th>\n",
       "      <td>292</td>\n",
       "      <td>292</td>\n",
       "      <td>292</td>\n",
       "      <td>292</td>\n",
       "      <td>292</td>\n",
       "    </tr>\n",
       "  </tbody>\n",
       "</table>\n",
       "</div>"
      ],
      "text/plain": [
       "                ID  text  Label  train  train_text\n",
       "rf_prediction                                     \n",
       "0              385   385    385    385         385\n",
       "1               41    41     41     41          41\n",
       "2               42    42     42     42          42\n",
       "3               43    43     43     43          43\n",
       "4               18    18     18     18          18\n",
       "5               15    15     15     15          15\n",
       "6               24    24     24     24          24\n",
       "7               22    22     22     22          22\n",
       "8              292   292    292    292         292"
      ]
     },
     "execution_count": 123,
     "metadata": {},
     "output_type": "execute_result"
    }
   ],
   "source": [
    "#Count the prediction labels\n",
    "df.groupby('rf_prediction').count()"
   ]
  },
  {
   "cell_type": "code",
   "execution_count": 124,
   "metadata": {},
   "outputs": [
    {
     "data": {
      "text/html": [
       "<div>\n",
       "<style scoped>\n",
       "    .dataframe tbody tr th:only-of-type {\n",
       "        vertical-align: middle;\n",
       "    }\n",
       "\n",
       "    .dataframe tbody tr th {\n",
       "        vertical-align: top;\n",
       "    }\n",
       "\n",
       "    .dataframe thead th {\n",
       "        text-align: right;\n",
       "    }\n",
       "</style>\n",
       "<table border=\"1\" class=\"dataframe\">\n",
       "  <thead>\n",
       "    <tr style=\"text-align: right;\">\n",
       "      <th></th>\n",
       "      <th>ID</th>\n",
       "      <th>text</th>\n",
       "      <th>train</th>\n",
       "      <th>train_text</th>\n",
       "      <th>rf_prediction</th>\n",
       "    </tr>\n",
       "    <tr>\n",
       "      <th>Label</th>\n",
       "      <th></th>\n",
       "      <th></th>\n",
       "      <th></th>\n",
       "      <th></th>\n",
       "      <th></th>\n",
       "    </tr>\n",
       "  </thead>\n",
       "  <tbody>\n",
       "    <tr>\n",
       "      <th>0</th>\n",
       "      <td>274</td>\n",
       "      <td>274</td>\n",
       "      <td>274</td>\n",
       "      <td>274</td>\n",
       "      <td>274</td>\n",
       "    </tr>\n",
       "    <tr>\n",
       "      <th>1</th>\n",
       "      <td>84</td>\n",
       "      <td>84</td>\n",
       "      <td>84</td>\n",
       "      <td>84</td>\n",
       "      <td>84</td>\n",
       "    </tr>\n",
       "    <tr>\n",
       "      <th>2</th>\n",
       "      <td>77</td>\n",
       "      <td>77</td>\n",
       "      <td>77</td>\n",
       "      <td>77</td>\n",
       "      <td>77</td>\n",
       "    </tr>\n",
       "    <tr>\n",
       "      <th>3</th>\n",
       "      <td>61</td>\n",
       "      <td>61</td>\n",
       "      <td>61</td>\n",
       "      <td>61</td>\n",
       "      <td>61</td>\n",
       "    </tr>\n",
       "    <tr>\n",
       "      <th>4</th>\n",
       "      <td>37</td>\n",
       "      <td>37</td>\n",
       "      <td>37</td>\n",
       "      <td>37</td>\n",
       "      <td>37</td>\n",
       "    </tr>\n",
       "    <tr>\n",
       "      <th>5</th>\n",
       "      <td>42</td>\n",
       "      <td>42</td>\n",
       "      <td>42</td>\n",
       "      <td>42</td>\n",
       "      <td>42</td>\n",
       "    </tr>\n",
       "    <tr>\n",
       "      <th>6</th>\n",
       "      <td>45</td>\n",
       "      <td>45</td>\n",
       "      <td>45</td>\n",
       "      <td>45</td>\n",
       "      <td>45</td>\n",
       "    </tr>\n",
       "    <tr>\n",
       "      <th>7</th>\n",
       "      <td>34</td>\n",
       "      <td>34</td>\n",
       "      <td>34</td>\n",
       "      <td>34</td>\n",
       "      <td>34</td>\n",
       "    </tr>\n",
       "    <tr>\n",
       "      <th>8</th>\n",
       "      <td>228</td>\n",
       "      <td>228</td>\n",
       "      <td>228</td>\n",
       "      <td>228</td>\n",
       "      <td>228</td>\n",
       "    </tr>\n",
       "  </tbody>\n",
       "</table>\n",
       "</div>"
      ],
      "text/plain": [
       "        ID  text  train  train_text  rf_prediction\n",
       "Label                                             \n",
       "0      274   274    274         274            274\n",
       "1       84    84     84          84             84\n",
       "2       77    77     77          77             77\n",
       "3       61    61     61          61             61\n",
       "4       37    37     37          37             37\n",
       "5       42    42     42          42             42\n",
       "6       45    45     45          45             45\n",
       "7       34    34     34          34             34\n",
       "8      228   228    228         228            228"
      ]
     },
     "execution_count": 124,
     "metadata": {},
     "output_type": "execute_result"
    }
   ],
   "source": [
    "#Count the actual labels\n",
    "df.groupby('Label').count()"
   ]
  },
  {
   "cell_type": "code",
   "execution_count": null,
   "metadata": {},
   "outputs": [],
   "source": []
  },
  {
   "cell_type": "markdown",
   "metadata": {},
   "source": [
    "# Gradient Boost"
   ]
  },
  {
   "cell_type": "code",
   "execution_count": 106,
   "metadata": {},
   "outputs": [],
   "source": [
    "GB = GradientBoostingClassifier(learning_rate = 0.25)"
   ]
  },
  {
   "cell_type": "code",
   "execution_count": 107,
   "metadata": {},
   "outputs": [
    {
     "data": {
      "text/plain": [
       "GradientBoostingClassifier(criterion='friedman_mse', init=None,\n",
       "              learning_rate=0.25, loss='deviance', max_depth=3,\n",
       "              max_features=None, max_leaf_nodes=None,\n",
       "              min_impurity_decrease=0.0, min_impurity_split=None,\n",
       "              min_samples_leaf=1, min_samples_split=2,\n",
       "              min_weight_fraction_leaf=0.0, n_estimators=100,\n",
       "              presort='auto', random_state=None, subsample=1.0, verbose=0,\n",
       "              warm_start=False)"
      ]
     },
     "execution_count": 107,
     "metadata": {},
     "output_type": "execute_result"
    }
   ],
   "source": [
    "GB.fit(all_vect, y)"
   ]
  },
  {
   "cell_type": "code",
   "execution_count": 57,
   "metadata": {},
   "outputs": [
    {
     "name": "stderr",
     "output_type": "stream",
     "text": [
      "/usr/local/lib64/python3.6/site-packages/sklearn/metrics/classification.py:1135: UndefinedMetricWarning: Precision is ill-defined and being set to 0.0 in labels with no predicted samples.\n",
      "  'precision', 'predicted', average, warn_for)\n",
      "/usr/local/lib64/python3.6/site-packages/sklearn/metrics/classification.py:1135: UndefinedMetricWarning: F-score is ill-defined and being set to 0.0 in labels with no predicted samples.\n",
      "  'precision', 'predicted', average, warn_for)\n"
     ]
    }
   ],
   "source": [
    "scoring = {'acc': 'accuracy',\n",
    "           'precision': 'precision_macro',\n",
    "           'recall': 'recall_macro',\n",
    "           'f1_score' : 'f1_macro'}\n",
    "gb_scores = cross_validate(GB, all_vect, y, scoring=scoring,\n",
    "                         cv=10, return_train_score=True)"
   ]
  },
  {
   "cell_type": "code",
   "execution_count": 58,
   "metadata": {},
   "outputs": [
    {
     "name": "stdout",
     "output_type": "stream",
     "text": [
      "dict_keys(['fit_time', 'score_time', 'test_acc', 'train_acc', 'test_precision', 'train_precision', 'test_recall', 'train_recall', 'test_f1_score', 'train_f1_score'])\n",
      "0.6371013859500783\n",
      "0.7278177288264145\n",
      "0.6345988699974208\n",
      "0.6289157585683471\n"
     ]
    }
   ],
   "source": [
    "print(gb_scores.keys())\n",
    "print(gb_scores['test_acc'].mean())\n",
    "print(gb_scores['test_precision'].mean())\n",
    "print(gb_scores['test_recall'].mean())\n",
    "print(gb_scores['test_f1_score'].mean())"
   ]
  },
  {
   "cell_type": "code",
   "execution_count": 108,
   "metadata": {},
   "outputs": [
    {
     "name": "stdout",
     "output_type": "stream",
     "text": [
      "             precision    recall  f1-score   support\n",
      "\n",
      "          0       0.65      0.74      0.69       274\n",
      "          1       0.55      0.39      0.46        84\n",
      "          2       0.64      0.44      0.52        77\n",
      "          3       0.76      0.62      0.68        61\n",
      "          4       0.59      0.70      0.64        37\n",
      "          5       0.68      0.67      0.67        42\n",
      "          6       0.73      0.53      0.62        45\n",
      "          7       0.64      0.79      0.71        34\n",
      "          8       0.54      0.60      0.57       228\n",
      "\n",
      "avg / total       0.62      0.62      0.62       882\n",
      "\n"
     ]
    }
   ],
   "source": [
    "#Use cross validation predict to make prediction on the entire dataset\n",
    "gb_pred = cross_val_predict(GB, all_vect, y, cv=10)\n",
    "\n",
    "#Use classification report to get the precision & recall table, compare with prediction and actual labels\n",
    "print(classification_report(y,gb_pred))"
   ]
  },
  {
   "cell_type": "code",
   "execution_count": null,
   "metadata": {},
   "outputs": [],
   "source": []
  },
  {
   "cell_type": "markdown",
   "metadata": {},
   "source": [
    "# Naive Bayes"
   ]
  },
  {
   "cell_type": "code",
   "execution_count": 109,
   "metadata": {},
   "outputs": [],
   "source": [
    "clf = MultinomialNB().fit(all_vect, y)"
   ]
  },
  {
   "cell_type": "code",
   "execution_count": 60,
   "metadata": {
    "collapsed": true
   },
   "outputs": [
    {
     "name": "stderr",
     "output_type": "stream",
     "text": [
      "/usr/local/lib64/python3.6/site-packages/sklearn/metrics/classification.py:1135: UndefinedMetricWarning: Precision is ill-defined and being set to 0.0 in labels with no predicted samples.\n",
      "  'precision', 'predicted', average, warn_for)\n",
      "/usr/local/lib64/python3.6/site-packages/sklearn/metrics/classification.py:1135: UndefinedMetricWarning: F-score is ill-defined and being set to 0.0 in labels with no predicted samples.\n",
      "  'precision', 'predicted', average, warn_for)\n",
      "/usr/local/lib64/python3.6/site-packages/sklearn/metrics/classification.py:1135: UndefinedMetricWarning: Precision is ill-defined and being set to 0.0 in labels with no predicted samples.\n",
      "  'precision', 'predicted', average, warn_for)\n",
      "/usr/local/lib64/python3.6/site-packages/sklearn/metrics/classification.py:1135: UndefinedMetricWarning: F-score is ill-defined and being set to 0.0 in labels with no predicted samples.\n",
      "  'precision', 'predicted', average, warn_for)\n",
      "/usr/local/lib64/python3.6/site-packages/sklearn/metrics/classification.py:1135: UndefinedMetricWarning: Precision is ill-defined and being set to 0.0 in labels with no predicted samples.\n",
      "  'precision', 'predicted', average, warn_for)\n",
      "/usr/local/lib64/python3.6/site-packages/sklearn/metrics/classification.py:1135: UndefinedMetricWarning: F-score is ill-defined and being set to 0.0 in labels with no predicted samples.\n",
      "  'precision', 'predicted', average, warn_for)\n",
      "/usr/local/lib64/python3.6/site-packages/sklearn/metrics/classification.py:1135: UndefinedMetricWarning: Precision is ill-defined and being set to 0.0 in labels with no predicted samples.\n",
      "  'precision', 'predicted', average, warn_for)\n",
      "/usr/local/lib64/python3.6/site-packages/sklearn/metrics/classification.py:1135: UndefinedMetricWarning: F-score is ill-defined and being set to 0.0 in labels with no predicted samples.\n",
      "  'precision', 'predicted', average, warn_for)\n",
      "/usr/local/lib64/python3.6/site-packages/sklearn/metrics/classification.py:1135: UndefinedMetricWarning: Precision is ill-defined and being set to 0.0 in labels with no predicted samples.\n",
      "  'precision', 'predicted', average, warn_for)\n",
      "/usr/local/lib64/python3.6/site-packages/sklearn/metrics/classification.py:1135: UndefinedMetricWarning: F-score is ill-defined and being set to 0.0 in labels with no predicted samples.\n",
      "  'precision', 'predicted', average, warn_for)\n",
      "/usr/local/lib64/python3.6/site-packages/sklearn/metrics/classification.py:1135: UndefinedMetricWarning: Precision is ill-defined and being set to 0.0 in labels with no predicted samples.\n",
      "  'precision', 'predicted', average, warn_for)\n",
      "/usr/local/lib64/python3.6/site-packages/sklearn/metrics/classification.py:1135: UndefinedMetricWarning: F-score is ill-defined and being set to 0.0 in labels with no predicted samples.\n",
      "  'precision', 'predicted', average, warn_for)\n",
      "/usr/local/lib64/python3.6/site-packages/sklearn/metrics/classification.py:1135: UndefinedMetricWarning: Precision is ill-defined and being set to 0.0 in labels with no predicted samples.\n",
      "  'precision', 'predicted', average, warn_for)\n",
      "/usr/local/lib64/python3.6/site-packages/sklearn/metrics/classification.py:1135: UndefinedMetricWarning: F-score is ill-defined and being set to 0.0 in labels with no predicted samples.\n",
      "  'precision', 'predicted', average, warn_for)\n",
      "/usr/local/lib64/python3.6/site-packages/sklearn/metrics/classification.py:1135: UndefinedMetricWarning: Precision is ill-defined and being set to 0.0 in labels with no predicted samples.\n",
      "  'precision', 'predicted', average, warn_for)\n",
      "/usr/local/lib64/python3.6/site-packages/sklearn/metrics/classification.py:1135: UndefinedMetricWarning: F-score is ill-defined and being set to 0.0 in labels with no predicted samples.\n",
      "  'precision', 'predicted', average, warn_for)\n",
      "/usr/local/lib64/python3.6/site-packages/sklearn/metrics/classification.py:1135: UndefinedMetricWarning: Precision is ill-defined and being set to 0.0 in labels with no predicted samples.\n",
      "  'precision', 'predicted', average, warn_for)\n",
      "/usr/local/lib64/python3.6/site-packages/sklearn/metrics/classification.py:1135: UndefinedMetricWarning: F-score is ill-defined and being set to 0.0 in labels with no predicted samples.\n",
      "  'precision', 'predicted', average, warn_for)\n",
      "/usr/local/lib64/python3.6/site-packages/sklearn/metrics/classification.py:1135: UndefinedMetricWarning: Precision is ill-defined and being set to 0.0 in labels with no predicted samples.\n",
      "  'precision', 'predicted', average, warn_for)\n",
      "/usr/local/lib64/python3.6/site-packages/sklearn/metrics/classification.py:1135: UndefinedMetricWarning: F-score is ill-defined and being set to 0.0 in labels with no predicted samples.\n",
      "  'precision', 'predicted', average, warn_for)\n"
     ]
    }
   ],
   "source": [
    "scoring = {'acc': 'accuracy',\n",
    "           'precision': 'precision_macro',\n",
    "           'recall': 'recall_macro',\n",
    "           'f1_score' : 'f1_macro'}\n",
    "nb_scores = cross_validate(clf, all_vect, y, scoring=scoring,\n",
    "                         cv=10, return_train_score=True)"
   ]
  },
  {
   "cell_type": "code",
   "execution_count": 61,
   "metadata": {},
   "outputs": [
    {
     "name": "stdout",
     "output_type": "stream",
     "text": [
      "dict_keys(['fit_time', 'score_time', 'test_acc', 'train_acc', 'test_precision', 'train_precision', 'test_recall', 'train_recall', 'test_f1_score', 'train_f1_score'])\n",
      "0.5952837841344678\n",
      "0.5742715387215398\n",
      "0.41418035310547385\n",
      "0.4267011691481966\n"
     ]
    }
   ],
   "source": [
    "print(nb_scores.keys())\n",
    "print(nb_scores['test_acc'].mean())\n",
    "print(nb_scores['test_precision'].mean())\n",
    "print(nb_scores['test_recall'].mean())\n",
    "print(nb_scores['test_f1_score'].mean())"
   ]
  },
  {
   "cell_type": "code",
   "execution_count": 110,
   "metadata": {},
   "outputs": [
    {
     "name": "stdout",
     "output_type": "stream",
     "text": [
      "             precision    recall  f1-score   support\n",
      "\n",
      "          0       0.58      0.87      0.70       274\n",
      "          1       0.76      0.26      0.39        84\n",
      "          2       0.83      0.26      0.40        77\n",
      "          3       0.85      0.64      0.73        61\n",
      "          4       0.67      0.05      0.10        37\n",
      "          5       0.50      0.07      0.12        42\n",
      "          6       0.58      0.33      0.42        45\n",
      "          7       0.94      0.47      0.63        34\n",
      "          8       0.53      0.74      0.62       228\n",
      "\n",
      "avg / total       0.64      0.59      0.55       882\n",
      "\n"
     ]
    }
   ],
   "source": [
    "#Use cross validation predict to make prediction on the entire dataset\n",
    "nb_pred = cross_val_predict(clf, all_vect, y, cv=10)\n",
    "\n",
    "#Use classification report to get the precision & recall table, compare with prediction and actual labels\n",
    "print(classification_report(y,nb_pred))"
   ]
  },
  {
   "cell_type": "code",
   "execution_count": null,
   "metadata": {},
   "outputs": [],
   "source": []
  },
  {
   "cell_type": "markdown",
   "metadata": {},
   "source": [
    "# KNN"
   ]
  },
  {
   "cell_type": "code",
   "execution_count": 111,
   "metadata": {},
   "outputs": [
    {
     "data": {
      "text/plain": [
       "KNeighborsClassifier(algorithm='auto', leaf_size=30, metric='minkowski',\n",
       "           metric_params=None, n_jobs=1, n_neighbors=5, p=2,\n",
       "           weights='uniform')"
      ]
     },
     "execution_count": 111,
     "metadata": {},
     "output_type": "execute_result"
    }
   ],
   "source": [
    "modelknn = KNeighborsClassifier(n_neighbors=5)\n",
    "modelknn.fit(all_vect,y)"
   ]
  },
  {
   "cell_type": "code",
   "execution_count": 67,
   "metadata": {
    "collapsed": true
   },
   "outputs": [
    {
     "name": "stderr",
     "output_type": "stream",
     "text": [
      "/usr/local/lib64/python3.6/site-packages/sklearn/metrics/classification.py:1135: UndefinedMetricWarning: Precision is ill-defined and being set to 0.0 in labels with no predicted samples.\n",
      "  'precision', 'predicted', average, warn_for)\n",
      "/usr/local/lib64/python3.6/site-packages/sklearn/metrics/classification.py:1135: UndefinedMetricWarning: F-score is ill-defined and being set to 0.0 in labels with no predicted samples.\n",
      "  'precision', 'predicted', average, warn_for)\n"
     ]
    }
   ],
   "source": [
    "scoring = {'acc': 'accuracy',\n",
    "           'precision': 'precision_macro',\n",
    "           'recall': 'recall_macro',\n",
    "           'f1_score' : 'f1_macro'}\n",
    "knn_scores = cross_validate(modelknn, all_vect, y, scoring=scoring,\n",
    "                         cv=10, return_train_score=True)"
   ]
  },
  {
   "cell_type": "code",
   "execution_count": 68,
   "metadata": {},
   "outputs": [
    {
     "name": "stdout",
     "output_type": "stream",
     "text": [
      "dict_keys(['fit_time', 'score_time', 'test_acc', 'train_acc', 'test_precision', 'train_precision', 'test_recall', 'train_recall', 'test_f1_score', 'train_f1_score'])\n",
      "0.5797076951736007\n",
      "0.6241607147238207\n",
      "0.6348628683894384\n",
      "0.5978273256001948\n"
     ]
    }
   ],
   "source": [
    "print(knn_scores.keys())\n",
    "print(knn_scores['test_acc'].mean())\n",
    "print(knn_scores['test_precision'].mean())\n",
    "print(knn_scores['test_recall'].mean())\n",
    "print(knn_scores['test_f1_score'].mean())"
   ]
  },
  {
   "cell_type": "code",
   "execution_count": 112,
   "metadata": {},
   "outputs": [
    {
     "name": "stdout",
     "output_type": "stream",
     "text": [
      "             precision    recall  f1-score   support\n",
      "\n",
      "          0       0.67      0.69      0.68       274\n",
      "          1       0.43      0.55      0.48        84\n",
      "          2       0.43      0.48      0.45        77\n",
      "          3       0.69      0.74      0.71        61\n",
      "          4       0.64      0.68      0.66        37\n",
      "          5       0.47      0.76      0.58        42\n",
      "          6       0.51      0.67      0.58        45\n",
      "          7       0.81      0.76      0.79        34\n",
      "          8       0.57      0.36      0.44       228\n",
      "\n",
      "avg / total       0.59      0.58      0.57       882\n",
      "\n"
     ]
    }
   ],
   "source": [
    "#Use cross validation predict to make prediction on the entire dataset\n",
    "knn_pred = cross_val_predict(modelknn, all_vect, y, cv=10)\n",
    "\n",
    "#Use classification report to get the precision & recall table, compare with prediction and actual labels\n",
    "print(classification_report(y,knn_pred))"
   ]
  },
  {
   "cell_type": "code",
   "execution_count": null,
   "metadata": {},
   "outputs": [],
   "source": []
  },
  {
   "cell_type": "markdown",
   "metadata": {},
   "source": [
    "# SVM Linear"
   ]
  },
  {
   "cell_type": "code",
   "execution_count": 113,
   "metadata": {},
   "outputs": [],
   "source": [
    "svm_clf=SVC(kernel=\"linear\").fit(all_vect,y)"
   ]
  },
  {
   "cell_type": "code",
   "execution_count": 71,
   "metadata": {
    "collapsed": true
   },
   "outputs": [
    {
     "name": "stderr",
     "output_type": "stream",
     "text": [
      "/usr/local/lib64/python3.6/site-packages/sklearn/metrics/classification.py:1135: UndefinedMetricWarning: Precision is ill-defined and being set to 0.0 in labels with no predicted samples.\n",
      "  'precision', 'predicted', average, warn_for)\n",
      "/usr/local/lib64/python3.6/site-packages/sklearn/metrics/classification.py:1135: UndefinedMetricWarning: F-score is ill-defined and being set to 0.0 in labels with no predicted samples.\n",
      "  'precision', 'predicted', average, warn_for)\n"
     ]
    }
   ],
   "source": [
    "scoring = {'acc': 'accuracy',\n",
    "           'precision': 'precision_macro',\n",
    "           'recall': 'recall_macro',\n",
    "           'f1_score' : 'f1_macro'}\n",
    "svm_scores = cross_validate(svm_clf, all_vect, y, scoring=scoring,\n",
    "                         cv=10, return_train_score=True)"
   ]
  },
  {
   "cell_type": "code",
   "execution_count": 72,
   "metadata": {},
   "outputs": [
    {
     "name": "stdout",
     "output_type": "stream",
     "text": [
      "dict_keys(['fit_time', 'score_time', 'test_acc', 'train_acc', 'test_precision', 'train_precision', 'test_recall', 'train_recall', 'test_f1_score', 'train_f1_score'])\n",
      "0.6619155096582132\n",
      "0.7313168966169523\n",
      "0.642036804669655\n",
      "0.6448744542190752\n"
     ]
    }
   ],
   "source": [
    "print(svm_scores.keys())\n",
    "print(svm_scores['test_acc'].mean())\n",
    "print(svm_scores['test_precision'].mean())\n",
    "print(svm_scores['test_recall'].mean())\n",
    "print(svm_scores['test_f1_score'].mean())"
   ]
  },
  {
   "cell_type": "code",
   "execution_count": 114,
   "metadata": {},
   "outputs": [
    {
     "name": "stdout",
     "output_type": "stream",
     "text": [
      "             precision    recall  f1-score   support\n",
      "\n",
      "          0       0.68      0.82      0.74       274\n",
      "          1       0.61      0.55      0.58        84\n",
      "          2       0.69      0.49      0.58        77\n",
      "          3       0.77      0.75      0.76        61\n",
      "          4       0.68      0.76      0.72        37\n",
      "          5       0.60      0.57      0.59        42\n",
      "          6       0.57      0.58      0.57        45\n",
      "          7       1.00      0.65      0.79        34\n",
      "          8       0.60      0.57      0.58       228\n",
      "\n",
      "avg / total       0.66      0.66      0.66       882\n",
      "\n"
     ]
    }
   ],
   "source": [
    "#Use cross validation predict to make prediction on the entire dataset\n",
    "svm_pred = cross_val_predict(svm_clf, all_vect, y, cv=10)\n",
    "\n",
    "#Use classification report to get the precision & recall table, compare with prediction and actual labels\n",
    "print(classification_report(y,svm_pred))"
   ]
  },
  {
   "cell_type": "code",
   "execution_count": null,
   "metadata": {},
   "outputs": [],
   "source": []
  },
  {
   "cell_type": "markdown",
   "metadata": {},
   "source": [
    "# SVM Non-Linear"
   ]
  },
  {
   "cell_type": "code",
   "execution_count": 115,
   "metadata": {},
   "outputs": [],
   "source": [
    "svm_non=SVC(kernel=\"rbf\",cache_size=1,class_weight={1:2}).fit(all_vect,y)"
   ]
  },
  {
   "cell_type": "code",
   "execution_count": 74,
   "metadata": {
    "collapsed": true
   },
   "outputs": [
    {
     "name": "stderr",
     "output_type": "stream",
     "text": [
      "/usr/local/lib64/python3.6/site-packages/sklearn/metrics/classification.py:1135: UndefinedMetricWarning: Precision is ill-defined and being set to 0.0 in labels with no predicted samples.\n",
      "  'precision', 'predicted', average, warn_for)\n",
      "/usr/local/lib64/python3.6/site-packages/sklearn/metrics/classification.py:1135: UndefinedMetricWarning: F-score is ill-defined and being set to 0.0 in labels with no predicted samples.\n",
      "  'precision', 'predicted', average, warn_for)\n",
      "/usr/local/lib64/python3.6/site-packages/sklearn/metrics/classification.py:1135: UndefinedMetricWarning: Precision is ill-defined and being set to 0.0 in labels with no predicted samples.\n",
      "  'precision', 'predicted', average, warn_for)\n",
      "/usr/local/lib64/python3.6/site-packages/sklearn/metrics/classification.py:1135: UndefinedMetricWarning: F-score is ill-defined and being set to 0.0 in labels with no predicted samples.\n",
      "  'precision', 'predicted', average, warn_for)\n",
      "/usr/local/lib64/python3.6/site-packages/sklearn/metrics/classification.py:1135: UndefinedMetricWarning: Precision is ill-defined and being set to 0.0 in labels with no predicted samples.\n",
      "  'precision', 'predicted', average, warn_for)\n",
      "/usr/local/lib64/python3.6/site-packages/sklearn/metrics/classification.py:1135: UndefinedMetricWarning: F-score is ill-defined and being set to 0.0 in labels with no predicted samples.\n",
      "  'precision', 'predicted', average, warn_for)\n",
      "/usr/local/lib64/python3.6/site-packages/sklearn/metrics/classification.py:1135: UndefinedMetricWarning: Precision is ill-defined and being set to 0.0 in labels with no predicted samples.\n",
      "  'precision', 'predicted', average, warn_for)\n",
      "/usr/local/lib64/python3.6/site-packages/sklearn/metrics/classification.py:1135: UndefinedMetricWarning: F-score is ill-defined and being set to 0.0 in labels with no predicted samples.\n",
      "  'precision', 'predicted', average, warn_for)\n",
      "/usr/local/lib64/python3.6/site-packages/sklearn/metrics/classification.py:1135: UndefinedMetricWarning: Precision is ill-defined and being set to 0.0 in labels with no predicted samples.\n",
      "  'precision', 'predicted', average, warn_for)\n",
      "/usr/local/lib64/python3.6/site-packages/sklearn/metrics/classification.py:1135: UndefinedMetricWarning: F-score is ill-defined and being set to 0.0 in labels with no predicted samples.\n",
      "  'precision', 'predicted', average, warn_for)\n",
      "/usr/local/lib64/python3.6/site-packages/sklearn/metrics/classification.py:1135: UndefinedMetricWarning: Precision is ill-defined and being set to 0.0 in labels with no predicted samples.\n",
      "  'precision', 'predicted', average, warn_for)\n",
      "/usr/local/lib64/python3.6/site-packages/sklearn/metrics/classification.py:1135: UndefinedMetricWarning: F-score is ill-defined and being set to 0.0 in labels with no predicted samples.\n",
      "  'precision', 'predicted', average, warn_for)\n",
      "/usr/local/lib64/python3.6/site-packages/sklearn/metrics/classification.py:1135: UndefinedMetricWarning: Precision is ill-defined and being set to 0.0 in labels with no predicted samples.\n",
      "  'precision', 'predicted', average, warn_for)\n",
      "/usr/local/lib64/python3.6/site-packages/sklearn/metrics/classification.py:1135: UndefinedMetricWarning: F-score is ill-defined and being set to 0.0 in labels with no predicted samples.\n",
      "  'precision', 'predicted', average, warn_for)\n",
      "/usr/local/lib64/python3.6/site-packages/sklearn/metrics/classification.py:1135: UndefinedMetricWarning: Precision is ill-defined and being set to 0.0 in labels with no predicted samples.\n",
      "  'precision', 'predicted', average, warn_for)\n",
      "/usr/local/lib64/python3.6/site-packages/sklearn/metrics/classification.py:1135: UndefinedMetricWarning: F-score is ill-defined and being set to 0.0 in labels with no predicted samples.\n",
      "  'precision', 'predicted', average, warn_for)\n",
      "/usr/local/lib64/python3.6/site-packages/sklearn/metrics/classification.py:1135: UndefinedMetricWarning: Precision is ill-defined and being set to 0.0 in labels with no predicted samples.\n",
      "  'precision', 'predicted', average, warn_for)\n",
      "/usr/local/lib64/python3.6/site-packages/sklearn/metrics/classification.py:1135: UndefinedMetricWarning: F-score is ill-defined and being set to 0.0 in labels with no predicted samples.\n",
      "  'precision', 'predicted', average, warn_for)\n",
      "/usr/local/lib64/python3.6/site-packages/sklearn/metrics/classification.py:1135: UndefinedMetricWarning: Precision is ill-defined and being set to 0.0 in labels with no predicted samples.\n",
      "  'precision', 'predicted', average, warn_for)\n",
      "/usr/local/lib64/python3.6/site-packages/sklearn/metrics/classification.py:1135: UndefinedMetricWarning: F-score is ill-defined and being set to 0.0 in labels with no predicted samples.\n",
      "  'precision', 'predicted', average, warn_for)\n",
      "/usr/local/lib64/python3.6/site-packages/sklearn/metrics/classification.py:1135: UndefinedMetricWarning: Precision is ill-defined and being set to 0.0 in labels with no predicted samples.\n",
      "  'precision', 'predicted', average, warn_for)\n",
      "/usr/local/lib64/python3.6/site-packages/sklearn/metrics/classification.py:1135: UndefinedMetricWarning: F-score is ill-defined and being set to 0.0 in labels with no predicted samples.\n",
      "  'precision', 'predicted', average, warn_for)\n",
      "/usr/local/lib64/python3.6/site-packages/sklearn/metrics/classification.py:1135: UndefinedMetricWarning: Precision is ill-defined and being set to 0.0 in labels with no predicted samples.\n",
      "  'precision', 'predicted', average, warn_for)\n",
      "/usr/local/lib64/python3.6/site-packages/sklearn/metrics/classification.py:1135: UndefinedMetricWarning: F-score is ill-defined and being set to 0.0 in labels with no predicted samples.\n",
      "  'precision', 'predicted', average, warn_for)\n",
      "/usr/local/lib64/python3.6/site-packages/sklearn/metrics/classification.py:1135: UndefinedMetricWarning: Precision is ill-defined and being set to 0.0 in labels with no predicted samples.\n",
      "  'precision', 'predicted', average, warn_for)\n",
      "/usr/local/lib64/python3.6/site-packages/sklearn/metrics/classification.py:1135: UndefinedMetricWarning: F-score is ill-defined and being set to 0.0 in labels with no predicted samples.\n",
      "  'precision', 'predicted', average, warn_for)\n",
      "/usr/local/lib64/python3.6/site-packages/sklearn/metrics/classification.py:1135: UndefinedMetricWarning: Precision is ill-defined and being set to 0.0 in labels with no predicted samples.\n",
      "  'precision', 'predicted', average, warn_for)\n",
      "/usr/local/lib64/python3.6/site-packages/sklearn/metrics/classification.py:1135: UndefinedMetricWarning: F-score is ill-defined and being set to 0.0 in labels with no predicted samples.\n",
      "  'precision', 'predicted', average, warn_for)\n",
      "/usr/local/lib64/python3.6/site-packages/sklearn/metrics/classification.py:1135: UndefinedMetricWarning: Precision is ill-defined and being set to 0.0 in labels with no predicted samples.\n",
      "  'precision', 'predicted', average, warn_for)\n",
      "/usr/local/lib64/python3.6/site-packages/sklearn/metrics/classification.py:1135: UndefinedMetricWarning: F-score is ill-defined and being set to 0.0 in labels with no predicted samples.\n",
      "  'precision', 'predicted', average, warn_for)\n",
      "/usr/local/lib64/python3.6/site-packages/sklearn/metrics/classification.py:1135: UndefinedMetricWarning: Precision is ill-defined and being set to 0.0 in labels with no predicted samples.\n",
      "  'precision', 'predicted', average, warn_for)\n",
      "/usr/local/lib64/python3.6/site-packages/sklearn/metrics/classification.py:1135: UndefinedMetricWarning: F-score is ill-defined and being set to 0.0 in labels with no predicted samples.\n",
      "  'precision', 'predicted', average, warn_for)\n",
      "/usr/local/lib64/python3.6/site-packages/sklearn/metrics/classification.py:1135: UndefinedMetricWarning: Precision is ill-defined and being set to 0.0 in labels with no predicted samples.\n",
      "  'precision', 'predicted', average, warn_for)\n",
      "/usr/local/lib64/python3.6/site-packages/sklearn/metrics/classification.py:1135: UndefinedMetricWarning: F-score is ill-defined and being set to 0.0 in labels with no predicted samples.\n",
      "  'precision', 'predicted', average, warn_for)\n",
      "/usr/local/lib64/python3.6/site-packages/sklearn/metrics/classification.py:1135: UndefinedMetricWarning: Precision is ill-defined and being set to 0.0 in labels with no predicted samples.\n",
      "  'precision', 'predicted', average, warn_for)\n",
      "/usr/local/lib64/python3.6/site-packages/sklearn/metrics/classification.py:1135: UndefinedMetricWarning: F-score is ill-defined and being set to 0.0 in labels with no predicted samples.\n",
      "  'precision', 'predicted', average, warn_for)\n"
     ]
    },
    {
     "name": "stderr",
     "output_type": "stream",
     "text": [
      "/usr/local/lib64/python3.6/site-packages/sklearn/metrics/classification.py:1135: UndefinedMetricWarning: Precision is ill-defined and being set to 0.0 in labels with no predicted samples.\n",
      "  'precision', 'predicted', average, warn_for)\n",
      "/usr/local/lib64/python3.6/site-packages/sklearn/metrics/classification.py:1135: UndefinedMetricWarning: F-score is ill-defined and being set to 0.0 in labels with no predicted samples.\n",
      "  'precision', 'predicted', average, warn_for)\n",
      "/usr/local/lib64/python3.6/site-packages/sklearn/metrics/classification.py:1135: UndefinedMetricWarning: Precision is ill-defined and being set to 0.0 in labels with no predicted samples.\n",
      "  'precision', 'predicted', average, warn_for)\n",
      "/usr/local/lib64/python3.6/site-packages/sklearn/metrics/classification.py:1135: UndefinedMetricWarning: F-score is ill-defined and being set to 0.0 in labels with no predicted samples.\n",
      "  'precision', 'predicted', average, warn_for)\n"
     ]
    }
   ],
   "source": [
    "scoring = {'acc': 'accuracy',\n",
    "           'precision': 'precision_macro',\n",
    "           'recall': 'recall_macro',\n",
    "           'f1_score' : 'f1_macro'}\n",
    "non_scores = cross_validate(svm_non, all_vect, y, scoring=scoring,\n",
    "                         cv=10, return_train_score=True)"
   ]
  },
  {
   "cell_type": "code",
   "execution_count": 75,
   "metadata": {},
   "outputs": [
    {
     "name": "stdout",
     "output_type": "stream",
     "text": [
      "dict_keys(['fit_time', 'score_time', 'test_acc', 'train_acc', 'test_precision', 'train_precision', 'test_recall', 'train_recall', 'test_f1_score', 'train_f1_score'])\n",
      "0.31088197489600444\n",
      "0.0345424416551116\n",
      "0.11111111111111112\n",
      "0.052696694701889334\n"
     ]
    }
   ],
   "source": [
    "print(non_scores.keys())\n",
    "print(non_scores['test_acc'].mean())\n",
    "print(non_scores['test_precision'].mean())\n",
    "print(non_scores['test_recall'].mean())\n",
    "print(non_scores['test_f1_score'].mean())"
   ]
  },
  {
   "cell_type": "code",
   "execution_count": 116,
   "metadata": {},
   "outputs": [
    {
     "name": "stdout",
     "output_type": "stream",
     "text": [
      "             precision    recall  f1-score   support\n",
      "\n",
      "          0       0.31      1.00      0.47       274\n",
      "          1       0.00      0.00      0.00        84\n",
      "          2       0.00      0.00      0.00        77\n",
      "          3       0.00      0.00      0.00        61\n",
      "          4       0.00      0.00      0.00        37\n",
      "          5       0.00      0.00      0.00        42\n",
      "          6       0.00      0.00      0.00        45\n",
      "          7       0.00      0.00      0.00        34\n",
      "          8       0.00      0.00      0.00       228\n",
      "\n",
      "avg / total       0.10      0.31      0.15       882\n",
      "\n"
     ]
    },
    {
     "name": "stderr",
     "output_type": "stream",
     "text": [
      "/anaconda3/lib/python3.6/site-packages/sklearn/metrics/classification.py:1135: UndefinedMetricWarning: Precision and F-score are ill-defined and being set to 0.0 in labels with no predicted samples.\n",
      "  'precision', 'predicted', average, warn_for)\n"
     ]
    }
   ],
   "source": [
    "#Use cross validation predict to make prediction on the entire dataset\n",
    "non_pred = cross_val_predict(svm_non, all_vect, y, cv=10)\n",
    "\n",
    "#Use classification report to get the precision & recall table, compare with prediction and actual labels\n",
    "print(classification_report(y,non_pred))"
   ]
  },
  {
   "cell_type": "code",
   "execution_count": null,
   "metadata": {},
   "outputs": [],
   "source": []
  },
  {
   "cell_type": "markdown",
   "metadata": {},
   "source": [
    "# Manipulating Labels"
   ]
  },
  {
   "cell_type": "code",
   "execution_count": 90,
   "metadata": {},
   "outputs": [
    {
     "data": {
      "text/html": [
       "<div>\n",
       "<style scoped>\n",
       "    .dataframe tbody tr th:only-of-type {\n",
       "        vertical-align: middle;\n",
       "    }\n",
       "\n",
       "    .dataframe tbody tr th {\n",
       "        vertical-align: top;\n",
       "    }\n",
       "\n",
       "    .dataframe thead th {\n",
       "        text-align: right;\n",
       "    }\n",
       "</style>\n",
       "<table border=\"1\" class=\"dataframe\">\n",
       "  <thead>\n",
       "    <tr style=\"text-align: right;\">\n",
       "      <th></th>\n",
       "      <th>ID</th>\n",
       "      <th>text</th>\n",
       "      <th>train</th>\n",
       "      <th>train_text</th>\n",
       "    </tr>\n",
       "    <tr>\n",
       "      <th>Label</th>\n",
       "      <th></th>\n",
       "      <th></th>\n",
       "      <th></th>\n",
       "      <th></th>\n",
       "    </tr>\n",
       "  </thead>\n",
       "  <tbody>\n",
       "    <tr>\n",
       "      <th>0</th>\n",
       "      <td>274</td>\n",
       "      <td>274</td>\n",
       "      <td>274</td>\n",
       "      <td>274</td>\n",
       "    </tr>\n",
       "    <tr>\n",
       "      <th>1</th>\n",
       "      <td>84</td>\n",
       "      <td>84</td>\n",
       "      <td>84</td>\n",
       "      <td>84</td>\n",
       "    </tr>\n",
       "    <tr>\n",
       "      <th>2</th>\n",
       "      <td>77</td>\n",
       "      <td>77</td>\n",
       "      <td>77</td>\n",
       "      <td>77</td>\n",
       "    </tr>\n",
       "    <tr>\n",
       "      <th>3</th>\n",
       "      <td>61</td>\n",
       "      <td>61</td>\n",
       "      <td>61</td>\n",
       "      <td>61</td>\n",
       "    </tr>\n",
       "    <tr>\n",
       "      <th>4</th>\n",
       "      <td>37</td>\n",
       "      <td>37</td>\n",
       "      <td>37</td>\n",
       "      <td>37</td>\n",
       "    </tr>\n",
       "    <tr>\n",
       "      <th>5</th>\n",
       "      <td>42</td>\n",
       "      <td>42</td>\n",
       "      <td>42</td>\n",
       "      <td>42</td>\n",
       "    </tr>\n",
       "    <tr>\n",
       "      <th>6</th>\n",
       "      <td>45</td>\n",
       "      <td>45</td>\n",
       "      <td>45</td>\n",
       "      <td>45</td>\n",
       "    </tr>\n",
       "    <tr>\n",
       "      <th>7</th>\n",
       "      <td>34</td>\n",
       "      <td>34</td>\n",
       "      <td>34</td>\n",
       "      <td>34</td>\n",
       "    </tr>\n",
       "    <tr>\n",
       "      <th>8</th>\n",
       "      <td>228</td>\n",
       "      <td>228</td>\n",
       "      <td>228</td>\n",
       "      <td>228</td>\n",
       "    </tr>\n",
       "  </tbody>\n",
       "</table>\n",
       "</div>"
      ],
      "text/plain": [
       "        ID  text  train  train_text\n",
       "Label                              \n",
       "0      274   274    274         274\n",
       "1       84    84     84          84\n",
       "2       77    77     77          77\n",
       "3       61    61     61          61\n",
       "4       37    37     37          37\n",
       "5       42    42     42          42\n",
       "6       45    45     45          45\n",
       "7       34    34     34          34\n",
       "8      228   228    228         228"
      ]
     },
     "execution_count": 90,
     "metadata": {},
     "output_type": "execute_result"
    }
   ],
   "source": [
    "#counting labels from original dataframe\n",
    "df.groupby('Label').count()"
   ]
  },
  {
   "cell_type": "code",
   "execution_count": 91,
   "metadata": {},
   "outputs": [],
   "source": [
    "#Create new dataframe that only contains label 0 & 8, both contains 74 labels each\n",
    "d1 = df[df['Label']==0].sample(74)\n",
    "d2 = df[df['Label']==8].sample(74)\n",
    "#Append them into a new dataframe\n",
    "d3 = d1.append(d2, ignore_index=True)"
   ]
  },
  {
   "cell_type": "code",
   "execution_count": 92,
   "metadata": {},
   "outputs": [],
   "source": [
    "#Create new dataframe that only contains label 1 to 7\n",
    "d4 = df[(df['Label'] != 0 ) & (df['Label'] != 8)]\n",
    "#Append them together\n",
    "ds = d4.append(d3, ignore_index=True)"
   ]
  },
  {
   "cell_type": "code",
   "execution_count": 93,
   "metadata": {},
   "outputs": [
    {
     "data": {
      "text/html": [
       "<div>\n",
       "<style scoped>\n",
       "    .dataframe tbody tr th:only-of-type {\n",
       "        vertical-align: middle;\n",
       "    }\n",
       "\n",
       "    .dataframe tbody tr th {\n",
       "        vertical-align: top;\n",
       "    }\n",
       "\n",
       "    .dataframe thead th {\n",
       "        text-align: right;\n",
       "    }\n",
       "</style>\n",
       "<table border=\"1\" class=\"dataframe\">\n",
       "  <thead>\n",
       "    <tr style=\"text-align: right;\">\n",
       "      <th></th>\n",
       "      <th>ID</th>\n",
       "      <th>text</th>\n",
       "      <th>train</th>\n",
       "      <th>train_text</th>\n",
       "    </tr>\n",
       "    <tr>\n",
       "      <th>Label</th>\n",
       "      <th></th>\n",
       "      <th></th>\n",
       "      <th></th>\n",
       "      <th></th>\n",
       "    </tr>\n",
       "  </thead>\n",
       "  <tbody>\n",
       "    <tr>\n",
       "      <th>0</th>\n",
       "      <td>74</td>\n",
       "      <td>74</td>\n",
       "      <td>74</td>\n",
       "      <td>74</td>\n",
       "    </tr>\n",
       "    <tr>\n",
       "      <th>1</th>\n",
       "      <td>84</td>\n",
       "      <td>84</td>\n",
       "      <td>84</td>\n",
       "      <td>84</td>\n",
       "    </tr>\n",
       "    <tr>\n",
       "      <th>2</th>\n",
       "      <td>77</td>\n",
       "      <td>77</td>\n",
       "      <td>77</td>\n",
       "      <td>77</td>\n",
       "    </tr>\n",
       "    <tr>\n",
       "      <th>3</th>\n",
       "      <td>61</td>\n",
       "      <td>61</td>\n",
       "      <td>61</td>\n",
       "      <td>61</td>\n",
       "    </tr>\n",
       "    <tr>\n",
       "      <th>4</th>\n",
       "      <td>37</td>\n",
       "      <td>37</td>\n",
       "      <td>37</td>\n",
       "      <td>37</td>\n",
       "    </tr>\n",
       "    <tr>\n",
       "      <th>5</th>\n",
       "      <td>42</td>\n",
       "      <td>42</td>\n",
       "      <td>42</td>\n",
       "      <td>42</td>\n",
       "    </tr>\n",
       "    <tr>\n",
       "      <th>6</th>\n",
       "      <td>45</td>\n",
       "      <td>45</td>\n",
       "      <td>45</td>\n",
       "      <td>45</td>\n",
       "    </tr>\n",
       "    <tr>\n",
       "      <th>7</th>\n",
       "      <td>34</td>\n",
       "      <td>34</td>\n",
       "      <td>34</td>\n",
       "      <td>34</td>\n",
       "    </tr>\n",
       "    <tr>\n",
       "      <th>8</th>\n",
       "      <td>74</td>\n",
       "      <td>74</td>\n",
       "      <td>74</td>\n",
       "      <td>74</td>\n",
       "    </tr>\n",
       "  </tbody>\n",
       "</table>\n",
       "</div>"
      ],
      "text/plain": [
       "       ID  text  train  train_text\n",
       "Label                             \n",
       "0      74    74     74          74\n",
       "1      84    84     84          84\n",
       "2      77    77     77          77\n",
       "3      61    61     61          61\n",
       "4      37    37     37          37\n",
       "5      42    42     42          42\n",
       "6      45    45     45          45\n",
       "7      34    34     34          34\n",
       "8      74    74     74          74"
      ]
     },
     "execution_count": 93,
     "metadata": {},
     "output_type": "execute_result"
    }
   ],
   "source": [
    "#Counting labels from the new dataframe\n",
    "ds.groupby('Label').count()"
   ]
  },
  {
   "cell_type": "code",
   "execution_count": 94,
   "metadata": {},
   "outputs": [],
   "source": [
    "#Randomize the whole dataframe\n",
    "ds = ds.sample(frac=1)"
   ]
  },
  {
   "cell_type": "code",
   "execution_count": 95,
   "metadata": {},
   "outputs": [],
   "source": [
    "#Set the target feature column as X1\n",
    "X1 = ds['train']\n",
    "y1 = ds['Label']"
   ]
  },
  {
   "cell_type": "code",
   "execution_count": 96,
   "metadata": {},
   "outputs": [
    {
     "data": {
      "text/plain": [
       "<528x1000 sparse matrix of type '<class 'numpy.float64'>'\n",
       "\twith 258131 stored elements in Compressed Sparse Row format>"
      ]
     },
     "execution_count": 96,
     "metadata": {},
     "output_type": "execute_result"
    }
   ],
   "source": [
    "##Computing new dimension of the document term matrix, whole dataset\n",
    "tfidf = TfidfVectorizer(max_features=1000, lowercase=True, analyzer='word',\n",
    "stop_words= 'english',ngram_range=(1,1))\n",
    "new_vect = tfidf.fit_transform(X1)\n",
    "new_vect"
   ]
  },
  {
   "cell_type": "code",
   "execution_count": null,
   "metadata": {},
   "outputs": [],
   "source": []
  },
  {
   "cell_type": "markdown",
   "metadata": {},
   "source": [
    "# Random Foest (New Data)"
   ]
  },
  {
   "cell_type": "code",
   "execution_count": 97,
   "metadata": {},
   "outputs": [],
   "source": [
    "RF = RF.fit(new_vect, ds['Label'])"
   ]
  },
  {
   "cell_type": "code",
   "execution_count": 83,
   "metadata": {},
   "outputs": [],
   "source": [
    "scoring = {'acc': 'accuracy',\n",
    "           'precision': 'precision_weighted',\n",
    "           'recall': 'recall_macro',\n",
    "           'f1_score' : 'f1_macro'}\n",
    "RF_scores = cross_validate(RF, new_vect, ds['Label'], scoring=scoring,\n",
    "                         cv=10, return_train_score=True)"
   ]
  },
  {
   "cell_type": "code",
   "execution_count": 84,
   "metadata": {},
   "outputs": [
    {
     "name": "stdout",
     "output_type": "stream",
     "text": [
      "dict_keys(['fit_time', 'score_time', 'test_acc', 'train_acc', 'test_precision', 'train_precision', 'test_recall', 'train_recall', 'test_f1_score', 'train_f1_score'])\n",
      "0.7034913120630075\n",
      "0.7456434025676554\n",
      "0.7136728395061729\n",
      "0.71916185270652\n"
     ]
    }
   ],
   "source": [
    "print(RF_scores.keys())\n",
    "print(RF_scores['test_acc'].mean())\n",
    "print(RF_scores['test_precision'].mean())\n",
    "print(RF_scores['test_recall'].mean())\n",
    "print(RF_scores['test_f1_score'].mean())"
   ]
  },
  {
   "cell_type": "code",
   "execution_count": 99,
   "metadata": {},
   "outputs": [
    {
     "name": "stdout",
     "output_type": "stream",
     "text": [
      "             precision    recall  f1-score   support\n",
      "\n",
      "          0       0.55      0.65      0.60        74\n",
      "          1       0.62      0.71      0.66        84\n",
      "          2       0.74      0.83      0.78        77\n",
      "          3       0.94      0.75      0.84        61\n",
      "          4       0.79      0.92      0.85        37\n",
      "          5       0.90      0.62      0.73        42\n",
      "          6       0.79      0.84      0.82        45\n",
      "          7       1.00      0.62      0.76        34\n",
      "          8       0.60      0.54      0.57        74\n",
      "\n",
      "avg / total       0.73      0.71      0.72       528\n",
      "\n"
     ]
    }
   ],
   "source": [
    "#Use cross validation predict to make prediction on the entire dataset\n",
    "RF_pred = cross_val_predict(RF, new_vect, y1, cv=10)\n",
    "\n",
    "#Use classification report to get the precision & recall table, compare with prediction and actual labels\n",
    "print(classification_report(y1,RF_pred))"
   ]
  },
  {
   "cell_type": "code",
   "execution_count": 125,
   "metadata": {},
   "outputs": [],
   "source": [
    "#Assign the prediction back to dataframe\n",
    "ds['RF_prediction'] = RF_pred"
   ]
  },
  {
   "cell_type": "code",
   "execution_count": 128,
   "metadata": {},
   "outputs": [
    {
     "data": {
      "text/html": [
       "<div>\n",
       "<style scoped>\n",
       "    .dataframe tbody tr th:only-of-type {\n",
       "        vertical-align: middle;\n",
       "    }\n",
       "\n",
       "    .dataframe tbody tr th {\n",
       "        vertical-align: top;\n",
       "    }\n",
       "\n",
       "    .dataframe thead th {\n",
       "        text-align: right;\n",
       "    }\n",
       "</style>\n",
       "<table border=\"1\" class=\"dataframe\">\n",
       "  <thead>\n",
       "    <tr style=\"text-align: right;\">\n",
       "      <th></th>\n",
       "      <th>ID</th>\n",
       "      <th>text</th>\n",
       "      <th>Label</th>\n",
       "      <th>train</th>\n",
       "      <th>train_text</th>\n",
       "    </tr>\n",
       "    <tr>\n",
       "      <th>RF_prediction</th>\n",
       "      <th></th>\n",
       "      <th></th>\n",
       "      <th></th>\n",
       "      <th></th>\n",
       "      <th></th>\n",
       "    </tr>\n",
       "  </thead>\n",
       "  <tbody>\n",
       "    <tr>\n",
       "      <th>0</th>\n",
       "      <td>87</td>\n",
       "      <td>87</td>\n",
       "      <td>87</td>\n",
       "      <td>87</td>\n",
       "      <td>87</td>\n",
       "    </tr>\n",
       "    <tr>\n",
       "      <th>1</th>\n",
       "      <td>97</td>\n",
       "      <td>97</td>\n",
       "      <td>97</td>\n",
       "      <td>97</td>\n",
       "      <td>97</td>\n",
       "    </tr>\n",
       "    <tr>\n",
       "      <th>2</th>\n",
       "      <td>87</td>\n",
       "      <td>87</td>\n",
       "      <td>87</td>\n",
       "      <td>87</td>\n",
       "      <td>87</td>\n",
       "    </tr>\n",
       "    <tr>\n",
       "      <th>3</th>\n",
       "      <td>49</td>\n",
       "      <td>49</td>\n",
       "      <td>49</td>\n",
       "      <td>49</td>\n",
       "      <td>49</td>\n",
       "    </tr>\n",
       "    <tr>\n",
       "      <th>4</th>\n",
       "      <td>43</td>\n",
       "      <td>43</td>\n",
       "      <td>43</td>\n",
       "      <td>43</td>\n",
       "      <td>43</td>\n",
       "    </tr>\n",
       "    <tr>\n",
       "      <th>5</th>\n",
       "      <td>29</td>\n",
       "      <td>29</td>\n",
       "      <td>29</td>\n",
       "      <td>29</td>\n",
       "      <td>29</td>\n",
       "    </tr>\n",
       "    <tr>\n",
       "      <th>6</th>\n",
       "      <td>48</td>\n",
       "      <td>48</td>\n",
       "      <td>48</td>\n",
       "      <td>48</td>\n",
       "      <td>48</td>\n",
       "    </tr>\n",
       "    <tr>\n",
       "      <th>7</th>\n",
       "      <td>21</td>\n",
       "      <td>21</td>\n",
       "      <td>21</td>\n",
       "      <td>21</td>\n",
       "      <td>21</td>\n",
       "    </tr>\n",
       "    <tr>\n",
       "      <th>8</th>\n",
       "      <td>67</td>\n",
       "      <td>67</td>\n",
       "      <td>67</td>\n",
       "      <td>67</td>\n",
       "      <td>67</td>\n",
       "    </tr>\n",
       "  </tbody>\n",
       "</table>\n",
       "</div>"
      ],
      "text/plain": [
       "               ID  text  Label  train  train_text\n",
       "RF_prediction                                    \n",
       "0              87    87     87     87          87\n",
       "1              97    97     97     97          97\n",
       "2              87    87     87     87          87\n",
       "3              49    49     49     49          49\n",
       "4              43    43     43     43          43\n",
       "5              29    29     29     29          29\n",
       "6              48    48     48     48          48\n",
       "7              21    21     21     21          21\n",
       "8              67    67     67     67          67"
      ]
     },
     "execution_count": 128,
     "metadata": {},
     "output_type": "execute_result"
    }
   ],
   "source": [
    "#Count the prediction labels\n",
    "ds.groupby('RF_prediction').count()"
   ]
  },
  {
   "cell_type": "code",
   "execution_count": 127,
   "metadata": {},
   "outputs": [
    {
     "data": {
      "text/html": [
       "<div>\n",
       "<style scoped>\n",
       "    .dataframe tbody tr th:only-of-type {\n",
       "        vertical-align: middle;\n",
       "    }\n",
       "\n",
       "    .dataframe tbody tr th {\n",
       "        vertical-align: top;\n",
       "    }\n",
       "\n",
       "    .dataframe thead th {\n",
       "        text-align: right;\n",
       "    }\n",
       "</style>\n",
       "<table border=\"1\" class=\"dataframe\">\n",
       "  <thead>\n",
       "    <tr style=\"text-align: right;\">\n",
       "      <th></th>\n",
       "      <th>ID</th>\n",
       "      <th>text</th>\n",
       "      <th>train</th>\n",
       "      <th>train_text</th>\n",
       "      <th>RF_prediction</th>\n",
       "    </tr>\n",
       "    <tr>\n",
       "      <th>Label</th>\n",
       "      <th></th>\n",
       "      <th></th>\n",
       "      <th></th>\n",
       "      <th></th>\n",
       "      <th></th>\n",
       "    </tr>\n",
       "  </thead>\n",
       "  <tbody>\n",
       "    <tr>\n",
       "      <th>0</th>\n",
       "      <td>74</td>\n",
       "      <td>74</td>\n",
       "      <td>74</td>\n",
       "      <td>74</td>\n",
       "      <td>74</td>\n",
       "    </tr>\n",
       "    <tr>\n",
       "      <th>1</th>\n",
       "      <td>84</td>\n",
       "      <td>84</td>\n",
       "      <td>84</td>\n",
       "      <td>84</td>\n",
       "      <td>84</td>\n",
       "    </tr>\n",
       "    <tr>\n",
       "      <th>2</th>\n",
       "      <td>77</td>\n",
       "      <td>77</td>\n",
       "      <td>77</td>\n",
       "      <td>77</td>\n",
       "      <td>77</td>\n",
       "    </tr>\n",
       "    <tr>\n",
       "      <th>3</th>\n",
       "      <td>61</td>\n",
       "      <td>61</td>\n",
       "      <td>61</td>\n",
       "      <td>61</td>\n",
       "      <td>61</td>\n",
       "    </tr>\n",
       "    <tr>\n",
       "      <th>4</th>\n",
       "      <td>37</td>\n",
       "      <td>37</td>\n",
       "      <td>37</td>\n",
       "      <td>37</td>\n",
       "      <td>37</td>\n",
       "    </tr>\n",
       "    <tr>\n",
       "      <th>5</th>\n",
       "      <td>42</td>\n",
       "      <td>42</td>\n",
       "      <td>42</td>\n",
       "      <td>42</td>\n",
       "      <td>42</td>\n",
       "    </tr>\n",
       "    <tr>\n",
       "      <th>6</th>\n",
       "      <td>45</td>\n",
       "      <td>45</td>\n",
       "      <td>45</td>\n",
       "      <td>45</td>\n",
       "      <td>45</td>\n",
       "    </tr>\n",
       "    <tr>\n",
       "      <th>7</th>\n",
       "      <td>34</td>\n",
       "      <td>34</td>\n",
       "      <td>34</td>\n",
       "      <td>34</td>\n",
       "      <td>34</td>\n",
       "    </tr>\n",
       "    <tr>\n",
       "      <th>8</th>\n",
       "      <td>74</td>\n",
       "      <td>74</td>\n",
       "      <td>74</td>\n",
       "      <td>74</td>\n",
       "      <td>74</td>\n",
       "    </tr>\n",
       "  </tbody>\n",
       "</table>\n",
       "</div>"
      ],
      "text/plain": [
       "       ID  text  train  train_text  RF_prediction\n",
       "Label                                            \n",
       "0      74    74     74          74             74\n",
       "1      84    84     84          84             84\n",
       "2      77    77     77          77             77\n",
       "3      61    61     61          61             61\n",
       "4      37    37     37          37             37\n",
       "5      42    42     42          42             42\n",
       "6      45    45     45          45             45\n",
       "7      34    34     34          34             34\n",
       "8      74    74     74          74             74"
      ]
     },
     "execution_count": 127,
     "metadata": {},
     "output_type": "execute_result"
    }
   ],
   "source": [
    "#Count the actual labels\n",
    "ds.groupby('Label').count()"
   ]
  },
  {
   "cell_type": "code",
   "execution_count": null,
   "metadata": {},
   "outputs": [],
   "source": []
  },
  {
   "cell_type": "markdown",
   "metadata": {},
   "source": [
    "# Gradient Boost (New Data)"
   ]
  },
  {
   "cell_type": "code",
   "execution_count": 85,
   "metadata": {},
   "outputs": [
    {
     "data": {
      "text/plain": [
       "GradientBoostingClassifier(criterion='friedman_mse', init=None,\n",
       "              learning_rate=0.25, loss='deviance', max_depth=3,\n",
       "              max_features=None, max_leaf_nodes=None,\n",
       "              min_impurity_decrease=0.0, min_impurity_split=None,\n",
       "              min_samples_leaf=1, min_samples_split=2,\n",
       "              min_weight_fraction_leaf=0.0, n_estimators=100,\n",
       "              presort='auto', random_state=None, subsample=1.0, verbose=0,\n",
       "              warm_start=False)"
      ]
     },
     "execution_count": 85,
     "metadata": {},
     "output_type": "execute_result"
    }
   ],
   "source": [
    "GB.fit(new_vect, ds['Label'])"
   ]
  },
  {
   "cell_type": "code",
   "execution_count": 86,
   "metadata": {},
   "outputs": [],
   "source": [
    "scoring = {'acc': 'accuracy',\n",
    "           'precision': 'precision_weighted',\n",
    "           'recall': 'recall_macro',\n",
    "           'f1_score' : 'f1_macro'}\n",
    "GB_scores = cross_validate(GB, new_vect, ds['Label'], scoring=scoring,\n",
    "                         cv=10, return_train_score=True)"
   ]
  },
  {
   "cell_type": "code",
   "execution_count": 87,
   "metadata": {},
   "outputs": [
    {
     "name": "stdout",
     "output_type": "stream",
     "text": [
      "dict_keys(['fit_time', 'score_time', 'test_acc', 'train_acc', 'test_precision', 'train_precision', 'test_recall', 'train_recall', 'test_f1_score', 'train_f1_score'])\n",
      "0.6545179428744834\n",
      "0.678007583152839\n",
      "0.687067901234568\n",
      "0.6818498041537258\n"
     ]
    }
   ],
   "source": [
    "print(GB_scores.keys())\n",
    "print(GB_scores['test_acc'].mean())\n",
    "print(GB_scores['test_precision'].mean())\n",
    "print(GB_scores['test_recall'].mean())\n",
    "print(GB_scores['test_f1_score'].mean())"
   ]
  },
  {
   "cell_type": "code",
   "execution_count": 117,
   "metadata": {},
   "outputs": [
    {
     "name": "stdout",
     "output_type": "stream",
     "text": [
      "             precision    recall  f1-score   support\n",
      "\n",
      "          0       0.54      0.61      0.57        74\n",
      "          1       0.68      0.63      0.65        84\n",
      "          2       0.69      0.68      0.68        77\n",
      "          3       0.89      0.80      0.84        61\n",
      "          4       0.76      0.86      0.81        37\n",
      "          5       0.70      0.67      0.68        42\n",
      "          6       0.85      0.76      0.80        45\n",
      "          7       0.77      0.79      0.78        34\n",
      "          8       0.48      0.51      0.50        74\n",
      "\n",
      "avg / total       0.69      0.68      0.68       528\n",
      "\n"
     ]
    }
   ],
   "source": [
    "#Use cross validation predict to make prediction on the entire dataset\n",
    "GB_pred = cross_val_predict(GB, new_vect, y1, cv=10)\n",
    "\n",
    "#Use classification report to get the precision & recall table, compare with prediction and actual labels\n",
    "print(classification_report(y1,GB_pred))"
   ]
  },
  {
   "cell_type": "code",
   "execution_count": null,
   "metadata": {},
   "outputs": [],
   "source": []
  },
  {
   "cell_type": "markdown",
   "metadata": {},
   "source": [
    "# Naive Bayes (New Data)"
   ]
  },
  {
   "cell_type": "code",
   "execution_count": 88,
   "metadata": {},
   "outputs": [],
   "source": [
    "clf = MultinomialNB().fit(new_vect, ds['Label'])"
   ]
  },
  {
   "cell_type": "code",
   "execution_count": 89,
   "metadata": {},
   "outputs": [
    {
     "name": "stderr",
     "output_type": "stream",
     "text": [
      "/usr/local/lib64/python3.6/site-packages/sklearn/metrics/classification.py:1135: UndefinedMetricWarning: Precision is ill-defined and being set to 0.0 in labels with no predicted samples.\n",
      "  'precision', 'predicted', average, warn_for)\n",
      "/usr/local/lib64/python3.6/site-packages/sklearn/metrics/classification.py:1135: UndefinedMetricWarning: F-score is ill-defined and being set to 0.0 in labels with no predicted samples.\n",
      "  'precision', 'predicted', average, warn_for)\n",
      "/usr/local/lib64/python3.6/site-packages/sklearn/metrics/classification.py:1135: UndefinedMetricWarning: Precision is ill-defined and being set to 0.0 in labels with no predicted samples.\n",
      "  'precision', 'predicted', average, warn_for)\n",
      "/usr/local/lib64/python3.6/site-packages/sklearn/metrics/classification.py:1135: UndefinedMetricWarning: F-score is ill-defined and being set to 0.0 in labels with no predicted samples.\n",
      "  'precision', 'predicted', average, warn_for)\n"
     ]
    }
   ],
   "source": [
    "scoring = {'acc': 'accuracy',\n",
    "           'precision': 'precision_weighted',\n",
    "           'recall': 'recall_macro',\n",
    "           'f1_score' : 'f1_macro'}\n",
    "NB_scores = cross_validate(clf, new_vect, ds['Label'], scoring=scoring,\n",
    "                         cv=10, return_train_score=True)"
   ]
  },
  {
   "cell_type": "code",
   "execution_count": 90,
   "metadata": {},
   "outputs": [
    {
     "name": "stdout",
     "output_type": "stream",
     "text": [
      "dict_keys(['fit_time', 'score_time', 'test_acc', 'train_acc', 'test_precision', 'train_precision', 'test_recall', 'train_recall', 'test_f1_score', 'train_f1_score'])\n",
      "0.630537844064053\n",
      "0.6502291986570286\n",
      "0.6463756613756614\n",
      "0.638160909933615\n"
     ]
    }
   ],
   "source": [
    "print(NB_scores.keys())\n",
    "print(NB_scores['test_acc'].mean())\n",
    "print(NB_scores['test_precision'].mean())\n",
    "print(NB_scores['test_recall'].mean())\n",
    "print(NB_scores['test_f1_score'].mean())"
   ]
  },
  {
   "cell_type": "code",
   "execution_count": 118,
   "metadata": {},
   "outputs": [
    {
     "name": "stdout",
     "output_type": "stream",
     "text": [
      "             precision    recall  f1-score   support\n",
      "\n",
      "          0       0.61      0.36      0.46        74\n",
      "          1       0.55      0.79      0.65        84\n",
      "          2       0.48      0.81      0.60        77\n",
      "          3       0.80      0.77      0.78        61\n",
      "          4       0.83      0.68      0.75        37\n",
      "          5       0.81      0.69      0.74        42\n",
      "          6       0.70      0.82      0.76        45\n",
      "          7       0.95      0.56      0.70        34\n",
      "          8       0.50      0.26      0.34        74\n",
      "\n",
      "avg / total       0.65      0.63      0.61       528\n",
      "\n"
     ]
    }
   ],
   "source": [
    "#Use cross validation predict to make prediction on the entire dataset\n",
    "NB_pred = cross_val_predict(clf, new_vect, y1, cv=10)\n",
    "\n",
    "#Use classification report to get the precision & recall table, compare with prediction and actual labels\n",
    "print(classification_report(y1,NB_pred))"
   ]
  },
  {
   "cell_type": "code",
   "execution_count": null,
   "metadata": {},
   "outputs": [],
   "source": []
  },
  {
   "cell_type": "markdown",
   "metadata": {},
   "source": [
    "# KNN (New Data)"
   ]
  },
  {
   "cell_type": "code",
   "execution_count": 91,
   "metadata": {},
   "outputs": [],
   "source": [
    "modelknn = KNeighborsClassifier(n_neighbors=5).fit(new_vect, ds['Label'])"
   ]
  },
  {
   "cell_type": "code",
   "execution_count": 92,
   "metadata": {},
   "outputs": [
    {
     "name": "stderr",
     "output_type": "stream",
     "text": [
      "/usr/local/lib64/python3.6/site-packages/sklearn/metrics/classification.py:1135: UndefinedMetricWarning: Precision is ill-defined and being set to 0.0 in labels with no predicted samples.\n",
      "  'precision', 'predicted', average, warn_for)\n",
      "/usr/local/lib64/python3.6/site-packages/sklearn/metrics/classification.py:1135: UndefinedMetricWarning: F-score is ill-defined and being set to 0.0 in labels with no predicted samples.\n",
      "  'precision', 'predicted', average, warn_for)\n"
     ]
    }
   ],
   "source": [
    "scoring = {'acc': 'accuracy',\n",
    "           'precision': 'precision_weighted',\n",
    "           'recall': 'recall_macro',\n",
    "           'f1_score' : 'f1_macro'}\n",
    "KNN_scores = cross_validate(modelknn, new_vect, ds['Label'], scoring=scoring,\n",
    "                         cv=10, return_train_score=True)"
   ]
  },
  {
   "cell_type": "code",
   "execution_count": 93,
   "metadata": {},
   "outputs": [
    {
     "name": "stdout",
     "output_type": "stream",
     "text": [
      "dict_keys(['fit_time', 'score_time', 'test_acc', 'train_acc', 'test_precision', 'train_precision', 'test_recall', 'train_recall', 'test_f1_score', 'train_f1_score'])\n",
      "0.602845444334372\n",
      "0.5826921379998932\n",
      "0.6566754850088183\n",
      "0.609897356589823\n"
     ]
    }
   ],
   "source": [
    "print(KNN_scores.keys())\n",
    "print(KNN_scores['test_acc'].mean())\n",
    "print(KNN_scores['test_precision'].mean())\n",
    "print(KNN_scores['test_recall'].mean())\n",
    "print(KNN_scores['test_f1_score'].mean())"
   ]
  },
  {
   "cell_type": "code",
   "execution_count": 119,
   "metadata": {},
   "outputs": [
    {
     "name": "stdout",
     "output_type": "stream",
     "text": [
      "             precision    recall  f1-score   support\n",
      "\n",
      "          0       0.53      0.38      0.44        74\n",
      "          1       0.55      0.67      0.61        84\n",
      "          2       0.52      0.58      0.55        77\n",
      "          3       0.78      0.80      0.79        61\n",
      "          4       0.61      0.73      0.67        37\n",
      "          5       0.61      0.93      0.74        42\n",
      "          6       0.67      0.91      0.77        45\n",
      "          7       0.71      0.79      0.75        34\n",
      "          8       0.39      0.09      0.15        74\n",
      "\n",
      "avg / total       0.58      0.60      0.57       528\n",
      "\n"
     ]
    }
   ],
   "source": [
    "#Use cross validation predict to make prediction on the entire dataset\n",
    "KNN_pred = cross_val_predict(modelknn, new_vect, y1, cv=10)\n",
    "\n",
    "#Use classification report to get the precision & recall table, compare with prediction and actual labels\n",
    "print(classification_report(y1,KNN_pred))"
   ]
  },
  {
   "cell_type": "code",
   "execution_count": null,
   "metadata": {},
   "outputs": [],
   "source": []
  },
  {
   "cell_type": "markdown",
   "metadata": {},
   "source": [
    "# SVM Linear (New Data)"
   ]
  },
  {
   "cell_type": "code",
   "execution_count": 94,
   "metadata": {},
   "outputs": [],
   "source": [
    "svm_clf=SVC(kernel=\"linear\").fit(new_vect,ds['Label'])"
   ]
  },
  {
   "cell_type": "code",
   "execution_count": 95,
   "metadata": {},
   "outputs": [],
   "source": [
    "scoring = {'acc': 'accuracy',\n",
    "           'precision': 'precision_weighted',\n",
    "           'recall': 'recall_macro',\n",
    "           'f1_score' : 'f1_macro'}\n",
    "SVM_scores = cross_validate(svm_clf, new_vect, ds['Label'], scoring=scoring,\n",
    "                         cv=10, return_train_score=True)"
   ]
  },
  {
   "cell_type": "code",
   "execution_count": 96,
   "metadata": {},
   "outputs": [
    {
     "name": "stdout",
     "output_type": "stream",
     "text": [
      "dict_keys(['fit_time', 'score_time', 'test_acc', 'train_acc', 'test_precision', 'train_precision', 'test_recall', 'train_recall', 'test_f1_score', 'train_f1_score'])\n",
      "0.7012225153917494\n",
      "0.7206748198846014\n",
      "0.7282451499118167\n",
      "0.7254074115710943\n"
     ]
    }
   ],
   "source": [
    "print(SVM_scores.keys())\n",
    "print(SVM_scores['test_acc'].mean())\n",
    "print(SVM_scores['test_precision'].mean())\n",
    "print(SVM_scores['test_recall'].mean())\n",
    "print(SVM_scores['test_f1_score'].mean())"
   ]
  },
  {
   "cell_type": "code",
   "execution_count": 120,
   "metadata": {},
   "outputs": [
    {
     "name": "stdout",
     "output_type": "stream",
     "text": [
      "             precision    recall  f1-score   support\n",
      "\n",
      "          0       0.59      0.66      0.62        74\n",
      "          1       0.67      0.71      0.69        84\n",
      "          2       0.68      0.64      0.66        77\n",
      "          3       0.86      0.82      0.84        61\n",
      "          4       0.79      0.89      0.84        37\n",
      "          5       0.73      0.79      0.76        42\n",
      "          6       0.80      0.87      0.83        45\n",
      "          7       0.87      0.79      0.83        34\n",
      "          8       0.61      0.49      0.54        74\n",
      "\n",
      "avg / total       0.71      0.71      0.71       528\n",
      "\n"
     ]
    }
   ],
   "source": [
    "#Use cross validation predict to make prediction on the entire dataset\n",
    "SVM_pred = cross_val_predict(svm_clf, new_vect, y1, cv=10)\n",
    "\n",
    "#Use classification report to get the precision & recall table, compare with prediction and actual labels\n",
    "print(classification_report(y1,SVM_pred))"
   ]
  },
  {
   "cell_type": "code",
   "execution_count": null,
   "metadata": {},
   "outputs": [],
   "source": []
  },
  {
   "cell_type": "markdown",
   "metadata": {},
   "source": [
    "# SVM Non-Linear (New Data)"
   ]
  },
  {
   "cell_type": "code",
   "execution_count": 97,
   "metadata": {},
   "outputs": [],
   "source": [
    "svm_non=SVC(kernel=\"rbf\",cache_size=1,class_weight={1:2}).fit(new_vect,ds['Label'])"
   ]
  },
  {
   "cell_type": "code",
   "execution_count": 98,
   "metadata": {
    "collapsed": true
   },
   "outputs": [
    {
     "name": "stderr",
     "output_type": "stream",
     "text": [
      "/usr/local/lib64/python3.6/site-packages/sklearn/metrics/classification.py:1135: UndefinedMetricWarning: Precision is ill-defined and being set to 0.0 in labels with no predicted samples.\n",
      "  'precision', 'predicted', average, warn_for)\n",
      "/usr/local/lib64/python3.6/site-packages/sklearn/metrics/classification.py:1135: UndefinedMetricWarning: F-score is ill-defined and being set to 0.0 in labels with no predicted samples.\n",
      "  'precision', 'predicted', average, warn_for)\n",
      "/usr/local/lib64/python3.6/site-packages/sklearn/metrics/classification.py:1135: UndefinedMetricWarning: Precision is ill-defined and being set to 0.0 in labels with no predicted samples.\n",
      "  'precision', 'predicted', average, warn_for)\n",
      "/usr/local/lib64/python3.6/site-packages/sklearn/metrics/classification.py:1135: UndefinedMetricWarning: F-score is ill-defined and being set to 0.0 in labels with no predicted samples.\n",
      "  'precision', 'predicted', average, warn_for)\n",
      "/usr/local/lib64/python3.6/site-packages/sklearn/metrics/classification.py:1135: UndefinedMetricWarning: Precision is ill-defined and being set to 0.0 in labels with no predicted samples.\n",
      "  'precision', 'predicted', average, warn_for)\n",
      "/usr/local/lib64/python3.6/site-packages/sklearn/metrics/classification.py:1135: UndefinedMetricWarning: F-score is ill-defined and being set to 0.0 in labels with no predicted samples.\n",
      "  'precision', 'predicted', average, warn_for)\n",
      "/usr/local/lib64/python3.6/site-packages/sklearn/metrics/classification.py:1135: UndefinedMetricWarning: Precision is ill-defined and being set to 0.0 in labels with no predicted samples.\n",
      "  'precision', 'predicted', average, warn_for)\n",
      "/usr/local/lib64/python3.6/site-packages/sklearn/metrics/classification.py:1135: UndefinedMetricWarning: F-score is ill-defined and being set to 0.0 in labels with no predicted samples.\n",
      "  'precision', 'predicted', average, warn_for)\n",
      "/usr/local/lib64/python3.6/site-packages/sklearn/metrics/classification.py:1135: UndefinedMetricWarning: Precision is ill-defined and being set to 0.0 in labels with no predicted samples.\n",
      "  'precision', 'predicted', average, warn_for)\n",
      "/usr/local/lib64/python3.6/site-packages/sklearn/metrics/classification.py:1135: UndefinedMetricWarning: F-score is ill-defined and being set to 0.0 in labels with no predicted samples.\n",
      "  'precision', 'predicted', average, warn_for)\n",
      "/usr/local/lib64/python3.6/site-packages/sklearn/metrics/classification.py:1135: UndefinedMetricWarning: Precision is ill-defined and being set to 0.0 in labels with no predicted samples.\n",
      "  'precision', 'predicted', average, warn_for)\n",
      "/usr/local/lib64/python3.6/site-packages/sklearn/metrics/classification.py:1135: UndefinedMetricWarning: F-score is ill-defined and being set to 0.0 in labels with no predicted samples.\n",
      "  'precision', 'predicted', average, warn_for)\n",
      "/usr/local/lib64/python3.6/site-packages/sklearn/metrics/classification.py:1135: UndefinedMetricWarning: Precision is ill-defined and being set to 0.0 in labels with no predicted samples.\n",
      "  'precision', 'predicted', average, warn_for)\n",
      "/usr/local/lib64/python3.6/site-packages/sklearn/metrics/classification.py:1135: UndefinedMetricWarning: F-score is ill-defined and being set to 0.0 in labels with no predicted samples.\n",
      "  'precision', 'predicted', average, warn_for)\n",
      "/usr/local/lib64/python3.6/site-packages/sklearn/metrics/classification.py:1135: UndefinedMetricWarning: Precision is ill-defined and being set to 0.0 in labels with no predicted samples.\n",
      "  'precision', 'predicted', average, warn_for)\n",
      "/usr/local/lib64/python3.6/site-packages/sklearn/metrics/classification.py:1135: UndefinedMetricWarning: F-score is ill-defined and being set to 0.0 in labels with no predicted samples.\n",
      "  'precision', 'predicted', average, warn_for)\n",
      "/usr/local/lib64/python3.6/site-packages/sklearn/metrics/classification.py:1135: UndefinedMetricWarning: Precision is ill-defined and being set to 0.0 in labels with no predicted samples.\n",
      "  'precision', 'predicted', average, warn_for)\n",
      "/usr/local/lib64/python3.6/site-packages/sklearn/metrics/classification.py:1135: UndefinedMetricWarning: F-score is ill-defined and being set to 0.0 in labels with no predicted samples.\n",
      "  'precision', 'predicted', average, warn_for)\n",
      "/usr/local/lib64/python3.6/site-packages/sklearn/metrics/classification.py:1135: UndefinedMetricWarning: Precision is ill-defined and being set to 0.0 in labels with no predicted samples.\n",
      "  'precision', 'predicted', average, warn_for)\n",
      "/usr/local/lib64/python3.6/site-packages/sklearn/metrics/classification.py:1135: UndefinedMetricWarning: F-score is ill-defined and being set to 0.0 in labels with no predicted samples.\n",
      "  'precision', 'predicted', average, warn_for)\n",
      "/usr/local/lib64/python3.6/site-packages/sklearn/metrics/classification.py:1135: UndefinedMetricWarning: Precision is ill-defined and being set to 0.0 in labels with no predicted samples.\n",
      "  'precision', 'predicted', average, warn_for)\n",
      "/usr/local/lib64/python3.6/site-packages/sklearn/metrics/classification.py:1135: UndefinedMetricWarning: F-score is ill-defined and being set to 0.0 in labels with no predicted samples.\n",
      "  'precision', 'predicted', average, warn_for)\n",
      "/usr/local/lib64/python3.6/site-packages/sklearn/metrics/classification.py:1135: UndefinedMetricWarning: Precision is ill-defined and being set to 0.0 in labels with no predicted samples.\n",
      "  'precision', 'predicted', average, warn_for)\n",
      "/usr/local/lib64/python3.6/site-packages/sklearn/metrics/classification.py:1135: UndefinedMetricWarning: F-score is ill-defined and being set to 0.0 in labels with no predicted samples.\n",
      "  'precision', 'predicted', average, warn_for)\n",
      "/usr/local/lib64/python3.6/site-packages/sklearn/metrics/classification.py:1135: UndefinedMetricWarning: Precision is ill-defined and being set to 0.0 in labels with no predicted samples.\n",
      "  'precision', 'predicted', average, warn_for)\n",
      "/usr/local/lib64/python3.6/site-packages/sklearn/metrics/classification.py:1135: UndefinedMetricWarning: F-score is ill-defined and being set to 0.0 in labels with no predicted samples.\n",
      "  'precision', 'predicted', average, warn_for)\n",
      "/usr/local/lib64/python3.6/site-packages/sklearn/metrics/classification.py:1135: UndefinedMetricWarning: Precision is ill-defined and being set to 0.0 in labels with no predicted samples.\n",
      "  'precision', 'predicted', average, warn_for)\n",
      "/usr/local/lib64/python3.6/site-packages/sklearn/metrics/classification.py:1135: UndefinedMetricWarning: F-score is ill-defined and being set to 0.0 in labels with no predicted samples.\n",
      "  'precision', 'predicted', average, warn_for)\n",
      "/usr/local/lib64/python3.6/site-packages/sklearn/metrics/classification.py:1135: UndefinedMetricWarning: Precision is ill-defined and being set to 0.0 in labels with no predicted samples.\n",
      "  'precision', 'predicted', average, warn_for)\n",
      "/usr/local/lib64/python3.6/site-packages/sklearn/metrics/classification.py:1135: UndefinedMetricWarning: F-score is ill-defined and being set to 0.0 in labels with no predicted samples.\n",
      "  'precision', 'predicted', average, warn_for)\n",
      "/usr/local/lib64/python3.6/site-packages/sklearn/metrics/classification.py:1135: UndefinedMetricWarning: Precision is ill-defined and being set to 0.0 in labels with no predicted samples.\n",
      "  'precision', 'predicted', average, warn_for)\n",
      "/usr/local/lib64/python3.6/site-packages/sklearn/metrics/classification.py:1135: UndefinedMetricWarning: F-score is ill-defined and being set to 0.0 in labels with no predicted samples.\n",
      "  'precision', 'predicted', average, warn_for)\n",
      "/usr/local/lib64/python3.6/site-packages/sklearn/metrics/classification.py:1135: UndefinedMetricWarning: Precision is ill-defined and being set to 0.0 in labels with no predicted samples.\n",
      "  'precision', 'predicted', average, warn_for)\n",
      "/usr/local/lib64/python3.6/site-packages/sklearn/metrics/classification.py:1135: UndefinedMetricWarning: F-score is ill-defined and being set to 0.0 in labels with no predicted samples.\n",
      "  'precision', 'predicted', average, warn_for)\n",
      "/usr/local/lib64/python3.6/site-packages/sklearn/metrics/classification.py:1135: UndefinedMetricWarning: Precision is ill-defined and being set to 0.0 in labels with no predicted samples.\n",
      "  'precision', 'predicted', average, warn_for)\n",
      "/usr/local/lib64/python3.6/site-packages/sklearn/metrics/classification.py:1135: UndefinedMetricWarning: F-score is ill-defined and being set to 0.0 in labels with no predicted samples.\n",
      "  'precision', 'predicted', average, warn_for)\n"
     ]
    },
    {
     "name": "stderr",
     "output_type": "stream",
     "text": [
      "/usr/local/lib64/python3.6/site-packages/sklearn/metrics/classification.py:1135: UndefinedMetricWarning: Precision is ill-defined and being set to 0.0 in labels with no predicted samples.\n",
      "  'precision', 'predicted', average, warn_for)\n",
      "/usr/local/lib64/python3.6/site-packages/sklearn/metrics/classification.py:1135: UndefinedMetricWarning: F-score is ill-defined and being set to 0.0 in labels with no predicted samples.\n",
      "  'precision', 'predicted', average, warn_for)\n",
      "/usr/local/lib64/python3.6/site-packages/sklearn/metrics/classification.py:1135: UndefinedMetricWarning: Precision is ill-defined and being set to 0.0 in labels with no predicted samples.\n",
      "  'precision', 'predicted', average, warn_for)\n",
      "/usr/local/lib64/python3.6/site-packages/sklearn/metrics/classification.py:1135: UndefinedMetricWarning: F-score is ill-defined and being set to 0.0 in labels with no predicted samples.\n",
      "  'precision', 'predicted', average, warn_for)\n"
     ]
    }
   ],
   "source": [
    "scoring = {'acc': 'accuracy',\n",
    "           'precision': 'precision_weighted',\n",
    "           'recall': 'recall_macro',\n",
    "           'f1_score' : 'f1_macro'}\n",
    "NON_scores = cross_validate(svm_non, new_vect, ds['Label'], scoring=scoring,\n",
    "                         cv=10, return_train_score=True)"
   ]
  },
  {
   "cell_type": "code",
   "execution_count": 99,
   "metadata": {},
   "outputs": [
    {
     "name": "stdout",
     "output_type": "stream",
     "text": [
      "dict_keys(['fit_time', 'score_time', 'test_acc', 'train_acc', 'test_precision', 'train_precision', 'test_recall', 'train_recall', 'test_f1_score', 'train_f1_score'])\n",
      "0.1591863284473359\n",
      "0.025351455039253217\n",
      "0.11111111111111112\n",
      "0.030515277268575898\n"
     ]
    }
   ],
   "source": [
    "print(NON_scores.keys())\n",
    "print(NON_scores['test_acc'].mean())\n",
    "print(NON_scores['test_precision'].mean())\n",
    "print(NON_scores['test_recall'].mean())\n",
    "print(NON_scores['test_f1_score'].mean())"
   ]
  },
  {
   "cell_type": "code",
   "execution_count": 121,
   "metadata": {},
   "outputs": [
    {
     "name": "stdout",
     "output_type": "stream",
     "text": [
      "             precision    recall  f1-score   support\n",
      "\n",
      "          0       0.00      0.00      0.00        74\n",
      "          1       0.16      1.00      0.27        84\n",
      "          2       0.00      0.00      0.00        77\n",
      "          3       0.00      0.00      0.00        61\n",
      "          4       0.00      0.00      0.00        37\n",
      "          5       0.00      0.00      0.00        42\n",
      "          6       0.00      0.00      0.00        45\n",
      "          7       0.00      0.00      0.00        34\n",
      "          8       0.00      0.00      0.00        74\n",
      "\n",
      "avg / total       0.03      0.16      0.04       528\n",
      "\n"
     ]
    },
    {
     "name": "stderr",
     "output_type": "stream",
     "text": [
      "/anaconda3/lib/python3.6/site-packages/sklearn/metrics/classification.py:1135: UndefinedMetricWarning: Precision and F-score are ill-defined and being set to 0.0 in labels with no predicted samples.\n",
      "  'precision', 'predicted', average, warn_for)\n"
     ]
    }
   ],
   "source": [
    "#Use cross validation predict to make prediction on the entire dataset\n",
    "NON_pred = cross_val_predict(svm_non, new_vect, y1, cv=10)\n",
    "\n",
    "#Use classification report to get the precision & recall table, compare with prediction and actual labels\n",
    "print(classification_report(y1,NON_pred))"
   ]
  },
  {
   "cell_type": "code",
   "execution_count": null,
   "metadata": {},
   "outputs": [],
   "source": []
  },
  {
   "cell_type": "code",
   "execution_count": null,
   "metadata": {},
   "outputs": [],
   "source": []
  }
 ],
 "metadata": {
  "kernelspec": {
   "display_name": "Python 3",
   "language": "python",
   "name": "python3"
  },
  "language_info": {
   "codemirror_mode": {
    "name": "ipython",
    "version": 3
   },
   "file_extension": ".py",
   "mimetype": "text/x-python",
   "name": "python",
   "nbconvert_exporter": "python",
   "pygments_lexer": "ipython3",
   "version": "3.6.8"
  }
 },
 "nbformat": 4,
 "nbformat_minor": 2
}
